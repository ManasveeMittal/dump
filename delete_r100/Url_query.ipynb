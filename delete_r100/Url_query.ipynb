{
 "cells": [
  {
   "cell_type": "code",
   "execution_count": 2,
   "metadata": {
    "collapsed": true
   },
   "outputs": [],
   "source": [
    "try:\n",
    "    import pandas as pd\n",
    "    import re\n",
    "    from google import search\n",
    "except ImportError: \n",
    "    print(\"module not found\")"
   ]
  },
  {
   "cell_type": "code",
   "execution_count": 3,
   "metadata": {
    "collapsed": false
   },
   "outputs": [
    {
     "name": "stderr",
     "output_type": "stream",
     "text": [
      "/home/manavee/anaconda3/lib/python3.6/site-packages/ipykernel/__main__.py:1: ParserWarning: Falling back to the 'python' engine because the 'c' engine does not support regex separators (separators > 1 char and different from '\\s+' are interpreted as regex); you can avoid this warning by specifying engine='python'.\n",
      "  if __name__ == '__main__':\n"
     ]
    }
   ],
   "source": [
    "companies = pd.read_csv('./company.list',sep='3948738295836',header=None,names=['raw_name'])"
   ]
  },
  {
   "cell_type": "code",
   "execution_count": null,
   "metadata": {
    "collapsed": false
   },
   "outputs": [],
   "source": [
    "companies.head(5)"
   ]
  },
  {
   "cell_type": "code",
   "execution_count": 4,
   "metadata": {
    "collapsed": false
   },
   "outputs": [
    {
     "name": "stdout",
     "output_type": "stream",
     "text": [
      "WalmartLabs India\n",
      "L&T Technology.Services Limited\n"
     ]
    }
   ],
   "source": [
    "import re\n",
    "def clean1(val):\n",
    "    return re.sub(r'([^\\s\\&\\.\\w]|_)+', '',val)\n",
    "\n",
    "print(clean1('@WalmartLabs India'))\n",
    "print(re.sub(r'([^\\s\\&\\.\\w]|_)+', '','@L&T Technology.Services Limited'))"
   ]
  },
  {
   "cell_type": "code",
   "execution_count": 5,
   "metadata": {
    "collapsed": false
   },
   "outputs": [],
   "source": [
    "df = companies"
   ]
  },
  {
   "cell_type": "code",
   "execution_count": 6,
   "metadata": {
    "collapsed": false
   },
   "outputs": [
    {
     "data": {
      "text/plain": [
       "'https://www.religarehealthinsurance.com/'"
      ]
     },
     "execution_count": 6,
     "metadata": {},
     "output_type": "execute_result"
    }
   ],
   "source": [
    "def first_result(query,error_output='bad luck'):\n",
    "    try:\n",
    "        result=next(search(query, tld=\"co.in\", num=1, stop=1, pause=2))\n",
    "    except:\n",
    "        result=error_output\n",
    "    return result\n",
    "first_result('RELIGARE HEALTH INSURANCE (RHI)')"
   ]
  },
  {
   "cell_type": "code",
   "execution_count": 7,
   "metadata": {
    "collapsed": false
   },
   "outputs": [],
   "source": [
    "df['clean_name'] =df['raw_name'].apply(clean1)"
   ]
  },
  {
   "cell_type": "code",
   "execution_count": null,
   "metadata": {
    "collapsed": true
   },
   "outputs": [],
   "source": [
    "df['top_query_result'] = ''\n",
    "# df['clean_name'].apply(first_result)"
   ]
  },
  {
   "cell_type": "code",
   "execution_count": null,
   "metadata": {
    "collapsed": false
   },
   "outputs": [],
   "source": [
    "df['top_query_result'] = df['clean_name'].apply(first_result)"
   ]
  },
  {
   "cell_type": "code",
   "execution_count": null,
   "metadata": {
    "collapsed": false
   },
   "outputs": [],
   "source": [
    "df.head(10)"
   ]
  },
  {
   "cell_type": "code",
   "execution_count": 9,
   "metadata": {
    "collapsed": false
   },
   "outputs": [],
   "source": [
    "l = list(df['clean_name'])"
   ]
  },
  {
   "cell_type": "code",
   "execution_count": 11,
   "metadata": {
    "collapsed": false
   },
   "outputs": [
    {
     "name": "stdout",
     "output_type": "stream",
     "text": [
      "WalmartLabs India\n",
      "BigTapp Pte Ltd\n",
      "1mg\n",
      "3LOQ\n",
      "3LOQ Labs private Limited\n",
      "ASTAR  Agency for Science Technology and Research\n",
      "A2Z Jobs Consultancy\n",
      "Aaum Research and Analytics Pvt Ltd\n",
      "Abacus Market Analytics Division of IMRB International\n",
      "ABB\n"
     ]
    }
   ],
   "source": [
    "temp=[]\n",
    "for elem in l[:10]:\n",
    "    try:\n",
    "        print(elem)\n",
    "        temp.append(first_result(elem))\n",
    "    except:\n",
    "        print('bad luck')\n",
    "        "
   ]
  },
  {
   "cell_type": "code",
   "execution_count": 12,
   "metadata": {
    "collapsed": false
   },
   "outputs": [
    {
     "name": "stdout",
     "output_type": "stream",
     "text": [
      "Absolutdata Analytics\n",
      "Abzooba\n",
      "AcadGild\n",
      "Accelya\n",
      "Accenture\n",
      "Accenture Analytics\n",
      "Accenture Bangalore\n",
      "Accenture in India\n",
      "Accion Labs\n",
      "Acrowit Technologies\n"
     ]
    }
   ],
   "source": [
    "for elem in l[10:20]:\n",
    "    try:\n",
    "        print(elem)\n",
    "        temp.append(first_result(elem))\n",
    "    except:\n",
    "        print('bad luck')"
   ]
  },
  {
   "cell_type": "code",
   "execution_count": 13,
   "metadata": {
    "collapsed": false
   },
   "outputs": [
    {
     "name": "stdout",
     "output_type": "stream",
     "text": [
      "ActuaryExamTutor.com\n",
      "Aditya Birla Finance Limited\n",
      "Adobe\n",
      "ADP\n",
      "Adroit Health Solutions\n",
      "Aecon Group Inc.\n",
      "Aegis School of Business Data Science Cyber Security and Telecommunication\n",
      "Aganitha Cognitive Solutions\n",
      "AgricxLab\n",
      "Aidata.Me\n",
      "AIG\n",
      "AIP and FDP TCS\n",
      "Al Noor Training Centre for Children with Special Needs\n",
      "AlgoJi\n",
      "Algoscale Inc.\n",
      "Alliance Manchester Business School\n",
      "Allianz Insurance\n",
      "Allianz Worldwide Partners\n",
      "Allstate\n",
      "Amazon\n"
     ]
    }
   ],
   "source": [
    "for elem in l[20:40]:\n",
    "    try:\n",
    "        print(elem)\n",
    "        temp.append(first_result(elem))\n",
    "    except:\n",
    "        print('bad luck')"
   ]
  },
  {
   "cell_type": "code",
   "execution_count": 14,
   "metadata": {
    "collapsed": false
   },
   "outputs": [
    {
     "name": "stdout",
     "output_type": "stream",
     "text": [
      "Amazon Web Services\n",
      "AmberTAG Analytics\n",
      "American Express\n",
      "Anakin Management Consultants Pvt Ltd\n",
      "Analytics Insight\n",
      "Analytics Vidhya\n",
      "analyticstechtalk.com\n",
      "AnalytixLabs\n",
      "Analyztec\n",
      "Anamind Business Consulting Pvt Ltd\n",
      "Anand Rathi Financial Services Limited\n",
      "Anham\n",
      "AnheuserBusch InBev\n",
      "Antal India\n",
      "Antuit\n",
      "Aon\n",
      "Aon Hewitt\n",
      "AppLift\n",
      "Arcesium\n",
      "Aricent\n",
      "Arya.ai\n",
      "Ashok Leyland\n",
      "Aspiring Minds\n",
      "AthenaSoft\n",
      "Atom360\n",
      "avagmah.com\n",
      "AWC Software Pvt. Ltd.  India\n",
      "AXA\n",
      "AXA business Services\n",
      "AXA Business Services Pvt. Ltd\n"
     ]
    }
   ],
   "source": [
    "for elem in l[40:70]:\n",
    "    try:\n",
    "        print(elem)\n",
    "        temp.append(first_result(elem))\n",
    "    except:\n",
    "        print('bad luck')"
   ]
  },
  {
   "cell_type": "code",
   "execution_count": 15,
   "metadata": {
    "collapsed": false
   },
   "outputs": [
    {
     "name": "stdout",
     "output_type": "stream",
     "text": [
      "AXA Insurance Gulf\n",
      "AXA Winterthur\n",
      "Axis Bank\n",
      "Axsiom\n",
      "Backoffice24\n",
      "Bajaj Allianz Life Insurance Co. Ltd.\n",
      "Bajaj Finserv\n",
      "BancTec\n",
      "Bank of America\n",
      "Barclays\n",
      "Barclays Investment Bank\n",
      "Barclays Technology Center India\n",
      "BB OIL SERVICES LIMITED\n",
      "BBVA Continental\n",
      "BBVA Data & Analytics\n",
      "Begapt Tech Solutions Pvt Ltd\n",
      "Bennett Coleman and Co. Ltd. Times Group  Times Professional Learning Division\n",
      "Bharat Institute of Technology\n",
      "Bharti Airtel Limited\n",
      "Bharti AXA Life Insurance\n",
      "Bhujang Innovations\n",
      "BIOSOL AV Chennai\n",
      "bixware technologies\n",
      "BlewMinds  Believe. Be. Beyond\n",
      "BNY Mellon\n",
      "Brandeis University\n",
      "BRIDGEi2i Analytics Solutions\n",
      "Broadridge\n",
      "BuzzHire\n",
      "C1X Inc.\n"
     ]
    }
   ],
   "source": [
    "for elem in l[70:100]:\n",
    "    try:\n",
    "        print(elem)\n",
    "        temp.append(first_result(elem))\n",
    "    except:\n",
    "        print('bad luck')"
   ]
  },
  {
   "cell_type": "code",
   "execution_count": 16,
   "metadata": {
    "collapsed": false
   },
   "outputs": [
    {
     "name": "stdout",
     "output_type": "stream",
     "text": [
      "Camelport Logistics\n",
      "CanGo Networks\n",
      "Capgemini\n",
      "Capital One\n",
      "Caterpillar Inc.\n",
      "Catholic Church Insurance CCI\n",
      "CEAT Tyres Limited\n",
      "Cerner Corporation\n",
      "ChicMic\n",
      "ChiSquare Consultants Pvt.Ltd\n",
      "Cisco\n",
      "Citi\n",
      "Cloud.in\n",
      "CocaCola Bottling Co. Consolidated\n",
      "CodeNation\n",
      "Cognizant\n",
      "cognizant technology solutions\n",
      "Comet Lab\n",
      "Concentrix\n",
      "Confianz Information Technologies\n",
      "Confidential\n",
      "Consultant\n",
      "Convergytics Solutions Pvt. Ltd.\n",
      "Cornerstone OnDemand\n",
      "Cotiviti\n",
      "Credence HR Services\n",
      "Credit Suisse\n",
      "Crisp Analytics\n",
      "Cuddle.ai\n",
      "Customer Centria\n",
      "CutShort\n",
      "CVS Health\n",
      "Cyient Insights\n",
      "Cyient Ltd.\n",
      "Cytel\n",
      "D. E. SHAW INDIA PRIVATE LIMITED\n",
      "Dainik Bhaskar Group दनक भसकर\n",
      "DarkMatter LLC\n",
      "Data Pro Recruiter\n",
      "DataCamp\n",
      "Datametica Solutions Private Limited\n",
      "DataRPM\n",
      "DataScribble\n",
      "DataScribble.com\n",
      "Decimal Point Analytics\n",
      "Decision Minds\n",
      "DecisivEdge LLC\n",
      "deeplearning.ai\n",
      "Delhi Transco Ltd.\n",
      "Dell Services\n"
     ]
    }
   ],
   "source": [
    "for elem in l[100:150]:\n",
    "    try:\n",
    "        print(elem)\n",
    "        temp.append(first_result(elem))\n",
    "    except:\n",
    "        print('bad luck')"
   ]
  },
  {
   "cell_type": "code",
   "execution_count": 17,
   "metadata": {
    "collapsed": false
   },
   "outputs": [
    {
     "name": "stdout",
     "output_type": "stream",
     "text": [
      "Deloitte\n",
      "Deloitte India Offices of the US\n",
      "DemandMatrix Inc\n",
      "Desjardins\n",
      "DexLab Analytics\n",
      "Digital Lync\n",
      "Digital Vidya\n",
      "DigiVue Consulting\n",
      "DMI Finance Private Limited\n",
      "DNA ENTERTAINMENT NETWORKS LTD.\n",
      "DreamBegins.com\n",
      "Driver\n",
      "DSP Eminence Consulting Services\n",
      "dunzo.in\n",
      "DXC Technology\n",
      "DynPro Inc.\n",
      "eClerx\n",
      "ECM CLASSES\n",
      "EconSchool\n",
      "Edelweiss Tokio Life Insurance\n",
      "EdGE Networks Pvt. Ltd.\n",
      "EliteRecruitments\n",
      "Elogic²\n",
      "EminenceSoft\n",
      "Emplay Inc.\n",
      "Encryption Technology  India\n",
      "Ensign Services\n",
      "EPAM Systems\n",
      "Ephesoft Inc.\n",
      "Episource LLC\n",
      "EquinoxIT\n",
      "Ericsson\n",
      "Ernst & Young\n",
      "Exadatum\n",
      "EXL\n",
      "Exzeo\n",
      "EY\n",
      "Ezra Penland Actuarial Recruitment\n",
      "Factspan Inc\n",
      "Factspan Inc.\n",
      "Fareportal\n",
      "FedEx\n",
      "Fidelity Investments\n",
      "Fizara India\n",
      "FlexiLoans\n",
      "Flipkart\n",
      "Fly High Recruitment Solution\n",
      "Fractal Analytics\n",
      "Franklin Templeton Investments\n",
      "Freelance\n"
     ]
    }
   ],
   "source": [
    "for elem in l[150:200]:\n",
    "    try:\n",
    "        print(elem)\n",
    "        temp.append(first_result(elem))\n",
    "    except:\n",
    "        print('bad luck')"
   ]
  },
  {
   "cell_type": "code",
   "execution_count": 18,
   "metadata": {
    "collapsed": false
   },
   "outputs": [
    {
     "name": "stdout",
     "output_type": "stream",
     "text": [
      "Freelancer\n",
      "Freshdesk\n",
      "FUJITSU CONSULTING LIMITED\n",
      "Future Generali India Insurance Company Limited\n",
      "Gainsight\n",
      "Gartner\n",
      "GE\n",
      "GE Digital\n",
      "General Electric GE\n",
      "General Mills\n",
      "GENPACT\n",
      "Genpact Smart Decision Labs  Analytics & Research\n",
      "Geocaching HQ\n",
      "GlobalData Plc\n",
      "Goeventz\n",
      "Gokhale Institute of Politics & Economics Pune\n",
      "Goldman Sachs\n",
      "Goldstone Technologies Limited\n",
      "Google\n",
      "Government of India\n",
      "GrabOn\n",
      "GreyAtom\n",
      "GTL Limited\n",
      "H.R. Software Solutions Pvt.Ltd.\n",
      "H&G Innovations\n",
      "Harman Connected Services Corporation India Pvt. Ltd.\n",
      "Hays\n",
      "HCL Technologies\n",
      "HCL Technologies Infrastructure Services Division\n",
      "HDB Financial Services Ltd.\n",
      "HDFC Bank\n",
      "HDFC ERGO General Insurance\n",
      "HDFC Life\n",
      "Health Care Access LLC\n",
      "HealthifyMe\n",
      "Hewlett Packard Enterprise\n",
      "HewlettPackard\n",
      "Hexaconcepts\n",
      "Hexaware Technologies\n",
      "Hilti Group\n",
      "Himanshu Durga & Co.\n",
      "HireaJackal\n",
      "Honeywell\n",
      "Hong Kong and Shanghai Banking Corporation HSBC\n",
      "HOSPITECH HEALTHCARE CONSULTANCY\n",
      "HP\n",
      "HSBC\n",
      "HuQuo\n",
      "IBM\n",
      "Ibnox\n"
     ]
    }
   ],
   "source": [
    "for elem in l[200:250]:\n",
    "    try:\n",
    "        print(elem)\n",
    "        temp.append(first_result(elem))\n",
    "    except:\n",
    "        print('bad luck')"
   ]
  },
  {
   "cell_type": "code",
   "execution_count": 19,
   "metadata": {
    "collapsed": false
   },
   "outputs": [
    {
     "name": "stdout",
     "output_type": "stream",
     "text": [
      "IBTimes Services Pvt. Ltd.\n",
      "IceCream Labs\n",
      "ICICI Bank\n",
      "ICRA\n",
      "IDFC ASSET MNGT CO. PVT. LTD.\n",
      "IDFC Bank\n",
      "Iksula\n",
      "Impact Business Solutions Delhi\n",
      "IMS Health\n",
      "Indian Association of Medical Microbiologists\n",
      "Indian Institute of Science\n",
      "Indian Institute of Sugarcane Research\n",
      "Indian Institute of Technology Bombay\n",
      "Indian Institute of Technology Delhi\n",
      "IndusInd Bank\n",
      "infoAnalytica Inc.\n",
      "Informatica\n",
      "Infosys\n",
      "Infotech Global Inc.\n",
      "InfraHedge Ltd\n",
      "InnovAccer\n",
      "InsideView Inc\n",
      "Institute for Development and Research in Banking Technology IDRBT\n",
      "Institute of actuaries of India\n",
      "Institute of Actuaries of India\n",
      "Institute Of Analytics USA\n",
      "Insurance Information Bureau of India\n",
      "Intel Corporation\n",
      "Intelletec\n",
      "Interactions LLC\n",
      "intern at cdac pune\n",
      "International Institute of Information Technology  Bangalore\n",
      "Internshala\n",
      "Irage Broking Services LLP\n",
      "IT Tech associate in Sapient\n",
      "Iteanz Technologies India Pvt. Ltd.\n",
      "IYKRA  Industry Knowledge Credential\n",
      "IZiel Healthcare\n",
      "Jal Bhagirathi Foundation\n",
      "Jardine Lloyd Thompson India JLT India\n",
      "Jet Synthesys Pvt Ltd\n",
      "JetSynthesys Pvt. Ltd.\n",
      "JHHBL\n",
      "JPMorgan Chase & Co.\n",
      "Karvy Analytics Limited\n",
      "Kedia Associates\n",
      "Khosla Labs\n",
      "Koenig Solutions Ltd.\n",
      "Kogentix Inc.\n",
      "Kotak Mahindra Bank\n"
     ]
    }
   ],
   "source": [
    "for elem in l[250:300]:\n",
    "    try:\n",
    "        print(elem)\n",
    "        temp.append(first_result(elem))\n",
    "    except:\n",
    "        print('bad luck')"
   ]
  },
  {
   "cell_type": "code",
   "execution_count": 20,
   "metadata": {
    "collapsed": false
   },
   "outputs": [
    {
     "name": "stdout",
     "output_type": "stream",
     "text": [
      "Kotak Mahindra Old Mutual Life Insurance\n",
      "KPAC KP Actuaries and Consultants\n",
      "KPMG\n",
      "KPMG India\n",
      "Kraftly\n",
      "L&T Technology Services Limited\n",
      "Larsen & Toubro Infotech Ltd.\n",
      "Last moment tuitions\n",
      "LatentView Analytics\n",
      "Leading Investment Bank  Confidential\n",
      "Leoforce\n",
      "Liberty Mutual Insurance\n",
      "Liberty Videocon General Insurance\n",
      "Life and Specialty Ventures LLC\n",
      "LimeTray\n",
      "LinkedIn\n",
      "LiquidHub\n",
      "LogicRoots Pvt Ltd\n",
      "Lybrate\n",
      "Machine Learning Mastery\n",
      "MachinePulse\n",
      "Maersk Line\n",
      "MAGXP\n",
      "Manikaran Power Ltd.\n",
      "Mantra Infratech Pvt. Ltd.\n",
      "Marlabs Inc.\n",
      "Mastercard\n",
      "Mawdoo3.com\n",
      "Max Life Insurance Company Limited\n",
      "McKinsey & Company\n",
      "MeaningBot\n",
      "Media firm\n",
      "Media iQ Digital Ltd\n",
      "MediaTek\n",
      "MercedesBenz Research and Development India\n",
      "Mercer\n",
      "MetLife\n",
      "Metlife Global Operations Support Center\n",
      "MetLife GOSC\n",
      "Michigan State University\n",
      "Microsoft\n",
      "Milliman India Pvt Limited\n",
      "Millionet Impex\n",
      "Mindworks Group\n",
      "MintZip\n",
      "MNGHA\n",
      "MobileCoderz Technologies Private Limited\n",
      "Modak Analytics\n",
      "Model N\n",
      "Moodys Analytics Knowledge Services\n"
     ]
    }
   ],
   "source": [
    "for elem in l[300:350]:\n",
    "    try:\n",
    "        print(elem)\n",
    "        temp.append(first_result(elem))\n",
    "    except:\n",
    "        print('bad luck')"
   ]
  },
  {
   "cell_type": "code",
   "execution_count": 21,
   "metadata": {
    "collapsed": false
   },
   "outputs": [
    {
     "name": "stdout",
     "output_type": "stream",
     "text": [
      "Moonfrog Labs\n",
      "Mu Sigma Inc.\n",
      "myCol\n",
      "myDigitalBlocks\n",
      "Myntra\n",
      "Nagarro\n",
      "Nair Classes\n",
      "Nash Ventures\n",
      "National Institute of Public Finance and Policy New Delhi\n",
      "Neustar Inc.\n",
      "NextGen Technology Limited\n",
      "Nicholas Actuarial Solutions\n",
      "Nielsen\n",
      "Niki.ai\n",
      "NorthOut\n",
      "NovoTree Minds Consulting Private Limited\n",
      "Nuevora\n",
      "NVIDIA\n",
      "Oil and Natural Gas Corporation Ltd\n",
      "Oklahoma State University\n",
      "On a short sabbatical\n",
      "Ondot System Inc.\n",
      "OpenText\n",
      "OPTA Information Intelligence\n",
      "Oracle\n",
      "PacsysHire  Eagles Eye on Tech Talent\n",
      "Param.ai\n",
      "Pasaay Associates\n",
      "PayPal\n",
      "PayZello\n",
      "Pentation Analytics\n",
      "Petrofac\n",
      "Pexitics.com\n",
      "PharmEasy\n",
      "Phenom People\n",
      "Philips\n",
      "Philips Innovation Services\n",
      "Pierian Data Inc.\n",
      "Pine Labs\n",
      "Pivotchain Solutions\n",
      "Play Games24x7 Private Limited\n",
      "Practo\n",
      "Predible Health\n",
      "ProArch\n",
      "Procter & Gamble\n",
      "Projects\n",
      "Prudential Assurance\n",
      "PTI Paradigm Technologies Inc.\n",
      "Public Sector Unit Govt. of India Undertaking\n",
      "Purplle.com\n"
     ]
    }
   ],
   "source": [
    "for elem in l[350:400]:\n",
    "    try:\n",
    "        print(elem)\n",
    "        temp.append(first_result(elem))\n",
    "    except:\n",
    "        print('bad luck')"
   ]
  },
  {
   "cell_type": "code",
   "execution_count": 22,
   "metadata": {
    "collapsed": false
   },
   "outputs": [
    {
     "name": "stdout",
     "output_type": "stream",
     "text": [
      "PwC\n",
      "PwC India\n",
      "Quadratic Insights Pvt. Ltd.\n",
      "Quadratyx Insights Pvt. Ltd.\n",
      "Quadrisk Advisors Private Limited\n",
      "Qualcomm\n",
      "Quanticate\n",
      "Quantiphi Inc.\n",
      "Quess Corp Limited\n",
      "Quintiles\n",
      "Quora\n",
      "Qure.ai\n",
      "Ramsoft Technologies Pvt. Ltd.\n",
      "Randstad\n",
      "Randstad India\n",
      "Rang Technologies Inc\n",
      "RapidValue\n",
      "RBL Bank\n",
      "RBS\n",
      "Reinsurance Group of America Incorporated\n",
      "Relevance Lab\n",
      "Reliance\n",
      "RELIGARE HEALTH INSURANCE RHI\n",
      "RentoMojo\n",
      "Resilinc\n",
      "Retail Sector\n",
      "Rinalytics Advisors\n",
      "RMS\n",
      "Rolta India Limited\n",
      "Royal Bank of Scotland\n",
      "RSG Solutions pvt ltd\n",
      "S&P Global\n",
      "SAIOM INDIA CONSULTING\n",
      "Samsung Electronics\n",
      "SAP\n",
      "SayOne Technologies\n",
      "SC Beauty Network Pte Ltd\n",
      "Schedulicity\n",
      "Scienaptic Systems\n",
      "ScoopWhoop Media Pvt. Ltd.\n",
      "SCube Software  Systems Llp\n",
      "Searce Inc\n",
      "Self employed\n",
      "Selfemployed\n",
      "SelfEmployed\n",
      "SH Square Consultants\n",
      "Shiksha.com\n",
      "Shriram Life Insurance\n",
      "Shroff Publishers and Distributors Pvt Ltd\n",
      "SimplyNaukri.In\n"
     ]
    }
   ],
   "source": [
    "for elem in l[400:450]:\n",
    "    try:\n",
    "        print(elem)\n",
    "        temp.append(first_result(elem))\n",
    "    except:\n",
    "        print('bad luck')"
   ]
  },
  {
   "cell_type": "code",
   "execution_count": 23,
   "metadata": {
    "collapsed": false
   },
   "outputs": [
    {
     "name": "stdout",
     "output_type": "stream",
     "text": [
      "Singapore Airlines\n",
      "SITA\n",
      "Smartgraphe.com\n",
      "Snapdeal\n",
      "Sonata Software\n",
      "Soroco Pvt Ltd\n",
      "Squad\n",
      "SQUAREROOT\n",
      "Standard Chartered Bank\n",
      "Star Health and Allied Insurance Co. Ltd\n",
      "STMicroelectronics\n",
      "Strategify Analytics\n",
      "Subex Ltd\n",
      "Sutherland Global Services\n",
      "Swiss Re\n",
      "Symphony Technology Group\n",
      "Synchrony Financial\n",
      "Systel\n",
      "Talentica Software\n",
      "Tambora Systems\n",
      "Target\n",
      "Taskera\n",
      "Tata Consultancy Services\n",
      "Tata Steel Ltd.\n",
      "Tata Technologies\n",
      "Tatras Data\n",
      "Tech Mahindra\n",
      "Tech Observer\n",
      "Techaxis Inc\n",
      "Technology Tools Innovations\n",
      "Technosoft Corp.\n",
      "Teleperformance\n",
      "TerraBlue XT\n",
      "The Actuarial Club\n",
      "The Boston Consulting Group BCG\n",
      "The New India Assurance Co. Ltd.\n",
      "ThoughtWorks\n",
      "Tiger Analytics\n",
      "Tigermed India Data Solutions Pvt. Ltd.\n",
      "Times Internet\n",
      "Toastmasters Club IMI New Delhi\n",
      "Tracxn\n",
      "Transparency Market Research Pvt. Ltd.\n",
      "Treasury Secretary of Ceará\n",
      "Tredence\n",
      "Trilogy Education Services\n",
      "Uber\n",
      "Unisys India\n",
      "United Health Group\n",
      "UnitedHealth Group\n"
     ]
    }
   ],
   "source": [
    "for elem in l[450:500]:\n",
    "    try:\n",
    "        print(elem)\n",
    "        temp.append(first_result(elem))\n",
    "    except:\n",
    "        print('bad luck')"
   ]
  },
  {
   "cell_type": "code",
   "execution_count": 24,
   "metadata": {
    "collapsed": false
   },
   "outputs": [
    {
     "name": "stdout",
     "output_type": "stream",
     "text": [
      "University of Cincinnati\n",
      "University of Hyderabad\n",
      "University of Oxford\n",
      "University of Petroleum and Energy Studies\n",
      "Unlimited Exposure Online\n",
      "VSquared Data Strategy Consulting\n",
      "various  fintech healthcare and IoT\n",
      "Vayam The Performing Arts Society\n",
      "Verizon\n",
      "Vidya Prakashan Mandir Ltd\n",
      "Vipany Management Consulting Pvt Ltd\n",
      "Virtualware Innovations I Pvt Ltd\n",
      "Visible Alpha\n",
      "Visual IQ Inc. a Nielsen company\n",
      "VMware\n",
      "vPhrase\n",
      "Vuclip Inc.\n",
      "Walmart Global eCommerce\n",
      "Way2Online Interactive India Pvt. Ltd.\n",
      "WE Investments\n",
      "wegravit\n",
      "Wells Fargo\n",
      "Whodat\n",
      "Willis\n",
      "Willis Towers Watson\n",
      "Willis Towers Watson India\n",
      "Windstream\n",
      "WINHMS by Winsar Infosoft Pvt Ltd\n",
      "Wipro\n",
      "Wipro Limited\n",
      "Wizely\n",
      "WNS  Research & Analytics Marketics\n",
      "WNS Global Services\n",
      "Xcede\n",
      "Xiaomi Technology\n",
      "XL Catlin\n",
      "XL Dynamics India Pvt. Ltd.\n",
      "XL Group plc\n",
      "XWiki\n",
      "Yottaasys\n",
      "Your CompanyResearch Group\n",
      "Zapr Media Labs\n",
      "Zealeers Technologies Pvt Ltd\n",
      "Zenvet\n",
      "ZestMoney\n",
      "Zippr\n",
      "Zoho Corporation\n",
      "Zomato\n",
      "ZS\n"
     ]
    }
   ],
   "source": [
    "for elem in l[500:]:\n",
    "    try:\n",
    "        print(elem)\n",
    "        temp.append(first_result(elem))\n",
    "    except:\n",
    "        print('bad luck')"
   ]
  },
  {
   "cell_type": "code",
   "execution_count": null,
   "metadata": {
    "collapsed": false
   },
   "outputs": [],
   "source": [
    "result_stage1 =df[df.top_query_result != 'bad luck']\n",
    "result_stage1"
   ]
  },
  {
   "cell_type": "code",
   "execution_count": null,
   "metadata": {
    "collapsed": false
   },
   "outputs": [],
   "source": [
    "input_stage2 =df[df.top_query_result == 'bad luck']\n",
    "output_stage2['top_query_result'] = input_stage2['clean_name'].apply(first_result)\n",
    "# output_stage2=input_stage2"
   ]
  },
  {
   "cell_type": "code",
   "execution_count": null,
   "metadata": {
    "collapsed": false
   },
   "outputs": [],
   "source": [
    "print(df.iloc.__doc__)"
   ]
  },
  {
   "cell_type": "code",
   "execution_count": null,
   "metadata": {
    "collapsed": true
   },
   "outputs": [],
   "source": [
    "df_1 = df.iloc[0:50]\n",
    "df_2 = df.iloc[50:100]\n",
    "df_3 = df.iloc[100:150]\n",
    "df_4 = df.iloc[150:200]\n",
    "df_5 = df.iloc[200:250]\n",
    "df_6 = df.iloc[250:300]\n",
    "df_7 = df.iloc[300:350]\n",
    "df_8 = df.iloc[450:400]\n",
    "df_9 = df.iloc[400:450]\n"
   ]
  },
  {
   "cell_type": "code",
   "execution_count": 29,
   "metadata": {
    "collapsed": false
   },
   "outputs": [],
   "source": [
    "companies_url = pd.DataFrame(temp, columns=['base_url'])"
   ]
  },
  {
   "cell_type": "code",
   "execution_count": 30,
   "metadata": {
    "collapsed": false
   },
   "outputs": [
    {
     "data": {
      "text/html": [
       "<div>\n",
       "<table border=\"1\" class=\"dataframe\">\n",
       "  <thead>\n",
       "    <tr style=\"text-align: right;\">\n",
       "      <th></th>\n",
       "      <th>base_url</th>\n",
       "    </tr>\n",
       "  </thead>\n",
       "  <tbody>\n",
       "    <tr>\n",
       "      <th>500</th>\n",
       "      <td>http://www.uc.edu/</td>\n",
       "    </tr>\n",
       "    <tr>\n",
       "      <th>501</th>\n",
       "      <td>https://www.uohyd.ac.in/</td>\n",
       "    </tr>\n",
       "    <tr>\n",
       "      <th>502</th>\n",
       "      <td>http://www.ox.ac.uk/</td>\n",
       "    </tr>\n",
       "    <tr>\n",
       "      <th>503</th>\n",
       "      <td>http://www.upes.ac.in/</td>\n",
       "    </tr>\n",
       "    <tr>\n",
       "      <th>504</th>\n",
       "      <td>http://unlimitedexposure.com/</td>\n",
       "    </tr>\n",
       "    <tr>\n",
       "      <th>505</th>\n",
       "      <td>http://v2ds.com/</td>\n",
       "    </tr>\n",
       "    <tr>\n",
       "      <th>506</th>\n",
       "      <td>https://techcrunch.com/2016/03/29/whats-trendi...</td>\n",
       "    </tr>\n",
       "    <tr>\n",
       "      <th>507</th>\n",
       "      <td>https://www.facebook.com/wearevayam/</td>\n",
       "    </tr>\n",
       "    <tr>\n",
       "      <th>508</th>\n",
       "      <td>https://www.nytimes.com/2017/12/11/sports/foot...</td>\n",
       "    </tr>\n",
       "    <tr>\n",
       "      <th>509</th>\n",
       "      <td>http://vidyaprakashan.com/</td>\n",
       "    </tr>\n",
       "    <tr>\n",
       "      <th>510</th>\n",
       "      <td>http://vipanygroup.com/</td>\n",
       "    </tr>\n",
       "    <tr>\n",
       "      <th>511</th>\n",
       "      <td>https://in.linkedin.com/company/virtual-ware</td>\n",
       "    </tr>\n",
       "    <tr>\n",
       "      <th>512</th>\n",
       "      <td>https://visiblealpha.com/</td>\n",
       "    </tr>\n",
       "    <tr>\n",
       "      <th>513</th>\n",
       "      <td>http://www.nielsen.com/in/en/press-room/2017/n...</td>\n",
       "    </tr>\n",
       "    <tr>\n",
       "      <th>514</th>\n",
       "      <td>https://www.vmware.com/</td>\n",
       "    </tr>\n",
       "    <tr>\n",
       "      <th>515</th>\n",
       "      <td>https://www.vphrase.com/</td>\n",
       "    </tr>\n",
       "    <tr>\n",
       "      <th>516</th>\n",
       "      <td>https://in.linkedin.com/company/vuclip</td>\n",
       "    </tr>\n",
       "    <tr>\n",
       "      <th>517</th>\n",
       "      <td>https://in.linkedin.com/company/walmartecommerce</td>\n",
       "    </tr>\n",
       "    <tr>\n",
       "      <th>518</th>\n",
       "      <td>http://way2online.com/</td>\n",
       "    </tr>\n",
       "    <tr>\n",
       "      <th>519</th>\n",
       "      <td>https://weinvest.net/</td>\n",
       "    </tr>\n",
       "    <tr>\n",
       "      <th>520</th>\n",
       "      <td>https://www.wegravit.com/</td>\n",
       "    </tr>\n",
       "    <tr>\n",
       "      <th>521</th>\n",
       "      <td>https://seekingalpha.com/article/4131150-presi...</td>\n",
       "    </tr>\n",
       "    <tr>\n",
       "      <th>522</th>\n",
       "      <td>http://www.whodat.in/</td>\n",
       "    </tr>\n",
       "    <tr>\n",
       "      <th>523</th>\n",
       "      <td>http://www.willis.com/</td>\n",
       "    </tr>\n",
       "    <tr>\n",
       "      <th>524</th>\n",
       "      <td>https://www.willistowerswatson.com/</td>\n",
       "    </tr>\n",
       "    <tr>\n",
       "      <th>525</th>\n",
       "      <td>https://www.towerswatson.com/en-IN</td>\n",
       "    </tr>\n",
       "    <tr>\n",
       "      <th>526</th>\n",
       "      <td>https://www.windstream.com/siteselector/</td>\n",
       "    </tr>\n",
       "    <tr>\n",
       "      <th>527</th>\n",
       "      <td>http://winsarinfo.com/</td>\n",
       "    </tr>\n",
       "    <tr>\n",
       "      <th>528</th>\n",
       "      <td>https://www.wipro.com/en-IN/</td>\n",
       "    </tr>\n",
       "    <tr>\n",
       "      <th>529</th>\n",
       "      <td>https://www.wipro.com/en-IN/</td>\n",
       "    </tr>\n",
       "    <tr>\n",
       "      <th>530</th>\n",
       "      <td>https://wizelyfinance.com/</td>\n",
       "    </tr>\n",
       "    <tr>\n",
       "      <th>531</th>\n",
       "      <td>http://www.wns.com/solutions/functional-soluti...</td>\n",
       "    </tr>\n",
       "    <tr>\n",
       "      <th>532</th>\n",
       "      <td>http://www.wns.com/</td>\n",
       "    </tr>\n",
       "    <tr>\n",
       "      <th>533</th>\n",
       "      <td>https://www.xcede.co.uk/</td>\n",
       "    </tr>\n",
       "    <tr>\n",
       "      <th>534</th>\n",
       "      <td>https://www.mi.com/in/about/</td>\n",
       "    </tr>\n",
       "    <tr>\n",
       "      <th>535</th>\n",
       "      <td>http://xlcatlin.com/</td>\n",
       "    </tr>\n",
       "    <tr>\n",
       "      <th>536</th>\n",
       "      <td>https://www.xldynamics.com/</td>\n",
       "    </tr>\n",
       "    <tr>\n",
       "      <th>537</th>\n",
       "      <td>http://xlgroup.com/</td>\n",
       "    </tr>\n",
       "    <tr>\n",
       "      <th>538</th>\n",
       "      <td>http://www.xwiki.org/</td>\n",
       "    </tr>\n",
       "    <tr>\n",
       "      <th>539</th>\n",
       "      <td>https://www.yottaasys.com/</td>\n",
       "    </tr>\n",
       "    <tr>\n",
       "      <th>540</th>\n",
       "      <td>http://www.yorkbridgegroup.com/conducting-comp...</td>\n",
       "    </tr>\n",
       "    <tr>\n",
       "      <th>541</th>\n",
       "      <td>http://www.zapr.in/</td>\n",
       "    </tr>\n",
       "    <tr>\n",
       "      <th>542</th>\n",
       "      <td>http://www.zealeers.com/</td>\n",
       "    </tr>\n",
       "    <tr>\n",
       "      <th>543</th>\n",
       "      <td>https://www.glassdoor.co.in/Overview/Working-a...</td>\n",
       "    </tr>\n",
       "    <tr>\n",
       "      <th>544</th>\n",
       "      <td>https://zestmoney.in/</td>\n",
       "    </tr>\n",
       "    <tr>\n",
       "      <th>545</th>\n",
       "      <td>https://zip.pr/</td>\n",
       "    </tr>\n",
       "    <tr>\n",
       "      <th>546</th>\n",
       "      <td>https://www.zohocorp.com/</td>\n",
       "    </tr>\n",
       "    <tr>\n",
       "      <th>547</th>\n",
       "      <td>https://www.zomato.com/hyderabad</td>\n",
       "    </tr>\n",
       "    <tr>\n",
       "      <th>548</th>\n",
       "      <td>https://www.zs.com/</td>\n",
       "    </tr>\n",
       "  </tbody>\n",
       "</table>\n",
       "</div>"
      ],
      "text/plain": [
       "                                              base_url\n",
       "500                                 http://www.uc.edu/\n",
       "501                           https://www.uohyd.ac.in/\n",
       "502                               http://www.ox.ac.uk/\n",
       "503                             http://www.upes.ac.in/\n",
       "504                      http://unlimitedexposure.com/\n",
       "505                                   http://v2ds.com/\n",
       "506  https://techcrunch.com/2016/03/29/whats-trendi...\n",
       "507               https://www.facebook.com/wearevayam/\n",
       "508  https://www.nytimes.com/2017/12/11/sports/foot...\n",
       "509                         http://vidyaprakashan.com/\n",
       "510                            http://vipanygroup.com/\n",
       "511       https://in.linkedin.com/company/virtual-ware\n",
       "512                          https://visiblealpha.com/\n",
       "513  http://www.nielsen.com/in/en/press-room/2017/n...\n",
       "514                            https://www.vmware.com/\n",
       "515                           https://www.vphrase.com/\n",
       "516             https://in.linkedin.com/company/vuclip\n",
       "517   https://in.linkedin.com/company/walmartecommerce\n",
       "518                             http://way2online.com/\n",
       "519                              https://weinvest.net/\n",
       "520                          https://www.wegravit.com/\n",
       "521  https://seekingalpha.com/article/4131150-presi...\n",
       "522                              http://www.whodat.in/\n",
       "523                             http://www.willis.com/\n",
       "524                https://www.willistowerswatson.com/\n",
       "525                 https://www.towerswatson.com/en-IN\n",
       "526           https://www.windstream.com/siteselector/\n",
       "527                             http://winsarinfo.com/\n",
       "528                       https://www.wipro.com/en-IN/\n",
       "529                       https://www.wipro.com/en-IN/\n",
       "530                         https://wizelyfinance.com/\n",
       "531  http://www.wns.com/solutions/functional-soluti...\n",
       "532                                http://www.wns.com/\n",
       "533                           https://www.xcede.co.uk/\n",
       "534                       https://www.mi.com/in/about/\n",
       "535                               http://xlcatlin.com/\n",
       "536                        https://www.xldynamics.com/\n",
       "537                                http://xlgroup.com/\n",
       "538                              http://www.xwiki.org/\n",
       "539                         https://www.yottaasys.com/\n",
       "540  http://www.yorkbridgegroup.com/conducting-comp...\n",
       "541                                http://www.zapr.in/\n",
       "542                           http://www.zealeers.com/\n",
       "543  https://www.glassdoor.co.in/Overview/Working-a...\n",
       "544                              https://zestmoney.in/\n",
       "545                                    https://zip.pr/\n",
       "546                          https://www.zohocorp.com/\n",
       "547                   https://www.zomato.com/hyderabad\n",
       "548                                https://www.zs.com/"
      ]
     },
     "execution_count": 30,
     "metadata": {},
     "output_type": "execute_result"
    }
   ],
   "source": [
    "companies_url[500:]"
   ]
  },
  {
   "cell_type": "code",
   "execution_count": 31,
   "metadata": {
    "collapsed": true
   },
   "outputs": [],
   "source": [
    "career_url = [first_result(base_url+'careers') for base_url in temp]"
   ]
  },
  {
   "cell_type": "code",
   "execution_count": 32,
   "metadata": {
    "collapsed": false
   },
   "outputs": [
    {
     "name": "stdout",
     "output_type": "stream",
     "text": [
      "20171212_101739\n"
     ]
    }
   ],
   "source": [
    "import time\n",
    "# This is the actual time that we will use to print.\n",
    "Actual_Time = time.strftime(\"%Y%m%d_%I%M%S\")\n",
    "print(Actual_Time)"
   ]
  },
  {
   "cell_type": "code",
   "execution_count": 33,
   "metadata": {
    "collapsed": true
   },
   "outputs": [],
   "source": [
    "initial_time = '213800'"
   ]
  },
  {
   "cell_type": "code",
   "execution_count": 36,
   "metadata": {
    "collapsed": false
   },
   "outputs": [],
   "source": [
    "career_df = pd.DataFrame(career_url,columns=['career_url'])"
   ]
  },
  {
   "cell_type": "code",
   "execution_count": 41,
   "metadata": {
    "collapsed": false
   },
   "outputs": [
    {
     "ename": "AttributeError",
     "evalue": "'DataFrame' object has no attribute 'unique'",
     "output_type": "error",
     "traceback": [
      "\u001b[0;31m---------------------------------------------------------------------------\u001b[0m",
      "\u001b[0;31mAttributeError\u001b[0m                            Traceback (most recent call last)",
      "\u001b[0;32m<ipython-input-41-2013c020624a>\u001b[0m in \u001b[0;36m<module>\u001b[0;34m()\u001b[0m\n\u001b[0;32m----> 1\u001b[0;31m \u001b[0mprint\u001b[0m\u001b[0;34m(\u001b[0m\u001b[0mcareer_df\u001b[0m\u001b[0;34m[\u001b[0m\u001b[0mcareer_df\u001b[0m\u001b[0;34m[\u001b[0m\u001b[0;34m'career_url'\u001b[0m\u001b[0;34m]\u001b[0m \u001b[0;34m!=\u001b[0m \u001b[0;34m'bad luck'\u001b[0m\u001b[0;34m]\u001b[0m\u001b[0;34m.\u001b[0m\u001b[0munique\u001b[0m\u001b[0;34m(\u001b[0m\u001b[0;34m)\u001b[0m\u001b[0;34m)\u001b[0m\u001b[0;34m\u001b[0m\u001b[0m\n\u001b[0m",
      "\u001b[0;32m/home/manavee/anaconda3/lib/python3.6/site-packages/pandas/core/generic.py\u001b[0m in \u001b[0;36m__getattr__\u001b[0;34m(self, name)\u001b[0m\n\u001b[1;32m   2742\u001b[0m             \u001b[0;32mif\u001b[0m \u001b[0mname\u001b[0m \u001b[0;32min\u001b[0m \u001b[0mself\u001b[0m\u001b[0;34m.\u001b[0m\u001b[0m_info_axis\u001b[0m\u001b[0;34m:\u001b[0m\u001b[0;34m\u001b[0m\u001b[0m\n\u001b[1;32m   2743\u001b[0m                 \u001b[0;32mreturn\u001b[0m \u001b[0mself\u001b[0m\u001b[0;34m[\u001b[0m\u001b[0mname\u001b[0m\u001b[0;34m]\u001b[0m\u001b[0;34m\u001b[0m\u001b[0m\n\u001b[0;32m-> 2744\u001b[0;31m             \u001b[0;32mreturn\u001b[0m \u001b[0mobject\u001b[0m\u001b[0;34m.\u001b[0m\u001b[0m__getattribute__\u001b[0m\u001b[0;34m(\u001b[0m\u001b[0mself\u001b[0m\u001b[0;34m,\u001b[0m \u001b[0mname\u001b[0m\u001b[0;34m)\u001b[0m\u001b[0;34m\u001b[0m\u001b[0m\n\u001b[0m\u001b[1;32m   2745\u001b[0m \u001b[0;34m\u001b[0m\u001b[0m\n\u001b[1;32m   2746\u001b[0m     \u001b[0;32mdef\u001b[0m \u001b[0m__setattr__\u001b[0m\u001b[0;34m(\u001b[0m\u001b[0mself\u001b[0m\u001b[0;34m,\u001b[0m \u001b[0mname\u001b[0m\u001b[0;34m,\u001b[0m \u001b[0mvalue\u001b[0m\u001b[0;34m)\u001b[0m\u001b[0;34m:\u001b[0m\u001b[0;34m\u001b[0m\u001b[0m\n",
      "\u001b[0;31mAttributeError\u001b[0m: 'DataFrame' object has no attribute 'unique'"
     ]
    }
   ],
   "source": [
    "print(career_df[career_df['career_url'] != 'bad luck'])"
   ]
  },
  {
   "cell_type": "code",
   "execution_count": null,
   "metadata": {
    "collapsed": true
   },
   "outputs": [],
   "source": [
    "career_df[career_df['career_url'] != 'bad luck']"
   ]
  },
  {
   "cell_type": "code",
   "execution_count": 42,
   "metadata": {
    "collapsed": true
   },
   "outputs": [],
   "source": [
    "career_url_set = set(career_url)"
   ]
  },
  {
   "cell_type": "code",
   "execution_count": 43,
   "metadata": {
    "collapsed": false
   },
   "outputs": [
    {
     "data": {
      "text/plain": [
       "{'bad luck',\n",
       " 'http://a2zjobsconsultancy.com/',\n",
       " 'http://aaumanalytics.com/join-us.html',\n",
       " 'http://accionlabs.com/careers/job-openings/index.html',\n",
       " 'http://ahcpllc.com/career.php',\n",
       " 'http://alnoorspneeds.ae/careers/',\n",
       " 'http://analyticstechtalk.com/category/sas/sas-career/',\n",
       " 'http://analytixlabs.co.in/',\n",
       " 'http://analyztec.com/careers.html',\n",
       " 'http://anamind.com/career/',\n",
       " 'http://aonhewitt.co.in/Home/About/Career',\n",
       " 'http://athenasoftsolutions.com/career/',\n",
       " 'http://awcsoftware.net/we-are-hiring/',\n",
       " 'http://bigtappanalytics.com/careers/',\n",
       " 'http://c1exchange.com/careers',\n",
       " 'http://camelport.com/career/',\n",
       " 'http://careers.bankofamerica.com/',\n",
       " 'http://careers.cerner.com/',\n",
       " 'http://careers.concentrix.com/',\n",
       " 'http://careers.leoforce.com/',\n",
       " 'http://careers.msu.edu/',\n",
       " 'http://careers.nielsen.com/',\n",
       " 'http://class.econschool.in/jobs',\n",
       " 'http://codenation.co.in/',\n",
       " 'http://crispanalytics.com/',\n",
       " 'http://curvetube.com/Nursing_in_Saudi_Arabia/L874rMSLMJQ.video',\n",
       " 'http://digivue.io/',\n",
       " 'http://dynamic.nextgen-technology.net/',\n",
       " 'http://en.community.dell.com/cfs-file/__key/telligent-evolution-components-attachments/13-4491-00-00-20-26-95-86/Configuration-XML-Workflows.pdf?forcedownload=true',\n",
       " 'http://ensigngroup.net/',\n",
       " 'http://etheses.lse.ac.uk/457/1/Wan_Global%20and%20Regional%20Sourcing%20of%20ICT-enabled%20Business.pdf',\n",
       " 'http://factspan.com/careers/',\n",
       " 'http://fortune.com/2017/12/12/hewlett-packard-keystroke-logging-laptop-synaptics/',\n",
       " 'http://generalmills.co.in/',\n",
       " 'http://hospitechhealth.com/hospital-business-consultants/careers/',\n",
       " 'http://iib.gov.in/',\n",
       " 'http://iisr.nic.in/announcement/jobattention.htm',\n",
       " 'http://impactbusinesssolutions.in/',\n",
       " 'http://in.milliman.com/',\n",
       " 'http://indscope.co.in/novo/',\n",
       " 'http://infoanalytica.com/careers.php',\n",
       " 'http://iziel.com/careers/',\n",
       " 'http://jalbhagirathi.org/Get-involved',\n",
       " 'http://kogentix.com/careers/',\n",
       " 'http://mantrainfratech.com/',\n",
       " 'http://mawdoo3.com/About_Us',\n",
       " 'http://mbrdi.co.in/career/',\n",
       " 'http://mediaiqdigital.com/join-us/',\n",
       " 'http://mobilecoderz.com/career/',\n",
       " 'http://moonfroglabs.com/',\n",
       " 'http://northout.com/',\n",
       " 'http://optaintel.ca/Careers',\n",
       " 'http://tech.pharmeasy.in/careers/',\n",
       " 'http://www.ab-inbev.com/careers.html',\n",
       " 'http://www.abb.com/careers',\n",
       " 'http://www.abzooba.com/',\n",
       " 'http://www.actuariesindia.org/subMenu.aspx?id=45&val=Career_Opportunities_for_Actuaries',\n",
       " 'http://www.actuaryexamtutor.com/university/',\n",
       " 'http://www.aecon.com/careers',\n",
       " 'http://www.aegis.edu.in/',\n",
       " 'http://www.agricx.com/jobs.php',\n",
       " 'http://www.aig.com/careers',\n",
       " 'http://www.algoscale.com/',\n",
       " 'http://www.anakinindia.com/career.htm',\n",
       " 'http://www.anilnairclasses.com/',\n",
       " 'http://www.aon.com/india',\n",
       " 'http://www.arcesium.com/careers.shtml',\n",
       " 'http://www.aspiringminds.com/deputy-general-manager-corporate-salesbpo-domain',\n",
       " 'http://www.avagmah.com/careers',\n",
       " 'http://www.barclays.in/btci',\n",
       " 'http://www.begapt.in/',\n",
       " 'http://www.biet.ac.in/careers',\n",
       " 'http://www.bridgei2i.com/careers/',\n",
       " 'http://www.cloudbyte.com/',\n",
       " 'http://www.cokeconsolidated.com/careers',\n",
       " 'http://www.credencehrservices.com/jobs.asp',\n",
       " 'http://www.cuddle.ai/careers/',\n",
       " 'http://www.customercentria.com/',\n",
       " 'http://www.cyient.com/careers/current-openings/',\n",
       " 'http://www.cytel.com/careers',\n",
       " 'http://www.datascribble.com/about/',\n",
       " 'http://www.decimalpointanalytics.com/',\n",
       " 'http://www.decisionminds.com/career',\n",
       " 'http://www.demandmatrix.com/',\n",
       " 'http://www.dnanetworks.com/Career',\n",
       " 'http://www.dtl.gov.in/content/35_1_CurrentOpenings.aspx',\n",
       " 'http://www.dynpro.com/careers-at-dynpro/',\n",
       " 'http://www.eclerx.com/Pages/Corp_HR_Careers.aspx',\n",
       " 'http://www.ecmcareers.com/ECMPage.aspx?pg=WHATISECM',\n",
       " 'http://www.ecostone.co.in/',\n",
       " 'http://www.eliterecruitments.com/',\n",
       " 'http://www.eminencesoft.com/',\n",
       " 'http://www.emplay.net/',\n",
       " 'http://www.exadatum.com/careers/',\n",
       " 'http://www.ey.com/us/en/careers',\n",
       " 'http://www.ezrapenland.com/',\n",
       " 'http://www.fareportal.com/careers/',\n",
       " 'http://www.fizara.co.in/',\n",
       " 'http://www.fractalanalytics.com/about/career/overview',\n",
       " 'http://www.fujitsu.com/in/about/info-center/job-seekers/job-finder/',\n",
       " 'http://www.gipe.ac.in/index.php?id=260',\n",
       " 'http://www.goldstonetech.com/careers.php',\n",
       " 'http://www.grabon.in/careers/',\n",
       " 'http://www.greyatom.com/',\n",
       " 'http://www.gtllimited.com/ind/Current_Openings.htm',\n",
       " 'http://www.hopechildrenshospital.com/html/careers.htm',\n",
       " 'http://www.hrsoftwaresolution.com/careers.php',\n",
       " 'http://www.iamm.org.my/vacancies/',\n",
       " 'http://www.ibm.com/in/careers/index.html',\n",
       " 'http://www.ibtimes.com/corporate/careers',\n",
       " 'http://www.idrbt.ac.in/careers.html',\n",
       " 'http://www.igiusa.com/',\n",
       " 'http://www.iisc.ac.in/opportunities/',\n",
       " 'http://www.iitb.ac.in/en/careers/staff-recruitment',\n",
       " 'http://www.iksula.com/work-at-iksula/',\n",
       " 'http://www.ima-mycology.org/',\n",
       " 'http://www.imshealth.com:90/',\n",
       " 'http://www.india.jlt.com/Careers',\n",
       " 'http://www.infrahedge.com/',\n",
       " 'http://www.innovaccer.com/joinus',\n",
       " 'http://www.instituteofanalytics.com/',\n",
       " 'http://www.jetsynthesys.com/careers',\n",
       " 'http://www.jlt.com/careers',\n",
       " 'http://www.karvyanalytics.com/Join-Us/',\n",
       " 'http://www.khoslalabs.com/careers.html',\n",
       " 'http://www.kotak.com/bank/careers/kc_bank_home.html',\n",
       " 'http://www.kpac.co.in/',\n",
       " 'http://www.legallyindia.com/Blogs/?limit=25&limitstart=390&05ff1a93b1b813d9cf54dfc40d3458e8=1',\n",
       " 'http://www.liquidhub.com/careers.html',\n",
       " 'http://www.lnttechservices.com/careers',\n",
       " 'http://www.lsvusa.com/careers.aspx',\n",
       " 'http://www.machinepulse.com/careers.php',\n",
       " 'http://www.manikaranpowerltd.in/career.php',\n",
       " 'http://www.modakanalytics.com/careers.html',\n",
       " 'http://www.mydigitalblocks.com/about-us/',\n",
       " 'http://www.nagarro.com/en/openings',\n",
       " 'http://www.nipfp.org.in/about-us/careers/',\n",
       " 'http://www.nuevora.com/careers.html',\n",
       " 'http://www.ondotsystems.com/',\n",
       " 'http://www.ongcindia.com/wps/wcm/connect/ongcindia/Home/Careers/',\n",
       " 'http://www.pasaay.com/',\n",
       " 'http://www.pentationanalytics.com/careers/current-opening',\n",
       " 'http://www.sarkarinaukridaily.in/iit-delhi-recruitment/',\n",
       " 'http://www.schott.com/english/company/management/schulte.html',\n",
       " 'http://www.timesjobs.com/candidate/companySearchResult.html?from=submit&encid=F2Uc3Mw__PLUS__rAdzpSvf__PLUS__uAgZw==&searchType=byCompany&luceneResultSize=50&gadLink=View%20all%20jobs%20by%20this%20recruiter',\n",
       " 'http://www.vinatas.vn/2014-02-15-05-55-25/item/2-s%E1%BB%AD-d%E1%BB%A5ng-h%C3%B3a-%C4%91%C6%A1n-xu%E1%BA%A5t-kh%E1%BA%A9u-sau-ng%C3%A0y-01-03-2014/2-s%E1%BB%AD-d%E1%BB%A5ng-h%C3%B3a-%C4%91%C6%A1n-xu%E1%BA%A5t-kh%E1%BA%A9u-sau-ng%C3%A0y-01-03-2014.html?start=37210',\n",
       " 'http://www.walmartlabs.com/india/careers',\n",
       " 'http://www.wittyparrot.com/careers-0.html',\n",
       " 'http://www.zdnet.com/',\n",
       " 'http://www.zdnet.com/article/freelancer-launches-global-enterprise-platform/',\n",
       " 'http://www8.hp.com/us/en/jobs/index.html',\n",
       " 'https://3loq.com/',\n",
       " 'https://acadgild.com/jobs-careers',\n",
       " 'https://ae.axa-gulf.com/careers',\n",
       " 'https://aganitha.ai/',\n",
       " 'https://algoji.com/',\n",
       " 'https://angel.co/arya-ai/jobs',\n",
       " 'https://angel.co/niki/jobs',\n",
       " 'https://angel.co/param-ai',\n",
       " 'https://angel.co/payzello/jobs',\n",
       " 'https://app.a-star.edu.sg/astarcareerportal/',\n",
       " 'https://aws.amazon.com/careers/',\n",
       " 'https://axa-bs.com/careers-in-India',\n",
       " 'https://bhujang.net/careers/',\n",
       " 'https://buzzhire.co/',\n",
       " 'https://careers.americanexpress.com/',\n",
       " 'https://careers.hilti.com/en',\n",
       " 'https://careers.idfcbank.com/',\n",
       " 'https://careers.jpmorgan.com/',\n",
       " 'https://careers.phenompeople.com/',\n",
       " 'https://ccinsurance.org.au/Pages/Careers.aspx',\n",
       " 'https://cometlabs.io/',\n",
       " 'https://companies.naukri.com/broadridge-jobs/',\n",
       " 'https://convergytics.net/careers/',\n",
       " 'https://cutshort.io/company/cutshort',\n",
       " 'https://darkmatter.ae/careers/',\n",
       " 'https://datametica.com/careers/',\n",
       " 'https://edgenetworks.in/job-opportunities/',\n",
       " 'https://en.wikipedia.org/wiki/List_of_management_consulting_firms',\n",
       " 'https://en.wikipedia.org/wiki/Media_agency',\n",
       " 'https://en.wikipedia.org/wiki/The_Hongkong_and_Shanghai_Banking_Corporation',\n",
       " 'https://exzeo.com/career',\n",
       " 'https://flexiloans.com/careers/',\n",
       " 'https://general.futuregenerali.in/current-openings',\n",
       " 'https://healthifyme.com/careers/',\n",
       " 'https://hexaware.com/careers/',\n",
       " 'https://home.kpmg.com/in/en/home/careers.html',\n",
       " 'https://home.kpmg.com/ke/en/home/careers.html',\n",
       " 'https://hr.okstate.edu/employment-opportunities',\n",
       " 'https://icecreamlabs.com/careers/',\n",
       " 'https://in.linkedin.com/in/akritityagi1',\n",
       " 'https://in.linkedin.com/jobs/chi-square-consultants-private-limited-jobs-hyderabad-area-india',\n",
       " 'https://insurance.kotak.com/why-kotak-life/career',\n",
       " 'https://internshala.com/careers',\n",
       " 'https://jobs.adp.com/',\n",
       " 'https://jobs.fidelity.com/',\n",
       " 'https://limetray.com/careers',\n",
       " 'https://machinelearningmastery.com/start-here/',\n",
       " 'https://myntra.ripplehire.com/ripplehire/careers',\n",
       " 'https://mythemeshop.com/themes/magxp/',\n",
       " 'https://nypost.com/2017/12/11/suicide-bombing-suspect-was-a-cab-driver-bent-on-revenge-cops/',\n",
       " 'https://online.franklintempletonindia.com/india/jsp_cm/aboutus/career.asp',\n",
       " 'https://outtowin.exlservice.com/',\n",
       " 'https://pexitics.com/',\n",
       " 'https://services.harman.com/careers',\n",
       " 'https://twitter.com/RedMoonGR/tech',\n",
       " 'https://w3.accelya.com/careers',\n",
       " 'https://www.1mg.com/jobs',\n",
       " 'https://www.absolutdata.com/analytics-company/careers-analytics-jobs/',\n",
       " 'https://www.accenture.com/in-en/Careers',\n",
       " 'https://www.accenture.com/it-it/careers',\n",
       " 'https://www.allianz.com/en/careers/',\n",
       " 'https://www.allianzworldwidepartners.com/',\n",
       " 'https://www.allstate.com/careers.aspx',\n",
       " 'https://www.analyticsvidhya.com/about-me/career-analytics-vidhya/',\n",
       " 'https://www.anham.com/careers/',\n",
       " 'https://www.antuit.com/about-us/careers/',\n",
       " 'https://www.applift.com/careers',\n",
       " 'https://www.aricent.com/careers/overview',\n",
       " 'https://www.axisbank.com/careers/index',\n",
       " 'https://www.bajajallianz.com/Corp/aboutus/general-insurance-careers.jsp',\n",
       " 'https://www.bajajfinserv.in/finance/career-opportunities.aspx',\n",
       " 'https://www.bbvacontinental.pe/',\n",
       " 'https://www.bbvadata.com/',\n",
       " 'https://www.bharti-axalife.com/careers/join-us',\n",
       " 'https://www.bnymellon.com/us/en/careers/index.jsp',\n",
       " 'https://www.cangonetworks.com/careees',\n",
       " 'https://www.capgemini.com/careers/',\n",
       " 'https://www.capitalonecareers.com/',\n",
       " 'https://www.caterpillar.com/en/careers.html',\n",
       " 'https://www.ceat.com/corporate/life-at-ceat/careers',\n",
       " 'https://www.cognizant.com/careers',\n",
       " 'https://www.coindesk.com/bitcoin-isnt-sapping-demand-for-gold-says-goldman-sachs-exec/',\n",
       " 'https://www.confianzit.com/',\n",
       " 'https://www.cornerstoneondemand.com/careers',\n",
       " 'https://www.cotiviti.com/careers',\n",
       " 'https://www.credit-suisse.com/careers/en.html',\n",
       " 'https://www.crunchbase.com/organization/aidata-me',\n",
       " 'https://www.datacamp.com/careers',\n",
       " 'https://www.datarpm.com/career/',\n",
       " 'https://www.decisivedge.com/join-our-team/',\n",
       " 'https://www.deeplearning.ai/careers',\n",
       " 'https://www.deshawindia.com/Careers.shtml',\n",
       " 'https://www.dexlabanalytics.com/career',\n",
       " 'https://www.digital-lync.com/',\n",
       " 'https://www.dmifinance.in/',\n",
       " 'https://www.dreambegins.com/',\n",
       " 'https://www.edelweisstokio.in/careers',\n",
       " 'https://www.epam.com/careers',\n",
       " 'https://www.ephesoft.com/careers/',\n",
       " 'https://www.episource.com/careers/',\n",
       " 'https://www.equinox.co.nz/',\n",
       " 'https://www.fedex.com/fcl/ALL?enrollmentid=ss90705920',\n",
       " 'https://www.forbes.com/sites/brucejapsen/2017/12/10/hospitals-merge-to-protect-turf-as-cvs-and-optum-move-in/',\n",
       " 'https://www.freelancer.com/careers',\n",
       " 'https://www.freshworks.com/company/careers/',\n",
       " 'https://www.gainsight.com/careers/',\n",
       " 'https://www.ge.com/digital/',\n",
       " 'https://www.geocaching.com/promotions/careers/',\n",
       " 'https://www.glassdoor.co.in/Reviews/AmberTAG-Analytics-Reviews-E1344650.htm',\n",
       " 'https://www.glassdoor.com/Job/new-salem-corporate-travel-consultant-jobs-SRCH_IL.0,9_IC1152971_KO10,37.htm',\n",
       " 'https://www.globaldata.com/careers/',\n",
       " 'https://www.goeventz.com/careers',\n",
       " 'https://www.haysplc.com/join-hays',\n",
       " 'https://www.hcltech.com/careers',\n",
       " 'https://www.hcltech.com/it-infrastructure-management-services',\n",
       " 'https://www.hdbfs.com/careers',\n",
       " 'https://www.hdfcbank.com/aboutus/careers/default.htm',\n",
       " 'https://www.hdfcergo.com/career/career-path.html',\n",
       " 'https://www.hdfclife.com/insurance-careers',\n",
       " 'https://www.home.barclays/careers.html',\n",
       " 'https://www.honeywell.com/careers',\n",
       " 'https://www.huquo.com/',\n",
       " 'https://www.icra.in/',\n",
       " 'https://www.iiitb.ac.in/careers.php?pid=faculty-openings',\n",
       " 'https://www.india.gov.in/people-groups/community/job-seekers',\n",
       " 'https://www.informatica.com/in/',\n",
       " 'https://www.innovationservices.philips.com/',\n",
       " 'https://www.insideview.com/company/careers/',\n",
       " 'https://www.instahyre.com/jobs-at-kraftly-kartrocket/',\n",
       " 'https://www.intel.com/content/www/us/en/jobs/careers.html',\n",
       " 'https://www.intelletec.com/',\n",
       " 'https://www.interactions.com/careers/',\n",
       " 'https://www.investmentbank.barclays.com/',\n",
       " 'https://www.iteanztechnologies.com/',\n",
       " 'https://www.koenig-solutions.com/career.aspx',\n",
       " 'https://www.latentview.com/career/',\n",
       " 'https://www.libertymutualgroup.com/careers',\n",
       " 'https://www.libertyvideocon.com/careers',\n",
       " 'https://www.linkedin.com/company/abacus-market-analytics-division-of-imrb-international-',\n",
       " 'https://www.linkedin.com/company/adroit-global-solutions',\n",
       " 'https://www.linkedin.com/company/atom360',\n",
       " 'https://www.linkedin.com/company/bb-oil-services-limited',\n",
       " 'https://www.linkedin.com/company/cyient-insights',\n",
       " 'https://www.linkedin.com/company/h&g-innovations',\n",
       " 'https://www.linkedin.com/company/irage-broking-services-llp',\n",
       " 'https://www.linkedin.com/company/mindworks-group',\n",
       " 'https://www.linkedin.com/company/neustar-inc/careers',\n",
       " 'https://www.linkedin.com/in/duncan-dashiff-149a8445',\n",
       " 'https://www.linkedin.com/jobs/technical-recruiter-jobs',\n",
       " 'https://www.lntinfotech.com/careers/',\n",
       " 'https://www.lybrate.com/jobs',\n",
       " 'https://www.maersk.com/career',\n",
       " 'https://www.maknowledgeservices.com/current-opportunities/',\n",
       " 'https://www.marlabs.com/careers/',\n",
       " 'https://www.maxlifeinsurance.com/join-max-life',\n",
       " 'https://www.mbs.ac.uk/',\n",
       " 'https://www.meaningbot.com/careers/',\n",
       " 'https://www.mediatek.com/careers/careers',\n",
       " 'https://www.mercer.com/mercer-careers.html',\n",
       " 'https://www.modeln.com/company/careers/',\n",
       " 'https://www.mu-sigma.com/careers',\n",
       " 'https://www.naukri.com/blew-minds-consulting-jobs-careers-3132608',\n",
       " 'https://www.naukri.com/chicmic-jobs-careers-916634',\n",
       " 'https://www.naukri.com/confidential-jobs-careers-15968?&qp=subject+matter+expertise&qc=15968&src=fcc',\n",
       " 'https://www.naukri.com/logic-roots-jobs-careers-1365588',\n",
       " 'https://www.online.citibank.co.in/careers/careers-at-citi.htm',\n",
       " 'https://www.opentext.com/who-we-are/careers',\n",
       " 'https://www.owler.com/about/careers',\n",
       " 'https://www.petrofac.com/en-gb/careers/',\n",
       " 'https://www.philips.co.in/healthcare/about/careers',\n",
       " 'https://www.pieriandata.com/',\n",
       " 'https://www.pinelabs.com/career.php',\n",
       " 'https://www.pinterest.ch/pin/6192518212088677/',\n",
       " 'https://www.pinterest.co.uk/pin/859272803875613086/',\n",
       " 'https://www.pnbmetlife.com/careers/apply-now.html',\n",
       " 'https://www.pnc.com/en/about-pnc/careers/hiring-process.html',\n",
       " 'https://www.quora.com/Shall-I-join-CDAC',\n",
       " 'https://www.rathi.com/',\n",
       " 'https://www.slideshare.net/JermundOttermo/prevention-is-futile-in-2020-gartner-report-in-retrospect',\n",
       " 'https://yourstory.com/2017/12/dunzo-got-google-make-first-direct-investment-india/'}"
      ]
     },
     "execution_count": 43,
     "metadata": {},
     "output_type": "execute_result"
    }
   ],
   "source": [
    "career_url_set"
   ]
  },
  {
   "cell_type": "code",
   "execution_count": null,
   "metadata": {
    "collapsed": true
   },
   "outputs": [],
   "source": []
  }
 ],
 "metadata": {
  "kernelspec": {
   "display_name": "Python 3",
   "language": "python",
   "name": "python3"
  },
  "language_info": {
   "codemirror_mode": {
    "name": "ipython",
    "version": 3
   },
   "file_extension": ".py",
   "mimetype": "text/x-python",
   "name": "python",
   "nbconvert_exporter": "python",
   "pygments_lexer": "ipython3",
   "version": "3.6.0"
  }
 },
 "nbformat": 4,
 "nbformat_minor": 2
}
