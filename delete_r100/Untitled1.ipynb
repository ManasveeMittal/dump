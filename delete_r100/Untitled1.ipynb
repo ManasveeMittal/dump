{
 "cells": [
  {
   "cell_type": "code",
   "execution_count": 6,
   "metadata": {
    "collapsed": false
   },
   "outputs": [
    {
     "data": {
      "text/plain": [
       "3"
      ]
     },
     "execution_count": 6,
     "metadata": {},
     "output_type": "execute_result"
    }
   ],
   "source": [
    "c=[1,2,3,4,5,6,7,8,9,10,11,12,13,14,15,16,17,18]\n",
    "str1=1|2|3|4|5|6\n",
    "str2=7|8|9|10|11|12\n",
    "str3=13|14|15|16|17|18\n",
    "n = int(len(c)/6)\n",
    "n"
   ]
  },
  {
   "cell_type": "code",
   "execution_count": 16,
   "metadata": {
    "collapsed": false
   },
   "outputs": [
    {
     "data": {
      "text/plain": [
       "[7, 8, 9, 10, 11, 12]"
      ]
     },
     "execution_count": 16,
     "metadata": {},
     "output_type": "execute_result"
    }
   ],
   "source": [
    "c[1*6:2*6]"
   ]
  },
  {
   "cell_type": "code",
   "execution_count": 19,
   "metadata": {
    "collapsed": false
   },
   "outputs": [
    {
     "name": "stdout",
     "output_type": "stream",
     "text": [
      "0\n",
      "1|2|3|4|5|6\n",
      "1\n",
      "7|8|9|10|11|12\n",
      "2\n",
      "13|14|15|16|17|18\n",
      "['1|2|3|4|5|6', '7|8|9|10|11|12', '13|14|15|16|17|18']\n"
     ]
    }
   ],
   "source": [
    "c = [str(c) for c in c]\n",
    "x=[]\n",
    "for i in range(n):\n",
    "    s = '|'.join(c[i*6:(i+1)*6])\n",
    "#     x.append()\n",
    "    print(i)\n",
    "    x.append(s)\n",
    "    print(s)\n",
    "print(x)\n",
    "    "
   ]
  },
  {
   "cell_type": "code",
   "execution_count": null,
   "metadata": {
    "collapsed": true
   },
   "outputs": [],
   "source": []
  }
 ],
 "metadata": {
  "kernelspec": {
   "display_name": "Python 3",
   "language": "python",
   "name": "python3"
  },
  "language_info": {
   "codemirror_mode": {
    "name": "ipython",
    "version": 3
   },
   "file_extension": ".py",
   "mimetype": "text/x-python",
   "name": "python",
   "nbconvert_exporter": "python",
   "pygments_lexer": "ipython3",
   "version": "3.6.0"
  }
 },
 "nbformat": 4,
 "nbformat_minor": 2
}
