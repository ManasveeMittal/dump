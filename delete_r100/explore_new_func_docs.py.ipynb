{
 "cells": [
  {
   "cell_type": "raw",
   "metadata": {},
   "source": [
    "Q_1212"
   ]
  },
  {
   "cell_type": "code",
   "execution_count": 2,
   "metadata": {
    "collapsed": false
   },
   "outputs": [
    {
     "name": "stdout",
     "output_type": "stream",
     "text": [
      "Returns a new dict with keys from iterable and values equal to value.\n",
      "D.get(k[,d]) -> D[k] if k in D, else d.  d defaults to None.\n"
     ]
    }
   ],
   "source": [
    "d={}\n",
    "print(d.fromkeys.__doc__)\n",
    "print(d.get.__doc__)"
   ]
  },
  {
   "cell_type": "raw",
   "metadata": {},
   "source": [
    "dictionary initialization using collections.defaultdict(int) which is convenient for counting"
   ]
  },
  {
   "cell_type": "code",
   "execution_count": 5,
   "metadata": {
    "collapsed": false
   },
   "outputs": [
    {
     "name": "stdout",
     "output_type": "stream",
     "text": [
      "defaultdict(default_factory[, ...]) --> dict with default factory\n",
      "\n",
      "The default factory is called without arguments to produce\n",
      "a new value when a key is not present, in __getitem__ only.\n",
      "A defaultdict compares equal to a dict with the same items.\n",
      "All remaining arguments are treated the same as if they were\n",
      "passed to the dict constructor, including keyword arguments.\n",
      "\n"
     ]
    }
   ],
   "source": [
    "from collections import defaultdict\n",
    "d = defaultdict(int)\n",
    "print(d.__doc__)"
   ]
  },
  {
   "cell_type": "raw",
   "metadata": {},
   "source": [
    "The yield enables a function to comeback where it left off when it is called again\n",
    "A generator function is a way to create an iterator"
   ]
  },
  {
   "cell_type": "raw",
   "metadata": {},
   "source": [
    "iteratables vs iterators vs generators\n",
    "iteratables : may create iterators with iter(x)\n",
    "iterators : track a 'position' and have a .next()\n",
    "generators : created with a generator function or expression"
   ]
  },
  {
   "cell_type": "raw",
   "metadata": {
    "collapsed": true
   },
   "source": [
    "anonymous functions (i.e. functions that are not bound to a name)\n",
    "The lambda's general form is \n",
    "lambda arg1, arg2, ...argN : expression using arguments\n",
    " often used in conjunction with typical functional concepts like filter(), map() and reduce()."
   ]
  },
  {
   "cell_type": "raw",
   "metadata": {},
   "source": [
    " lambda definition does not include a return statement -- it always contains an expression which is returned\n",
    " lambda is an expression, not a statement"
   ]
  },
  {
   "cell_type": "code",
   "execution_count": null,
   "metadata": {
    "collapsed": true
   },
   "outputs": [],
   "source": []
  },
  {
   "cell_type": "code",
   "execution_count": null,
   "metadata": {
    "collapsed": true
   },
   "outputs": [],
   "source": []
  },
  {
   "cell_type": "code",
   "execution_count": null,
   "metadata": {
    "collapsed": true
   },
   "outputs": [],
   "source": []
  },
  {
   "cell_type": "code",
   "execution_count": null,
   "metadata": {
    "collapsed": true
   },
   "outputs": [],
   "source": []
  },
  {
   "cell_type": "code",
   "execution_count": null,
   "metadata": {
    "collapsed": true
   },
   "outputs": [],
   "source": [
    "f"
   ]
  }
 ],
 "metadata": {
  "kernelspec": {
   "display_name": "Python 3",
   "language": "python",
   "name": "python3"
  },
  "language_info": {
   "codemirror_mode": {
    "name": "ipython",
    "version": 3
   },
   "file_extension": ".py",
   "mimetype": "text/x-python",
   "name": "python",
   "nbconvert_exporter": "python",
   "pygments_lexer": "ipython3",
   "version": "3.6.0"
  }
 },
 "nbformat": 4,
 "nbformat_minor": 2
}
