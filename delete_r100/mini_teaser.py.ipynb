{
 "cells": [
  {
   "cell_type": "raw",
   "metadata": {},
   "source": [
    "Merging two sorted list"
   ]
  },
  {
   "cell_type": "code",
   "execution_count": 11,
   "metadata": {
    "collapsed": false
   },
   "outputs": [
    {
     "name": "stdout",
     "output_type": "stream",
     "text": [
      "[3, 4, 6, 10, 11, 18]\n"
     ]
    }
   ],
   "source": [
    "a = [3, 4, 6, 10, 11, 18]\n",
    "b = [1, 5, 7, 12, 13, 19, 21]\n",
    "\n",
    "# a.extend(b)\n",
    "c = sorted(a)\n",
    "print(c)"
   ]
  },
  {
   "cell_type": "code",
   "execution_count": 14,
   "metadata": {
    "collapsed": false
   },
   "outputs": [
    {
     "data": {
      "text/plain": [
       "[1, 3, 4, 5, 6, 7, 10, 11, 12, 13, 18, 19, 21]"
      ]
     },
     "execution_count": 14,
     "metadata": {},
     "output_type": "execute_result"
    }
   ],
   "source": [
    "sorted(a+b)"
   ]
  },
  {
   "cell_type": "raw",
   "metadata": {},
   "source": [
    "Get word frequency - initializing dictionary  : two ways"
   ]
  },
  {
   "cell_type": "code",
   "execution_count": 22,
   "metadata": {
    "collapsed": false
   },
   "outputs": [
    {
     "name": "stdout",
     "output_type": "stream",
     "text": [
      "['I', 'figured', 'it', 'out', 'I', 'figured', 'it', 'out', 'from', 'black', 'and', 'white', 'Seconds', 'and', 'hours', 'Maybe', 'they', 'had', 'to', 'take', 'some', 'time'] \n",
      "\n",
      " {'I': 0, 'figured': 0, 'it': 0, 'out': 0, 'from': 0, 'black': 0, 'and': 0, 'white': 0, 'Seconds': 0, 'hours': 0, 'Maybe': 0, 'they': 0, 'had': 0, 'to': 0, 'take': 0, 'some': 0, 'time': 0} \n",
      "\n",
      "{'I': 2, 'figured': 2, 'it': 2, 'out': 2, 'from': 1, 'black': 1, 'and': 2, 'white': 1, 'Seconds': 1, 'hours': 1, 'Maybe': 1, 'they': 1, 'had': 1, 'to': 1, 'take': 1, 'some': 1, 'time': 1}\n"
     ]
    }
   ],
   "source": [
    "ss = \"\"\"I figured it out\n",
    "I figured it out from black and white\n",
    "Seconds and hours\n",
    "Maybe they had to take some time\"\"\"\n",
    "\n",
    "words = ss.split() #split on space\n",
    "d = {}.fromkeys(words,0) #initialized the dictionary with 0 using fromkeys()\n",
    "print(words,'\\n\\n',d,'\\n')\n",
    "for w in words:\n",
    "    d[w] += 1 #group count by key\n",
    "print(d)"
   ]
  },
  {
   "cell_type": "code",
   "execution_count": 24,
   "metadata": {
    "collapsed": false
   },
   "outputs": [
    {
     "name": "stdout",
     "output_type": "stream",
     "text": [
      "{'I': 2, 'figured': 2, 'it': 2, 'out': 2, 'from': 1, 'black': 1, 'and': 2, 'white': 1, 'Seconds': 1, 'hours': 1, 'Maybe': 1, 'they': 1, 'had': 1, 'to': 1, 'take': 1, 'some': 1, 'time': 1}\n"
     ]
    }
   ],
   "source": [
    "d = {}\n",
    "for w in ss.split():\n",
    "    d[w] = d.get(w,0) + 1\n",
    "print(d)"
   ]
  },
  {
   "cell_type": "code",
   "execution_count": 17,
   "metadata": {
    "collapsed": false
   },
   "outputs": [
    {
     "name": "stdout",
     "output_type": "stream",
     "text": [
      "Returns a new dict with keys from iterable and values equal to value.\n"
     ]
    }
   ],
   "source": [
    "d={}\n",
    "print(d.fromkeys.__doc__)"
   ]
  },
  {
   "cell_type": "code",
   "execution_count": 25,
   "metadata": {
    "collapsed": false
   },
   "outputs": [
    {
     "name": "stdout",
     "output_type": "stream",
     "text": [
      "defaultdict(<class 'int'>, {'I': 2, 'figured': 2, 'it': 2, 'out': 2, 'from': 1, 'black': 1, 'and': 2, 'white': 1, 'Seconds': 1, 'hours': 1, 'Maybe': 1, 'they': 1, 'had': 1, 'to': 1, 'take': 1, 'some': 1, 'time': 1})\n"
     ]
    }
   ],
   "source": [
    "from collections import defaultdict\n",
    "d = defaultdict(int)\n",
    "for w in words:\n",
    "    d[w] += 1\n",
    "print(d)"
   ]
  },
  {
   "cell_type": "raw",
   "metadata": {},
   "source": [
    "Initializing dictionary with list - I\n",
    "construct dictionary whose values are lists"
   ]
  },
  {
   "cell_type": "code",
   "execution_count": 27,
   "metadata": {
    "collapsed": false
   },
   "outputs": [
    {
     "name": "stdout",
     "output_type": "stream",
     "text": [
      "defaultdict(<class 'list'>, {'US': ['San Francisco', 'Los Angeles'], 'UK': ['London', 'Manchester'], 'France': ['Paris'], 'Korea': ['Seoul']}) \n",
      "\n",
      "{'US': ['San Francisco', 'Los Angeles'], 'UK': ['London', 'Manchester'], 'France': ['Paris'], 'Korea': ['Seoul']} \n",
      "\n"
     ]
    }
   ],
   "source": [
    "cities = {'San Francisco': 'US', 'London':'UK',\n",
    "        'Manchester':'UK', 'Paris':'France',\n",
    "        'Los Angeles':'US', 'Seoul':'Korea'}\n",
    "\n",
    "# => {'US':['San Francisco', 'Los Angeles'], 'UK':[,], ...}\n",
    "\n",
    "from collections import defaultdict\n",
    "# using collections.defaultdict()\n",
    "d1 = defaultdict(list) # initialize dict with list\n",
    "for k,v in cities.items():\n",
    "    d1[v].append(k)\n",
    "print(d1,'\\n')\n",
    "\n",
    "# using dict.setdefault(key, default=None)\n",
    "d2 = {}\n",
    "for k,v in cities.items():\n",
    "       d2.setdefault(v,[]).append(k)\n",
    "print(d2,'\\n')\n"
   ]
  },
  {
   "cell_type": "raw",
   "metadata": {},
   "source": [
    "make a dictionary with the number of digits as the key and list of numbers the value\n",
    "Initializing dictionary with list - II"
   ]
  },
  {
   "cell_type": "code",
   "execution_count": 28,
   "metadata": {
    "collapsed": false
   },
   "outputs": [
    {
     "name": "stdout",
     "output_type": "stream",
     "text": [
      "defaultdict(<class 'list'>, {1: [1, 2, 4, 8], 2: [16, 32, 64], 3: [128, 256, 512], 4: [1024], 5: [32768, 65536], 10: [4294967296]})\n",
      "{1: [1, 2, 4, 8], 2: [16, 32, 64], 3: [128, 256, 512], 4: [1024], 5: [32768, 65536], 10: [4294967296]}\n"
     ]
    }
   ],
   "source": [
    "L = [1,2,4,8,16,32,64,128,256,512,1024,32768,65536,4294967296]\n",
    "\n",
    "from collections import defaultdict\n",
    "d = defaultdict(list)\n",
    "for i in L:\n",
    "    d[len(str(i))].append(i)\n",
    "print(d)\n",
    "print({k:v for k,v in d.items()})"
   ]
  },
  {
   "cell_type": "code",
   "execution_count": 30,
   "metadata": {
    "collapsed": false
   },
   "outputs": [
    {
     "name": "stdout",
     "output_type": "stream",
     "text": [
      "defaultdict(<class 'list'>, {1: [1, 2, 4, 8], 2: [16, 32, 64], 3: [128, 256, 512], 4: [1024], 5: [32768, 65536], 10: [4294967296]})\n",
      "{1: [1, 2, 4, 8], 2: [16, 32, 64], 3: [128, 256, 512], 4: [1024], 5: [32768, 65536], 10: [4294967296]}\n"
     ]
    }
   ],
   "source": [
    "L = [1,2,4,8,16,32,64,128,256,512,1024,32768,65536,4294967296]\n",
    "\n",
    "from collections import defaultdict\n",
    "d = defaultdict(list)\n",
    "for i in L:\n",
    "    d[len(str(i))].append(i)\n",
    "print(d)\n",
    "print({k:v for k,v in d.items()})"
   ]
  },
  {
   "cell_type": "code",
   "execution_count": 34,
   "metadata": {
    "collapsed": false
   },
   "outputs": [
    {
     "name": "stdout",
     "output_type": "stream",
     "text": [
      "[0, 2, 4, 6, 8]\n",
      "filter(function or None, iterable) --> filter object\n",
      "\n",
      "Return an iterator yielding those items of iterable for which function(item)\n",
      "is true. If function is None, return the items that are true.\n",
      "map(func, *iterables) --> map object\n",
      "\n",
      "Make an iterator that computes the function using arguments from\n",
      "each of the iterables.  Stops when the shortest iterable is exhausted.\n",
      "120\n"
     ]
    }
   ],
   "source": [
    "from functools import reduce\n",
    "\n",
    "l = [x for x in range(10) if x % 2 == 0]\n",
    "print(l)\n",
    "\n",
    "m = filter(lambda x:x % 2 == 0, [x for x in range(10)] )\n",
    "print(m.__doc__)\n",
    "\n",
    "o = map(lambda x: x**2, m)\n",
    "print(o.__doc__)\n",
    "\n",
    "p = reduce(lambda x,y:x+y, o)\n",
    "print(p)"
   ]
  },
  {
   "cell_type": "raw",
   "metadata": {},
   "source": [
    "Write a function f() we do not want to use return, instead, we may want to use generator"
   ]
  },
  {
   "cell_type": "raw",
   "metadata": {},
   "source": [
    "practical sample of code which I used for Natural Language Processing(NLP)"
   ]
  },
  {
   "cell_type": "raw",
   "metadata": {},
   "source": [
    "Suppose we have a huge data file that has hundred millions of lines. So, it may well exceed our computer's memory. In this case, we may want to take so called out-of-core approach: we process data in batch (partially, one by one) rather than process it at once. This saves us from the memory issue when we deal with big data set."
   ]
  },
  {
   "cell_type": "code",
   "execution_count": null,
   "metadata": {
    "collapsed": true
   },
   "outputs": [],
   "source": [
    "def stream_docs(path):\n",
    "    with open(path, 'rb') as lines:\n",
    "        for line in lines:\n",
    "            text, label = line[:-3], line[-3:-1]\n",
    "            yield text, label\n",
    "            \n",
    "def get_minibatch(doc_stream, size):\n",
    "    docs, y = [], []\n",
    "    try:\n",
    "        for _ in range(size):\n",
    "            text, label = next(doc_stream)\n",
    "            docs.append(text)\n",
    "            y.append(label)\n",
    "    except StopIteration:\n",
    "        return None, None\n",
    "    return docs, y\n",
    "\n",
    "doc_stream = stream_docs(path='./test.txt')\n",
    "\n",
    "for _ in range(100):\n",
    "    X_train, y_train = get_minibatch(doc_stream, size=3)\n",
    "    if not X_train:\n",
    "        break\n",
    "    print 'X_train, y_train=', X_train, y_train"
   ]
  },
  {
   "cell_type": "raw",
   "metadata": {},
   "source": [
    "Download large files from internet"
   ]
  },
  {
   "cell_type": "code",
   "execution_count": null,
   "metadata": {
    "collapsed": true
   },
   "outputs": [],
   "source": [
    "# imported the requests library\n",
    "import requests\n",
    "image_url = 'http://stanford.edu/class/psych252/data/hw2data.csv'"
   ]
  },
  {
   "cell_type": "code",
   "execution_count": 38,
   "metadata": {
    "collapsed": true
   },
   "outputs": [],
   "source": [
    "import requests\n",
    "file_url = \"http://stanford.edu/class/psych252/data/hw2data.csv\"\n",
    " \n",
    "r = requests.get(file_url, stream = True)\n",
    "#Setting stream parameter to True will cause the download of\n",
    "#response headers only and the connection remains open\n",
    " \n",
    "with open(\"standford_linear_regression.data\",\"wb\") as pdf:\n",
    "    for chunk in r.iter_content(chunk_size=1024):\n",
    "\n",
    "         # writing one chunk at a time to pdf file\n",
    "         if chunk:\n",
    "             pdf.write(chunk)"
   ]
  },
  {
   "cell_type": "raw",
   "metadata": {},
   "source": [
    "Downloading Videos"
   ]
  },
  {
   "cell_type": "code",
   "execution_count": null,
   "metadata": {
    "collapsed": true
   },
   "outputs": [],
   "source": [
    "In this example, we are interested in downloading all the video lectures available on this web-page. All the archives of this lecture are available here. So, we first scrape the webpage to extract all video links and then download the videos one by one.\n",
    "\n",
    "import requests\n",
    "from bs4 import BeautifulSoup\n",
    " \n",
    "'''\n",
    "URL of the archive web-page which provides link to\n",
    "all video lectures. It would have been tiring to\n",
    "download each video manually.\n",
    "In this example, we first crawl the webpage to extract\n",
    "all the links and then download videos.\n",
    "'''\n",
    " \n",
    "# specify the URL of the archive here\n",
    "archive_url = \"http://www-personal.umich.edu/~csev/books/py4inf/media/\"\n",
    " \n",
    "def get_video_links():\n",
    "     \n",
    "    # create response object\n",
    "    r = requests.get(archive_url)\n",
    "     \n",
    "    # create beautiful-soup object\n",
    "    soup = BeautifulSoup(r.content,'html5lib')\n",
    "     \n",
    "    # find all links on web-page\n",
    "    links = soup.findAll('a')\n",
    " \n",
    "    # filter the link sending with .mp4\n",
    "    video_links = [archive_url + link['href'] for link in links if link['href'].endswith('mp4')]\n",
    " \n",
    "    return video_links\n",
    " \n",
    " \n",
    "def download_video_series(video_links):\n",
    " \n",
    "    for link in video_links:\n",
    " \n",
    "        '''iterate through all links in video_links\n",
    "        and download them one by one'''\n",
    "         \n",
    "        # obtain filename by splitting url and getting \n",
    "        # last string\n",
    "        file_name = link.split('/')[-1]   \n",
    " \n",
    "        print \"Downloading file:%s\"%file_name\n",
    "         \n",
    "        # create response object\n",
    "        r = requests.get(link, stream = True)\n",
    "         \n",
    "        # download started\n",
    "        with open(file_name, 'wb') as f:\n",
    "            for chunk in r.iter_content(chunk_size = 1024*1024):\n",
    "                if chunk:\n",
    "                    f.write(chunk)\n",
    "         \n",
    "        print \"%s downloaded!\\n\"%file_name\n",
    " \n",
    "    print \"All videos downloaded!\"\n",
    "    return\n",
    " \n",
    " \n",
    "if __name__ == \"__main__\":\n",
    " \n",
    "    # getting all video links\n",
    "    video_links = get_video_links()\n",
    " \n",
    "    # download all videos\n",
    "    download_video_series(video_links)"
   ]
  },
  {
   "cell_type": "code",
   "execution_count": 31,
   "metadata": {
    "collapsed": false
   },
   "outputs": [
    {
     "name": "stdout",
     "output_type": "stream",
     "text": [
      "20171213_084959\n"
     ]
    }
   ],
   "source": [
    "# Import the time module, it provides various time-related\n",
    "# functions.\n",
    "import time\n",
    "# This is the actual time that we will use to print.\n",
    "Actual_Time = time.strftime(\"%Y%m%d_%I%M%S\")\n",
    "print(Actual_Time)"
   ]
  },
  {
   "cell_type": "code",
   "execution_count": 52,
   "metadata": {
    "collapsed": false
   },
   "outputs": [
    {
     "data": {
      "text/plain": [
       "'0123456789101112131415161718192021222324252627282930313233343536373839404142434445464748495051525354555657585960616263646566676869707172737475767778798081828384858687888990919293949596979899100'"
      ]
     },
     "execution_count": 52,
     "metadata": {},
     "output_type": "execute_result"
    }
   ],
   "source": [
    "''.join([ str(x) for x in range(101)])"
   ]
  },
  {
   "cell_type": "code",
   "execution_count": 4,
   "metadata": {
    "collapsed": false
   },
   "outputs": [],
   "source": [
    "import time\n",
    "time.strftime(\"%Y%m%d_%I%M%S\")\n",
    "import pandas as pd\n",
    "import csv\n",
    "# print(pd.read_csv.__doc__)\n"
   ]
  },
  {
   "cell_type": "code",
   "execution_count": 5,
   "metadata": {
    "collapsed": false
   },
   "outputs": [
    {
     "name": "stdout",
     "output_type": "stream",
     "text": [
      "20171213_094645\n",
      "20171213_094742\n"
     ]
    }
   ],
   "source": [
    "print(time.strftime(\"%Y%m%d_%I%M%S\"))\n",
    "df = pd.read_csv('/home/manavee/Dropbox/DataDoNotSync/PysparkTransactionClassification/casa_6m_txn_desc_sample_deleteby20171231'\\\n",
    "                 ,error_bad_lines=False,skiprows=1 ,names = ['tran_particular']\\\n",
    "                    ,iterator=False,encoding=\"latin-1\")\n",
    "print(time.strftime(\"%Y%m%d_%I%M%S\"))"
   ]
  },
  {
   "cell_type": "code",
   "execution_count": 8,
   "metadata": {
    "collapsed": false
   },
   "outputs": [
    {
     "name": "stdout",
     "output_type": "stream",
     "text": [
      "Write DataFrame to a comma-separated values (csv) file\n",
      "\n",
      "        Parameters\n",
      "        ----------\n",
      "        path_or_buf : string or file handle, default None\n",
      "            File path or object, if None is provided the result is returned as\n",
      "            a string.\n",
      "        sep : character, default ','\n",
      "            Field delimiter for the output file.\n",
      "        na_rep : string, default ''\n",
      "            Missing data representation\n",
      "        float_format : string, default None\n",
      "            Format string for floating point numbers\n",
      "        columns : sequence, optional\n",
      "            Columns to write\n",
      "        header : boolean or list of string, default True\n",
      "            Write out column names. If a list of string is given it is assumed\n",
      "            to be aliases for the column names\n",
      "        index : boolean, default True\n",
      "            Write row names (index)\n",
      "        index_label : string or sequence, or False, default None\n",
      "            Column label for index column(s) if desired. If None is given, and\n",
      "            `header` and `index` are True, then the index names are used. A\n",
      "            sequence should be given if the DataFrame uses MultiIndex.  If\n",
      "            False do not print fields for index names. Use index_label=False\n",
      "            for easier importing in R\n",
      "        mode : str\n",
      "            Python write mode, default 'w'\n",
      "        encoding : string, optional\n",
      "            A string representing the encoding to use in the output file,\n",
      "            defaults to 'ascii' on Python 2 and 'utf-8' on Python 3.\n",
      "        compression : string, optional\n",
      "            a string representing the compression to use in the output file,\n",
      "            allowed values are 'gzip', 'bz2', 'xz',\n",
      "            only used when the first argument is a filename\n",
      "        line_terminator : string, default ``'\\n'``\n",
      "            The newline character or character sequence to use in the output\n",
      "            file\n",
      "        quoting : optional constant from csv module\n",
      "            defaults to csv.QUOTE_MINIMAL. If you have set a `float_format`\n",
      "            then floats are comverted to strings and thus csv.QUOTE_NONNUMERIC\n",
      "            will treat them as non-numeric\n",
      "        quotechar : string (length 1), default '\\\"'\n",
      "            character used to quote fields\n",
      "        doublequote : boolean, default True\n",
      "            Control quoting of `quotechar` inside a field\n",
      "        escapechar : string (length 1), default None\n",
      "            character used to escape `sep` and `quotechar` when appropriate\n",
      "        chunksize : int or None\n",
      "            rows to write at a time\n",
      "        tupleize_cols : boolean, default False\n",
      "            write multi_index columns as a list of tuples (if True)\n",
      "            or new (expanded format) if False)\n",
      "        date_format : string, default None\n",
      "            Format string for datetime objects\n",
      "        decimal: string, default '.'\n",
      "            Character recognized as decimal separator. E.g. use ',' for\n",
      "            European data\n",
      "\n",
      "            .. versionadded:: 0.16.0\n",
      "\n",
      "        \n"
     ]
    }
   ],
   "source": [
    "print(df.to_csv.__doc__)"
   ]
  },
  {
   "cell_type": "code",
   "execution_count": 9,
   "metadata": {
    "collapsed": false
   },
   "outputs": [
    {
     "data": {
      "text/plain": [
       "'20171213_095400'"
      ]
     },
     "execution_count": 9,
     "metadata": {},
     "output_type": "execute_result"
    }
   ],
   "source": [
    "time.strftime(\"%Y%m%d_%I%M%S\")\n",
    "df.head()\n",
    "df.to_csv('/home/manavee/Dropbox/DataDoNotSync/PysparkTransactionClassification/post_clean_n_16445000_casa_id_desc'\\\n",
    "          ,index_label=['ID'],encoding = 'utf-8',sep='|',header=True)\n",
    "time.strftime(\"%Y%m%d_%I%M%S\")"
   ]
  },
  {
   "cell_type": "code",
   "execution_count": 20,
   "metadata": {
    "collapsed": false
   },
   "outputs": [],
   "source": [
    "inputfilename='/home/manavee/Dropbox/DataDoNotSync/PysparkTransactionClassification/pre_clean_n_1644500_casa_id_desc'\n",
    "outputfilename = '/home/manavee/Dropbox/DataDoNotSync/PysparkTransactionClassification/post_clean_n_1644500_casa_id_desc'"
   ]
  },
  {
   "cell_type": "code",
   "execution_count": 26,
   "metadata": {
    "collapsed": false
   },
   "outputs": [
    {
     "name": "stderr",
     "output_type": "stream",
     "text": [
      "b'Skipping line 53: expected 1 fields, saw 2\\nSkipping line 83: expected 1 fields, saw 2\\nSkipping line 91: expected 1 fields, saw 2\\nSkipping line 95: expected 1 fields, saw 2\\nSkipping line 99: expected 1 fields, saw 2\\nSkipping line 157: expected 1 fields, saw 2\\nSkipping line 165: expected 1 fields, saw 2\\nSkipping line 175: expected 1 fields, saw 2\\nSkipping line 176: expected 1 fields, saw 2\\nSkipping line 220: expected 1 fields, saw 2\\nSkipping line 285: expected 1 fields, saw 2\\nSkipping line 286: expected 1 fields, saw 2\\nSkipping line 295: expected 1 fields, saw 2\\nSkipping line 328: expected 1 fields, saw 2\\nSkipping line 341: expected 1 fields, saw 2\\nSkipping line 403: expected 1 fields, saw 2\\nSkipping line 449: expected 1 fields, saw 2\\nSkipping line 460: expected 1 fields, saw 2\\nSkipping line 553: expected 1 fields, saw 2\\nSkipping line 562: expected 1 fields, saw 2\\nSkipping line 582: expected 1 fields, saw 2\\nSkipping line 585: expected 1 fields, saw 2\\nSkipping line 589: expected 1 fields, saw 2\\nSkipping line 592: expected 1 fields, saw 2\\nSkipping line 630: expected 1 fields, saw 2\\nSkipping line 649: expected 1 fields, saw 2\\nSkipping line 671: expected 1 fields, saw 2\\nSkipping line 715: expected 1 fields, saw 2\\nSkipping line 848: expected 1 fields, saw 2\\nSkipping line 852: expected 1 fields, saw 2\\nSkipping line 870: expected 1 fields, saw 2\\nSkipping line 899: expected 1 fields, saw 2\\nSkipping line 922: expected 1 fields, saw 2\\nSkipping line 1012: expected 1 fields, saw 2\\nSkipping line 1022: expected 1 fields, saw 2\\nSkipping line 1062: expected 1 fields, saw 2\\nSkipping line 1068: expected 1 fields, saw 2\\nSkipping line 1089: expected 1 fields, saw 2\\nSkipping line 1117: expected 1 fields, saw 2\\nSkipping line 1138: expected 1 fields, saw 2\\nSkipping line 1155: expected 1 fields, saw 2\\nSkipping line 1157: expected 1 fields, saw 2\\nSkipping line 1165: expected 1 fields, saw 2\\nSkipping line 1182: expected 1 fields, saw 2\\nSkipping line 1193: expected 1 fields, saw 2\\nSkipping line 1194: expected 1 fields, saw 2\\nSkipping line 1230: expected 1 fields, saw 2\\nSkipping line 1293: expected 1 fields, saw 2\\nSkipping line 1356: expected 1 fields, saw 2\\nSkipping line 1365: expected 1 fields, saw 2\\nSkipping line 1368: expected 1 fields, saw 2\\nSkipping line 1389: expected 1 fields, saw 2\\nSkipping line 1397: expected 1 fields, saw 2\\nSkipping line 1446: expected 1 fields, saw 2\\nSkipping line 1463: expected 1 fields, saw 2\\nSkipping line 1476: expected 1 fields, saw 2\\nSkipping line 1503: expected 1 fields, saw 2\\nSkipping line 1534: expected 1 fields, saw 2\\nSkipping line 1557: expected 1 fields, saw 2\\nSkipping line 1569: expected 1 fields, saw 2\\nSkipping line 1600: expected 1 fields, saw 2\\nSkipping line 1654: expected 1 fields, saw 2\\nSkipping line 1734: expected 1 fields, saw 2\\nSkipping line 1739: expected 1 fields, saw 2\\nSkipping line 1759: expected 1 fields, saw 2\\nSkipping line 1773: expected 1 fields, saw 2\\nSkipping line 1791: expected 1 fields, saw 2\\nSkipping line 1810: expected 1 fields, saw 2\\nSkipping line 1812: expected 1 fields, saw 2\\nSkipping line 1817: expected 1 fields, saw 2\\nSkipping line 1828: expected 1 fields, saw 2\\nSkipping line 1848: expected 1 fields, saw 2\\nSkipping line 1852: expected 1 fields, saw 2\\nSkipping line 1894: expected 1 fields, saw 2\\nSkipping line 1937: expected 1 fields, saw 2\\nSkipping line 1975: expected 1 fields, saw 2\\nSkipping line 1991: expected 1 fields, saw 2\\nSkipping line 2029: expected 1 fields, saw 2\\nSkipping line 2031: expected 1 fields, saw 2\\nSkipping line 2096: expected 1 fields, saw 2\\nSkipping line 2116: expected 1 fields, saw 2\\nSkipping line 2124: expected 1 fields, saw 2\\nSkipping line 2125: expected 1 fields, saw 2\\nSkipping line 2126: expected 1 fields, saw 2\\nSkipping line 2143: expected 1 fields, saw 2\\nSkipping line 2145: expected 1 fields, saw 2\\nSkipping line 2188: expected 1 fields, saw 2\\nSkipping line 2254: expected 1 fields, saw 2\\nSkipping line 2261: expected 1 fields, saw 2\\nSkipping line 2264: expected 1 fields, saw 2\\nSkipping line 2297: expected 1 fields, saw 2\\nSkipping line 2339: expected 1 fields, saw 2\\nSkipping line 2366: expected 1 fields, saw 2\\nSkipping line 2370: expected 1 fields, saw 2\\nSkipping line 2378: expected 1 fields, saw 2\\nSkipping line 2380: expected 1 fields, saw 2\\nSkipping line 2423: expected 1 fields, saw 2\\nSkipping line 2453: expected 1 fields, saw 2\\nSkipping line 2455: expected 1 fields, saw 2\\nSkipping line 2466: expected 1 fields, saw 2\\nSkipping line 2467: expected 1 fields, saw 2\\nSkipping line 2481: expected 1 fields, saw 2\\nSkipping line 2528: expected 1 fields, saw 2\\nSkipping line 2555: expected 1 fields, saw 2\\nSkipping line 2562: expected 1 fields, saw 2\\nSkipping line 2574: expected 1 fields, saw 2\\nSkipping line 2594: expected 1 fields, saw 2\\nSkipping line 2601: expected 1 fields, saw 2\\nSkipping line 2619: expected 1 fields, saw 2\\nSkipping line 2625: expected 1 fields, saw 2\\nSkipping line 2649: expected 1 fields, saw 2\\nSkipping line 2653: expected 1 fields, saw 2\\nSkipping line 2655: expected 1 fields, saw 2\\nSkipping line 2679: expected 1 fields, saw 2\\nSkipping line 2700: expected 1 fields, saw 2\\nSkipping line 2721: expected 1 fields, saw 2\\nSkipping line 2737: expected 1 fields, saw 2\\nSkipping line 2774: expected 1 fields, saw 2\\nSkipping line 2798: expected 1 fields, saw 2\\nSkipping line 2814: expected 1 fields, saw 2\\nSkipping line 2911: expected 1 fields, saw 2\\nSkipping line 2916: expected 1 fields, saw 2\\nSkipping line 2921: expected 1 fields, saw 2\\nSkipping line 2937: expected 1 fields, saw 2\\nSkipping line 3040: expected 1 fields, saw 2\\nSkipping line 3046: expected 1 fields, saw 2\\nSkipping line 3049: expected 1 fields, saw 2\\nSkipping line 3060: expected 1 fields, saw 2\\nSkipping line 3066: expected 1 fields, saw 2\\nSkipping line 3104: expected 1 fields, saw 2\\nSkipping line 3167: expected 1 fields, saw 2\\nSkipping line 3178: expected 1 fields, saw 2\\nSkipping line 3246: expected 1 fields, saw 2\\nSkipping line 3279: expected 1 fields, saw 2\\nSkipping line 3308: expected 1 fields, saw 2\\nSkipping line 3311: expected 1 fields, saw 2\\nSkipping line 3331: expected 1 fields, saw 2\\nSkipping line 3360: expected 1 fields, saw 2\\nSkipping line 3396: expected 1 fields, saw 2\\nSkipping line 3402: expected 1 fields, saw 2\\nSkipping line 3428: expected 1 fields, saw 2\\nSkipping line 3454: expected 1 fields, saw 2\\nSkipping line 3466: expected 1 fields, saw 2\\nSkipping line 3471: expected 1 fields, saw 2\\nSkipping line 3472: expected 1 fields, saw 2\\nSkipping line 3489: expected 1 fields, saw 2\\nSkipping line 3577: expected 1 fields, saw 2\\nSkipping line 3665: expected 1 fields, saw 2\\nSkipping line 3675: expected 1 fields, saw 2\\nSkipping line 3703: expected 1 fields, saw 2\\nSkipping line 3723: expected 1 fields, saw 3\\nSkipping line 3749: expected 1 fields, saw 2\\nSkipping line 3756: expected 1 fields, saw 2\\nSkipping line 3762: expected 1 fields, saw 3\\nSkipping line 3767: expected 1 fields, saw 2\\nSkipping line 3798: expected 1 fields, saw 2\\nSkipping line 3804: expected 1 fields, saw 2\\nSkipping line 3822: expected 1 fields, saw 2\\nSkipping line 3837: expected 1 fields, saw 2\\nSkipping line 3851: expected 1 fields, saw 2\\nSkipping line 3864: expected 1 fields, saw 2\\nSkipping line 3867: expected 1 fields, saw 2\\nSkipping line 3938: expected 1 fields, saw 2\\nSkipping line 3945: expected 1 fields, saw 2\\nSkipping line 3954: expected 1 fields, saw 2\\nSkipping line 3955: expected 1 fields, saw 2\\nSkipping line 3961: expected 1 fields, saw 2\\nSkipping line 3973: expected 1 fields, saw 2\\nSkipping line 3983: expected 1 fields, saw 2\\nSkipping line 3986: expected 1 fields, saw 2\\nSkipping line 4034: expected 1 fields, saw 2\\nSkipping line 4084: expected 1 fields, saw 2\\nSkipping line 4089: expected 1 fields, saw 2\\nSkipping line 4092: expected 1 fields, saw 2\\nSkipping line 4099: expected 1 fields, saw 2\\nSkipping line 4101: expected 1 fields, saw 2\\nSkipping line 4110: expected 1 fields, saw 2\\nSkipping line 4122: expected 1 fields, saw 2\\nSkipping line 4151: expected 1 fields, saw 2\\nSkipping line 4203: expected 1 fields, saw 2\\nSkipping line 4205: expected 1 fields, saw 2\\nSkipping line 4260: expected 1 fields, saw 2\\nSkipping line 4269: expected 1 fields, saw 2\\nSkipping line 4289: expected 1 fields, saw 2\\nSkipping line 4294: expected 1 fields, saw 2\\nSkipping line 4331: expected 1 fields, saw 2\\nSkipping line 4338: expected 1 fields, saw 2\\nSkipping line 4361: expected 1 fields, saw 2\\nSkipping line 4369: expected 1 fields, saw 2\\nSkipping line 4443: expected 1 fields, saw 2\\nSkipping line 4453: expected 1 fields, saw 2\\nSkipping line 4464: expected 1 fields, saw 2\\nSkipping line 4474: expected 1 fields, saw 2\\nSkipping line 4514: expected 1 fields, saw 2\\nSkipping line 4519: expected 1 fields, saw 2\\nSkipping line 4533: expected 1 fields, saw 2\\nSkipping line 4535: expected 1 fields, saw 2\\nSkipping line 4553: expected 1 fields, saw 2\\nSkipping line 4571: expected 1 fields, saw 2\\nSkipping line 4600: expected 1 fields, saw 2\\nSkipping line 4605: expected 1 fields, saw 2\\nSkipping line 4700: expected 1 fields, saw 2\\nSkipping line 4724: expected 1 fields, saw 2\\nSkipping line 4747: expected 1 fields, saw 2\\nSkipping line 4748: expected 1 fields, saw 2\\nSkipping line 4781: expected 1 fields, saw 2\\nSkipping line 4791: expected 1 fields, saw 2\\nSkipping line 4817: expected 1 fields, saw 2\\nSkipping line 4821: expected 1 fields, saw 2\\nSkipping line 4877: expected 1 fields, saw 2\\nSkipping line 4890: expected 1 fields, saw 2\\nSkipping line 4892: expected 1 fields, saw 2\\nSkipping line 4893: expected 1 fields, saw 2\\nSkipping line 4894: expected 1 fields, saw 2\\nSkipping line 4936: expected 1 fields, saw 2\\nSkipping line 4944: expected 1 fields, saw 2\\nSkipping line 5030: expected 1 fields, saw 2\\nSkipping line 5044: expected 1 fields, saw 2\\nSkipping line 5046: expected 1 fields, saw 2\\nSkipping line 5088: expected 1 fields, saw 2\\nSkipping line 5136: expected 1 fields, saw 2\\nSkipping line 5137: expected 1 fields, saw 2\\nSkipping line 5150: expected 1 fields, saw 2\\nSkipping line 5186: expected 1 fields, saw 2\\nSkipping line 5207: expected 1 fields, saw 2\\nSkipping line 5268: expected 1 fields, saw 2\\nSkipping line 5284: expected 1 fields, saw 2\\nSkipping line 5303: expected 1 fields, saw 2\\nSkipping line 5315: expected 1 fields, saw 2\\nSkipping line 5329: expected 1 fields, saw 2\\nSkipping line 5346: expected 1 fields, saw 2\\nSkipping line 5362: expected 1 fields, saw 2\\nSkipping line 5407: expected 1 fields, saw 2\\nSkipping line 5414: expected 1 fields, saw 2\\nSkipping line 5428: expected 1 fields, saw 2\\nSkipping line 5494: expected 1 fields, saw 2\\nSkipping line 5556: expected 1 fields, saw 2\\nSkipping line 5561: expected 1 fields, saw 2\\nSkipping line 5575: expected 1 fields, saw 2\\nSkipping line 5621: expected 1 fields, saw 2\\nSkipping line 5643: expected 1 fields, saw 2\\nSkipping line 5652: expected 1 fields, saw 2\\nSkipping line 5656: expected 1 fields, saw 2\\nSkipping line 5666: expected 1 fields, saw 2\\nSkipping line 5683: expected 1 fields, saw 2\\nSkipping line 5688: expected 1 fields, saw 2\\nSkipping line 5758: expected 1 fields, saw 2\\nSkipping line 5759: expected 1 fields, saw 2\\nSkipping line 5768: expected 1 fields, saw 2\\nSkipping line 5773: expected 1 fields, saw 2\\nSkipping line 5809: expected 1 fields, saw 2\\nSkipping line 5827: expected 1 fields, saw 2\\nSkipping line 5839: expected 1 fields, saw 2\\nSkipping line 5861: expected 1 fields, saw 2\\nSkipping line 5887: expected 1 fields, saw 2\\nSkipping line 5893: expected 1 fields, saw 2\\nSkipping line 5895: expected 1 fields, saw 2\\nSkipping line 5926: expected 1 fields, saw 2\\nSkipping line 5944: expected 1 fields, saw 2\\nSkipping line 5951: expected 1 fields, saw 2\\nSkipping line 5957: expected 1 fields, saw 2\\nSkipping line 5960: expected 1 fields, saw 2\\nSkipping line 6001: expected 1 fields, saw 2\\nSkipping line 6034: expected 1 fields, saw 2\\nSkipping line 6049: expected 1 fields, saw 2\\nSkipping line 6060: expected 1 fields, saw 3\\nSkipping line 6088: expected 1 fields, saw 2\\nSkipping line 6112: expected 1 fields, saw 2\\nSkipping line 6124: expected 1 fields, saw 2\\nSkipping line 6127: expected 1 fields, saw 2\\nSkipping line 6182: expected 1 fields, saw 2\\nSkipping line 6198: expected 1 fields, saw 2\\nSkipping line 6201: expected 1 fields, saw 2\\nSkipping line 6202: expected 1 fields, saw 2\\nSkipping line 6219: expected 1 fields, saw 2\\nSkipping line 6228: expected 1 fields, saw 2\\nSkipping line 6250: expected 1 fields, saw 2\\nSkipping line 6308: expected 1 fields, saw 2\\nSkipping line 6313: expected 1 fields, saw 2\\nSkipping line 6374: expected 1 fields, saw 2\\nSkipping line 6404: expected 1 fields, saw 2\\nSkipping line 6436: expected 1 fields, saw 2\\nSkipping line 6440: expected 1 fields, saw 2\\nSkipping line 6484: expected 1 fields, saw 2\\nSkipping line 6486: expected 1 fields, saw 2\\nSkipping line 6532: expected 1 fields, saw 2\\nSkipping line 6533: expected 1 fields, saw 2\\nSkipping line 6537: expected 1 fields, saw 2\\nSkipping line 6543: expected 1 fields, saw 3\\nSkipping line 6578: expected 1 fields, saw 2\\nSkipping line 6584: expected 1 fields, saw 2\\nSkipping line 6635: expected 1 fields, saw 3\\nSkipping line 6656: expected 1 fields, saw 2\\nSkipping line 6677: expected 1 fields, saw 2\\nSkipping line 6691: expected 1 fields, saw 2\\nSkipping line 6712: expected 1 fields, saw 2\\nSkipping line 6724: expected 1 fields, saw 2\\nSkipping line 6772: expected 1 fields, saw 2\\nSkipping line 6777: expected 1 fields, saw 2\\nSkipping line 6824: expected 1 fields, saw 3\\nSkipping line 6829: expected 1 fields, saw 2\\nSkipping line 6868: expected 1 fields, saw 2\\nSkipping line 6902: expected 1 fields, saw 2\\nSkipping line 6925: expected 1 fields, saw 2\\nSkipping line 6926: expected 1 fields, saw 2\\nSkipping line 6941: expected 1 fields, saw 2\\nSkipping line 6975: expected 1 fields, saw 2\\nSkipping line 7013: expected 1 fields, saw 2\\nSkipping line 7022: expected 1 fields, saw 2\\nSkipping line 7025: expected 1 fields, saw 2\\nSkipping line 7028: expected 1 fields, saw 2\\nSkipping line 7029: expected 1 fields, saw 2\\nSkipping line 7042: expected 1 fields, saw 2\\nSkipping line 7073: expected 1 fields, saw 2\\nSkipping line 7078: expected 1 fields, saw 2\\nSkipping line 7080: expected 1 fields, saw 2\\nSkipping line 7096: expected 1 fields, saw 2\\nSkipping line 7097: expected 1 fields, saw 2\\nSkipping line 7135: expected 1 fields, saw 2\\nSkipping line 7166: expected 1 fields, saw 2\\nSkipping line 7201: expected 1 fields, saw 2\\nSkipping line 7258: expected 1 fields, saw 2\\nSkipping line 7292: expected 1 fields, saw 2\\nSkipping line 7296: expected 1 fields, saw 2\\nSkipping line 7370: expected 1 fields, saw 2\\nSkipping line 7381: expected 1 fields, saw 2\\nSkipping line 7392: expected 1 fields, saw 2\\nSkipping line 7414: expected 1 fields, saw 2\\nSkipping line 7424: expected 1 fields, saw 2\\nSkipping line 7450: expected 1 fields, saw 2\\nSkipping line 7480: expected 1 fields, saw 2\\nSkipping line 7504: expected 1 fields, saw 2\\nSkipping line 7515: expected 1 fields, saw 2\\nSkipping line 7537: expected 1 fields, saw 2\\nSkipping line 7554: expected 1 fields, saw 2\\nSkipping line 7560: expected 1 fields, saw 2\\nSkipping line 7565: expected 1 fields, saw 2\\nSkipping line 7573: expected 1 fields, saw 2\\nSkipping line 7613: expected 1 fields, saw 2\\nSkipping line 7624: expected 1 fields, saw 2\\nSkipping line 7625: expected 1 fields, saw 2\\nSkipping line 7635: expected 1 fields, saw 2\\nSkipping line 7662: expected 1 fields, saw 2\\nSkipping line 7694: expected 1 fields, saw 2\\nSkipping line 7760: expected 1 fields, saw 2\\nSkipping line 7771: expected 1 fields, saw 2\\nSkipping line 7796: expected 1 fields, saw 2\\nSkipping line 7800: expected 1 fields, saw 2\\nSkipping line 7827: expected 1 fields, saw 2\\nSkipping line 7850: expected 1 fields, saw 2\\nSkipping line 7868: expected 1 fields, saw 2\\nSkipping line 7872: expected 1 fields, saw 2\\nSkipping line 7887: expected 1 fields, saw 2\\nSkipping line 7890: expected 1 fields, saw 2\\nSkipping line 7913: expected 1 fields, saw 2\\nSkipping line 7922: expected 1 fields, saw 2\\nSkipping line 7962: expected 1 fields, saw 2\\nSkipping line 7968: expected 1 fields, saw 2\\nSkipping line 8058: expected 1 fields, saw 2\\nSkipping line 8065: expected 1 fields, saw 2\\nSkipping line 8114: expected 1 fields, saw 2\\nSkipping line 8138: expected 1 fields, saw 2\\nSkipping line 8147: expected 1 fields, saw 2\\nSkipping line 8150: expected 1 fields, saw 2\\nSkipping line 8151: expected 1 fields, saw 2\\nSkipping line 8165: expected 1 fields, saw 2\\nSkipping line 8170: expected 1 fields, saw 2\\nSkipping line 8194: expected 1 fields, saw 2\\nSkipping line 8202: expected 1 fields, saw 2\\nSkipping line 8227: expected 1 fields, saw 2\\nSkipping line 8241: expected 1 fields, saw 2\\nSkipping line 8308: expected 1 fields, saw 2\\nSkipping line 8322: expected 1 fields, saw 3\\nSkipping line 8323: expected 1 fields, saw 2\\nSkipping line 8324: expected 1 fields, saw 2\\nSkipping line 8328: expected 1 fields, saw 2\\nSkipping line 8354: expected 1 fields, saw 2\\nSkipping line 8365: expected 1 fields, saw 2\\nSkipping line 8392: expected 1 fields, saw 2\\nSkipping line 8407: expected 1 fields, saw 2\\nSkipping line 8420: expected 1 fields, saw 2\\nSkipping line 8421: expected 1 fields, saw 2\\nSkipping line 8458: expected 1 fields, saw 2\\nSkipping line 8473: expected 1 fields, saw 2\\nSkipping line 8478: expected 1 fields, saw 2\\nSkipping line 8490: expected 1 fields, saw 2\\nSkipping line 8512: expected 1 fields, saw 2\\nSkipping line 8517: expected 1 fields, saw 2\\nSkipping line 8526: expected 1 fields, saw 2\\nSkipping line 8537: expected 1 fields, saw 2\\nSkipping line 8545: expected 1 fields, saw 2\\nSkipping line 8640: expected 1 fields, saw 2\\nSkipping line 8655: expected 1 fields, saw 4\\nSkipping line 8664: expected 1 fields, saw 2\\nSkipping line 8669: expected 1 fields, saw 2\\nSkipping line 8733: expected 1 fields, saw 2\\nSkipping line 8738: expected 1 fields, saw 2\\nSkipping line 8739: expected 1 fields, saw 2\\nSkipping line 8740: expected 1 fields, saw 2\\nSkipping line 8749: expected 1 fields, saw 2\\nSkipping line 8794: expected 1 fields, saw 2\\nSkipping line 8856: expected 1 fields, saw 2\\nSkipping line 8871: expected 1 fields, saw 2\\nSkipping line 8875: expected 1 fields, saw 2\\nSkipping line 8902: expected 1 fields, saw 2\\nSkipping line 8951: expected 1 fields, saw 2\\nSkipping line 8965: expected 1 fields, saw 2\\nSkipping line 8995: expected 1 fields, saw 2\\nSkipping line 9021: expected 1 fields, saw 2\\nSkipping line 9048: expected 1 fields, saw 2\\nSkipping line 9068: expected 1 fields, saw 2\\nSkipping line 9085: expected 1 fields, saw 2\\nSkipping line 9095: expected 1 fields, saw 2\\nSkipping line 9105: expected 1 fields, saw 2\\nSkipping line 9117: expected 1 fields, saw 2\\nSkipping line 9122: expected 1 fields, saw 2\\nSkipping line 9124: expected 1 fields, saw 2\\nSkipping line 9139: expected 1 fields, saw 2\\nSkipping line 9158: expected 1 fields, saw 2\\nSkipping line 9169: expected 1 fields, saw 2\\nSkipping line 9170: expected 1 fields, saw 2\\nSkipping line 9193: expected 1 fields, saw 2\\nSkipping line 9220: expected 1 fields, saw 2\\nSkipping line 9223: expected 1 fields, saw 2\\nSkipping line 9255: expected 1 fields, saw 2\\nSkipping line 9261: expected 1 fields, saw 2\\nSkipping line 9282: expected 1 fields, saw 2\\nSkipping line 9302: expected 1 fields, saw 2\\nSkipping line 9315: expected 1 fields, saw 2\\nSkipping line 9326: expected 1 fields, saw 2\\nSkipping line 9333: expected 1 fields, saw 2\\nSkipping line 9373: expected 1 fields, saw 2\\nSkipping line 9414: expected 1 fields, saw 2\\nSkipping line 9438: expected 1 fields, saw 2\\nSkipping line 9456: expected 1 fields, saw 2\\nSkipping line 9468: expected 1 fields, saw 2\\nSkipping line 9485: expected 1 fields, saw 2\\nSkipping line 9526: expected 1 fields, saw 2\\nSkipping line 9536: expected 1 fields, saw 2\\nSkipping line 9546: expected 1 fields, saw 2\\nSkipping line 9554: expected 1 fields, saw 2\\nSkipping line 9567: expected 1 fields, saw 2\\nSkipping line 9578: expected 1 fields, saw 2\\nSkipping line 9593: expected 1 fields, saw 2\\nSkipping line 9614: expected 1 fields, saw 2\\nSkipping line 9692: expected 1 fields, saw 2\\nSkipping line 9706: expected 1 fields, saw 2\\nSkipping line 9737: expected 1 fields, saw 2\\nSkipping line 9741: expected 1 fields, saw 2\\nSkipping line 9750: expected 1 fields, saw 2\\nSkipping line 9770: expected 1 fields, saw 2\\nSkipping line 9786: expected 1 fields, saw 2\\nSkipping line 9788: expected 1 fields, saw 2\\nSkipping line 9805: expected 1 fields, saw 2\\nSkipping line 9808: expected 1 fields, saw 2\\nSkipping line 9830: expected 1 fields, saw 2\\nSkipping line 9842: expected 1 fields, saw 2\\nSkipping line 9855: expected 1 fields, saw 2\\nSkipping line 9878: expected 1 fields, saw 2\\nSkipping line 9919: expected 1 fields, saw 2\\nSkipping line 9921: expected 1 fields, saw 2\\nSkipping line 9940: expected 1 fields, saw 2\\nSkipping line 9956: expected 1 fields, saw 2\\nSkipping line 9959: expected 1 fields, saw 2\\nSkipping line 9963: expected 1 fields, saw 2\\nSkipping line 9983: expected 1 fields, saw 2\\nSkipping line 9984: expected 1 fields, saw 2\\nSkipping line 9991: expected 1 fields, saw 2\\nSkipping line 9993: expected 1 fields, saw 2\\nSkipping line 10026: expected 1 fields, saw 2\\nSkipping line 10027: expected 1 fields, saw 2\\nSkipping line 10039: expected 1 fields, saw 2\\nSkipping line 10071: expected 1 fields, saw 2\\nSkipping line 10080: expected 1 fields, saw 2\\nSkipping line 10103: expected 1 fields, saw 2\\nSkipping line 10112: expected 1 fields, saw 2\\nSkipping line 10117: expected 1 fields, saw 2\\nSkipping line 10128: expected 1 fields, saw 2\\nSkipping line 10133: expected 1 fields, saw 2\\nSkipping line 10135: expected 1 fields, saw 2\\nSkipping line 10148: expected 1 fields, saw 2\\nSkipping line 10173: expected 1 fields, saw 2\\nSkipping line 10196: expected 1 fields, saw 2\\nSkipping line 10199: expected 1 fields, saw 2\\nSkipping line 10209: expected 1 fields, saw 2\\nSkipping line 10218: expected 1 fields, saw 2\\nSkipping line 10230: expected 1 fields, saw 2\\nSkipping line 10238: expected 1 fields, saw 2\\nSkipping line 10272: expected 1 fields, saw 2\\nSkipping line 10326: expected 1 fields, saw 2\\nSkipping line 10329: expected 1 fields, saw 2\\nSkipping line 10375: expected 1 fields, saw 2\\nSkipping line 10391: expected 1 fields, saw 2\\nSkipping line 10402: expected 1 fields, saw 2\\nSkipping line 10407: expected 1 fields, saw 2\\nSkipping line 10420: expected 1 fields, saw 2\\nSkipping line 10423: expected 1 fields, saw 2\\nSkipping line 10426: expected 1 fields, saw 2\\nSkipping line 10457: expected 1 fields, saw 2\\nSkipping line 10461: expected 1 fields, saw 2\\nSkipping line 10490: expected 1 fields, saw 2\\nSkipping line 10491: expected 1 fields, saw 2\\n'\n",
      "b'Skipping line 10511: expected 1 fields, saw 2\\nSkipping line 10534: expected 1 fields, saw 2\\nSkipping line 10547: expected 1 fields, saw 2\\nSkipping line 10555: expected 1 fields, saw 2\\nSkipping line 10557: expected 1 fields, saw 2\\nSkipping line 10571: expected 1 fields, saw 2\\nSkipping line 10610: expected 1 fields, saw 2\\nSkipping line 10618: expected 1 fields, saw 2\\nSkipping line 10627: expected 1 fields, saw 2\\nSkipping line 10631: expected 1 fields, saw 2\\nSkipping line 10675: expected 1 fields, saw 2\\nSkipping line 10680: expected 1 fields, saw 2\\nSkipping line 10696: expected 1 fields, saw 2\\nSkipping line 10715: expected 1 fields, saw 2\\nSkipping line 10726: expected 1 fields, saw 2\\nSkipping line 10733: expected 1 fields, saw 2\\nSkipping line 10766: expected 1 fields, saw 2\\nSkipping line 10787: expected 1 fields, saw 2\\nSkipping line 10791: expected 1 fields, saw 2\\nSkipping line 10800: expected 1 fields, saw 2\\nSkipping line 10801: expected 1 fields, saw 2\\nSkipping line 10802: expected 1 fields, saw 2\\nSkipping line 10835: expected 1 fields, saw 2\\nSkipping line 10918: expected 1 fields, saw 2\\nSkipping line 10937: expected 1 fields, saw 2\\nSkipping line 10980: expected 1 fields, saw 2\\nSkipping line 10984: expected 1 fields, saw 2\\nSkipping line 10996: expected 1 fields, saw 2\\nSkipping line 11010: expected 1 fields, saw 2\\nSkipping line 11056: expected 1 fields, saw 2\\nSkipping line 11084: expected 1 fields, saw 2\\nSkipping line 11098: expected 1 fields, saw 2\\nSkipping line 11145: expected 1 fields, saw 2\\nSkipping line 11155: expected 1 fields, saw 2\\nSkipping line 11159: expected 1 fields, saw 2\\nSkipping line 11172: expected 1 fields, saw 2\\nSkipping line 11250: expected 1 fields, saw 2\\nSkipping line 11263: expected 1 fields, saw 2\\nSkipping line 11285: expected 1 fields, saw 2\\nSkipping line 11287: expected 1 fields, saw 2\\nSkipping line 11300: expected 1 fields, saw 2\\nSkipping line 11322: expected 1 fields, saw 2\\nSkipping line 11333: expected 1 fields, saw 2\\nSkipping line 11367: expected 1 fields, saw 2\\nSkipping line 11368: expected 1 fields, saw 2\\nSkipping line 11380: expected 1 fields, saw 2\\nSkipping line 11385: expected 1 fields, saw 2\\nSkipping line 11393: expected 1 fields, saw 2\\nSkipping line 11414: expected 1 fields, saw 2\\nSkipping line 11417: expected 1 fields, saw 2\\nSkipping line 11422: expected 1 fields, saw 2\\nSkipping line 11436: expected 1 fields, saw 2\\nSkipping line 11457: expected 1 fields, saw 2\\nSkipping line 11468: expected 1 fields, saw 2\\nSkipping line 11492: expected 1 fields, saw 2\\nSkipping line 11512: expected 1 fields, saw 2\\nSkipping line 11529: expected 1 fields, saw 2\\nSkipping line 11539: expected 1 fields, saw 2\\nSkipping line 11544: expected 1 fields, saw 2\\nSkipping line 11580: expected 1 fields, saw 2\\nSkipping line 11631: expected 1 fields, saw 2\\nSkipping line 11644: expected 1 fields, saw 2\\nSkipping line 11686: expected 1 fields, saw 2\\nSkipping line 11740: expected 1 fields, saw 2\\nSkipping line 11758: expected 1 fields, saw 2\\nSkipping line 11769: expected 1 fields, saw 2\\nSkipping line 11772: expected 1 fields, saw 2\\nSkipping line 11851: expected 1 fields, saw 2\\nSkipping line 11854: expected 1 fields, saw 2\\nSkipping line 11865: expected 1 fields, saw 2\\nSkipping line 11866: expected 1 fields, saw 2\\nSkipping line 11879: expected 1 fields, saw 2\\nSkipping line 11902: expected 1 fields, saw 2\\nSkipping line 11904: expected 1 fields, saw 2\\nSkipping line 11908: expected 1 fields, saw 2\\nSkipping line 11924: expected 1 fields, saw 2\\nSkipping line 11977: expected 1 fields, saw 2\\nSkipping line 11998: expected 1 fields, saw 2\\nSkipping line 12001: expected 1 fields, saw 2\\nSkipping line 12004: expected 1 fields, saw 2\\nSkipping line 12045: expected 1 fields, saw 2\\nSkipping line 12096: expected 1 fields, saw 2\\nSkipping line 12130: expected 1 fields, saw 2\\nSkipping line 12158: expected 1 fields, saw 2\\nSkipping line 12188: expected 1 fields, saw 2\\nSkipping line 12215: expected 1 fields, saw 2\\nSkipping line 12233: expected 1 fields, saw 2\\nSkipping line 12235: expected 1 fields, saw 2\\nSkipping line 12239: expected 1 fields, saw 2\\nSkipping line 12262: expected 1 fields, saw 2\\nSkipping line 12284: expected 1 fields, saw 2\\nSkipping line 12312: expected 1 fields, saw 2\\nSkipping line 12342: expected 1 fields, saw 2\\nSkipping line 12366: expected 1 fields, saw 2\\nSkipping line 12374: expected 1 fields, saw 2\\nSkipping line 12377: expected 1 fields, saw 2\\nSkipping line 12413: expected 1 fields, saw 2\\nSkipping line 12430: expected 1 fields, saw 2\\nSkipping line 12462: expected 1 fields, saw 2\\nSkipping line 12472: expected 1 fields, saw 2\\nSkipping line 12475: expected 1 fields, saw 2\\nSkipping line 12507: expected 1 fields, saw 2\\nSkipping line 12513: expected 1 fields, saw 2\\nSkipping line 12580: expected 1 fields, saw 2\\nSkipping line 12583: expected 1 fields, saw 2\\nSkipping line 12601: expected 1 fields, saw 2\\nSkipping line 12607: expected 1 fields, saw 2\\nSkipping line 12632: expected 1 fields, saw 2\\nSkipping line 12637: expected 1 fields, saw 2\\nSkipping line 12709: expected 1 fields, saw 2\\nSkipping line 12710: expected 1 fields, saw 2\\nSkipping line 12722: expected 1 fields, saw 2\\nSkipping line 12725: expected 1 fields, saw 2\\nSkipping line 12764: expected 1 fields, saw 2\\nSkipping line 12776: expected 1 fields, saw 2\\nSkipping line 12778: expected 1 fields, saw 2\\nSkipping line 12781: expected 1 fields, saw 2\\nSkipping line 12789: expected 1 fields, saw 2\\nSkipping line 12810: expected 1 fields, saw 2\\nSkipping line 12845: expected 1 fields, saw 2\\nSkipping line 12873: expected 1 fields, saw 2\\nSkipping line 12876: expected 1 fields, saw 2\\nSkipping line 12893: expected 1 fields, saw 2\\nSkipping line 12937: expected 1 fields, saw 2\\nSkipping line 12966: expected 1 fields, saw 2\\nSkipping line 13011: expected 1 fields, saw 2\\nSkipping line 13033: expected 1 fields, saw 2\\nSkipping line 13037: expected 1 fields, saw 2\\nSkipping line 13080: expected 1 fields, saw 2\\nSkipping line 13084: expected 1 fields, saw 2\\nSkipping line 13089: expected 1 fields, saw 2\\nSkipping line 13090: expected 1 fields, saw 2\\nSkipping line 13158: expected 1 fields, saw 2\\nSkipping line 13181: expected 1 fields, saw 2\\nSkipping line 13213: expected 1 fields, saw 2\\nSkipping line 13219: expected 1 fields, saw 2\\nSkipping line 13242: expected 1 fields, saw 2\\nSkipping line 13247: expected 1 fields, saw 2\\nSkipping line 13256: expected 1 fields, saw 2\\nSkipping line 13283: expected 1 fields, saw 2\\nSkipping line 13328: expected 1 fields, saw 2\\nSkipping line 13335: expected 1 fields, saw 2\\nSkipping line 13435: expected 1 fields, saw 2\\nSkipping line 13465: expected 1 fields, saw 2\\nSkipping line 13468: expected 1 fields, saw 2\\nSkipping line 13522: expected 1 fields, saw 2\\nSkipping line 13576: expected 1 fields, saw 2\\nSkipping line 13595: expected 1 fields, saw 2\\nSkipping line 13616: expected 1 fields, saw 2\\nSkipping line 13633: expected 1 fields, saw 2\\nSkipping line 13636: expected 1 fields, saw 2\\nSkipping line 13686: expected 1 fields, saw 2\\nSkipping line 13688: expected 1 fields, saw 2\\nSkipping line 13718: expected 1 fields, saw 2\\nSkipping line 13719: expected 1 fields, saw 2\\nSkipping line 13747: expected 1 fields, saw 2\\nSkipping line 13765: expected 1 fields, saw 2\\nSkipping line 13779: expected 1 fields, saw 2\\nSkipping line 13783: expected 1 fields, saw 2\\nSkipping line 13789: expected 1 fields, saw 2\\nSkipping line 13824: expected 1 fields, saw 2\\nSkipping line 13826: expected 1 fields, saw 2\\nSkipping line 13860: expected 1 fields, saw 2\\nSkipping line 13882: expected 1 fields, saw 2\\nSkipping line 13883: expected 1 fields, saw 2\\nSkipping line 13894: expected 1 fields, saw 2\\nSkipping line 13911: expected 1 fields, saw 2\\nSkipping line 13931: expected 1 fields, saw 2\\nSkipping line 13985: expected 1 fields, saw 2\\nSkipping line 14008: expected 1 fields, saw 2\\nSkipping line 14011: expected 1 fields, saw 2\\nSkipping line 14013: expected 1 fields, saw 2\\nSkipping line 14016: expected 1 fields, saw 2\\nSkipping line 14026: expected 1 fields, saw 2\\nSkipping line 14040: expected 1 fields, saw 2\\nSkipping line 14068: expected 1 fields, saw 2\\nSkipping line 14085: expected 1 fields, saw 2\\nSkipping line 14138: expected 1 fields, saw 2\\nSkipping line 14149: expected 1 fields, saw 2\\nSkipping line 14197: expected 1 fields, saw 2\\nSkipping line 14198: expected 1 fields, saw 2\\nSkipping line 14207: expected 1 fields, saw 2\\nSkipping line 14236: expected 1 fields, saw 2\\nSkipping line 14293: expected 1 fields, saw 2\\nSkipping line 14310: expected 1 fields, saw 2\\nSkipping line 14317: expected 1 fields, saw 2\\nSkipping line 14372: expected 1 fields, saw 2\\nSkipping line 14378: expected 1 fields, saw 2\\nSkipping line 14381: expected 1 fields, saw 2\\nSkipping line 14395: expected 1 fields, saw 2\\nSkipping line 14400: expected 1 fields, saw 2\\nSkipping line 14411: expected 1 fields, saw 2\\nSkipping line 14413: expected 1 fields, saw 2\\nSkipping line 14422: expected 1 fields, saw 2\\nSkipping line 14428: expected 1 fields, saw 2\\nSkipping line 14465: expected 1 fields, saw 2\\nSkipping line 14506: expected 1 fields, saw 2\\nSkipping line 14510: expected 1 fields, saw 2\\nSkipping line 14523: expected 1 fields, saw 2\\nSkipping line 14568: expected 1 fields, saw 2\\nSkipping line 14570: expected 1 fields, saw 2\\nSkipping line 14606: expected 1 fields, saw 2\\nSkipping line 14659: expected 1 fields, saw 2\\nSkipping line 14680: expected 1 fields, saw 2\\nSkipping line 14706: expected 1 fields, saw 2\\nSkipping line 14745: expected 1 fields, saw 2\\nSkipping line 14755: expected 1 fields, saw 2\\nSkipping line 14758: expected 1 fields, saw 2\\nSkipping line 14798: expected 1 fields, saw 2\\nSkipping line 14815: expected 1 fields, saw 2\\nSkipping line 14840: expected 1 fields, saw 2\\nSkipping line 14848: expected 1 fields, saw 2\\nSkipping line 14858: expected 1 fields, saw 2\\nSkipping line 14873: expected 1 fields, saw 2\\nSkipping line 14879: expected 1 fields, saw 2\\nSkipping line 14892: expected 1 fields, saw 2\\nSkipping line 14899: expected 1 fields, saw 2\\nSkipping line 14939: expected 1 fields, saw 2\\nSkipping line 14998: expected 1 fields, saw 2\\nSkipping line 15018: expected 1 fields, saw 2\\nSkipping line 15051: expected 1 fields, saw 2\\nSkipping line 15058: expected 1 fields, saw 2\\nSkipping line 15068: expected 1 fields, saw 2\\nSkipping line 15084: expected 1 fields, saw 2\\nSkipping line 15110: expected 1 fields, saw 2\\nSkipping line 15125: expected 1 fields, saw 2\\nSkipping line 15131: expected 1 fields, saw 2\\nSkipping line 15143: expected 1 fields, saw 2\\nSkipping line 15182: expected 1 fields, saw 2\\nSkipping line 15196: expected 1 fields, saw 2\\nSkipping line 15249: expected 1 fields, saw 2\\nSkipping line 15293: expected 1 fields, saw 2\\nSkipping line 15391: expected 1 fields, saw 2\\nSkipping line 15402: expected 1 fields, saw 2\\nSkipping line 15414: expected 1 fields, saw 2\\nSkipping line 15430: expected 1 fields, saw 2\\nSkipping line 15438: expected 1 fields, saw 2\\nSkipping line 15453: expected 1 fields, saw 2\\nSkipping line 15456: expected 1 fields, saw 2\\nSkipping line 15462: expected 1 fields, saw 2\\nSkipping line 15467: expected 1 fields, saw 2\\nSkipping line 15494: expected 1 fields, saw 2\\nSkipping line 15506: expected 1 fields, saw 2\\nSkipping line 15544: expected 1 fields, saw 2\\nSkipping line 15565: expected 1 fields, saw 2\\nSkipping line 15590: expected 1 fields, saw 2\\nSkipping line 15622: expected 1 fields, saw 2\\nSkipping line 15623: expected 1 fields, saw 2\\nSkipping line 15629: expected 1 fields, saw 2\\nSkipping line 15631: expected 1 fields, saw 2\\nSkipping line 15652: expected 1 fields, saw 2\\nSkipping line 15658: expected 1 fields, saw 2\\nSkipping line 15669: expected 1 fields, saw 2\\nSkipping line 15675: expected 1 fields, saw 2\\nSkipping line 15701: expected 1 fields, saw 2\\nSkipping line 15743: expected 1 fields, saw 2\\nSkipping line 15761: expected 1 fields, saw 2\\nSkipping line 15822: expected 1 fields, saw 2\\nSkipping line 15853: expected 1 fields, saw 2\\nSkipping line 15857: expected 1 fields, saw 2\\nSkipping line 15910: expected 1 fields, saw 2\\nSkipping line 15930: expected 1 fields, saw 2\\nSkipping line 15943: expected 1 fields, saw 2\\nSkipping line 15953: expected 1 fields, saw 2\\nSkipping line 15954: expected 1 fields, saw 2\\nSkipping line 15958: expected 1 fields, saw 2\\nSkipping line 15982: expected 1 fields, saw 2\\nSkipping line 15994: expected 1 fields, saw 2\\nSkipping line 16036: expected 1 fields, saw 2\\nSkipping line 16070: expected 1 fields, saw 2\\nSkipping line 16090: expected 1 fields, saw 2\\nSkipping line 16114: expected 1 fields, saw 2\\nSkipping line 16124: expected 1 fields, saw 2\\nSkipping line 16137: expected 1 fields, saw 2\\nSkipping line 16165: expected 1 fields, saw 2\\nSkipping line 16200: expected 1 fields, saw 2\\nSkipping line 16209: expected 1 fields, saw 2\\nSkipping line 16227: expected 1 fields, saw 2\\nSkipping line 16243: expected 1 fields, saw 2\\nSkipping line 16268: expected 1 fields, saw 2\\nSkipping line 16271: expected 1 fields, saw 2\\nSkipping line 16272: expected 1 fields, saw 2\\nSkipping line 16278: expected 1 fields, saw 4\\nSkipping line 16279: expected 1 fields, saw 2\\nSkipping line 16280: expected 1 fields, saw 2\\nSkipping line 16328: expected 1 fields, saw 2\\nSkipping line 16331: expected 1 fields, saw 2\\nSkipping line 16348: expected 1 fields, saw 2\\nSkipping line 16377: expected 1 fields, saw 2\\nSkipping line 16378: expected 1 fields, saw 2\\nSkipping line 16394: expected 1 fields, saw 2\\nSkipping line 16401: expected 1 fields, saw 2\\nSkipping line 16414: expected 1 fields, saw 2\\nSkipping line 16429: expected 1 fields, saw 2\\nSkipping line 16443: expected 1 fields, saw 2\\nSkipping line 16447: expected 1 fields, saw 2\\nSkipping line 16454: expected 1 fields, saw 2\\nSkipping line 16456: expected 1 fields, saw 2\\nSkipping line 16485: expected 1 fields, saw 2\\nSkipping line 16498: expected 1 fields, saw 2\\nSkipping line 16577: expected 1 fields, saw 2\\nSkipping line 16589: expected 1 fields, saw 2\\nSkipping line 16592: expected 1 fields, saw 2\\nSkipping line 16601: expected 1 fields, saw 2\\nSkipping line 16616: expected 1 fields, saw 2\\nSkipping line 16620: expected 1 fields, saw 2\\nSkipping line 16626: expected 1 fields, saw 2\\nSkipping line 16633: expected 1 fields, saw 4\\nSkipping line 16671: expected 1 fields, saw 2\\nSkipping line 16713: expected 1 fields, saw 2\\nSkipping line 16719: expected 1 fields, saw 2\\nSkipping line 16737: expected 1 fields, saw 2\\nSkipping line 16743: expected 1 fields, saw 2\\nSkipping line 16776: expected 1 fields, saw 2\\nSkipping line 16797: expected 1 fields, saw 2\\nSkipping line 16850: expected 1 fields, saw 2\\nSkipping line 16863: expected 1 fields, saw 2\\nSkipping line 16912: expected 1 fields, saw 2\\nSkipping line 16918: expected 1 fields, saw 2\\nSkipping line 16921: expected 1 fields, saw 2\\nSkipping line 16934: expected 1 fields, saw 2\\nSkipping line 16955: expected 1 fields, saw 2\\nSkipping line 16956: expected 1 fields, saw 2\\nSkipping line 16976: expected 1 fields, saw 2\\nSkipping line 17014: expected 1 fields, saw 2\\nSkipping line 17035: expected 1 fields, saw 2\\nSkipping line 17048: expected 1 fields, saw 2\\nSkipping line 17053: expected 1 fields, saw 2\\nSkipping line 17057: expected 1 fields, saw 2\\nSkipping line 17094: expected 1 fields, saw 2\\nSkipping line 17116: expected 1 fields, saw 2\\nSkipping line 17184: expected 1 fields, saw 3\\nSkipping line 17203: expected 1 fields, saw 2\\nSkipping line 17219: expected 1 fields, saw 2\\nSkipping line 17232: expected 1 fields, saw 2\\nSkipping line 17248: expected 1 fields, saw 2\\nSkipping line 17270: expected 1 fields, saw 2\\nSkipping line 17296: expected 1 fields, saw 2\\nSkipping line 17302: expected 1 fields, saw 2\\nSkipping line 17305: expected 1 fields, saw 2\\nSkipping line 17326: expected 1 fields, saw 2\\nSkipping line 17340: expected 1 fields, saw 2\\nSkipping line 17367: expected 1 fields, saw 2\\nSkipping line 17374: expected 1 fields, saw 2\\nSkipping line 17447: expected 1 fields, saw 2\\nSkipping line 17463: expected 1 fields, saw 2\\nSkipping line 17496: expected 1 fields, saw 2\\nSkipping line 17498: expected 1 fields, saw 2\\nSkipping line 17516: expected 1 fields, saw 2\\nSkipping line 17553: expected 1 fields, saw 2\\nSkipping line 17567: expected 1 fields, saw 2\\nSkipping line 17592: expected 1 fields, saw 2\\nSkipping line 17606: expected 1 fields, saw 2\\nSkipping line 17626: expected 1 fields, saw 2\\nSkipping line 17644: expected 1 fields, saw 2\\nSkipping line 17645: expected 1 fields, saw 2\\nSkipping line 17649: expected 1 fields, saw 2\\nSkipping line 17651: expected 1 fields, saw 2\\nSkipping line 17653: expected 1 fields, saw 2\\nSkipping line 17682: expected 1 fields, saw 2\\nSkipping line 17706: expected 1 fields, saw 2\\nSkipping line 17716: expected 1 fields, saw 2\\nSkipping line 17717: expected 1 fields, saw 2\\nSkipping line 17732: expected 1 fields, saw 2\\nSkipping line 17746: expected 1 fields, saw 2\\nSkipping line 17748: expected 1 fields, saw 2\\nSkipping line 17755: expected 1 fields, saw 2\\nSkipping line 17771: expected 1 fields, saw 2\\nSkipping line 17774: expected 1 fields, saw 2\\nSkipping line 17822: expected 1 fields, saw 2\\nSkipping line 17830: expected 1 fields, saw 2\\nSkipping line 17831: expected 1 fields, saw 2\\nSkipping line 17832: expected 1 fields, saw 2\\nSkipping line 17853: expected 1 fields, saw 2\\nSkipping line 17858: expected 1 fields, saw 2\\nSkipping line 17861: expected 1 fields, saw 2\\nSkipping line 17900: expected 1 fields, saw 2\\nSkipping line 17904: expected 1 fields, saw 2\\nSkipping line 17905: expected 1 fields, saw 2\\nSkipping line 17941: expected 1 fields, saw 3\\nSkipping line 17949: expected 1 fields, saw 2\\nSkipping line 17960: expected 1 fields, saw 2\\nSkipping line 17965: expected 1 fields, saw 2\\nSkipping line 17966: expected 1 fields, saw 2\\nSkipping line 17974: expected 1 fields, saw 2\\nSkipping line 17976: expected 1 fields, saw 2\\nSkipping line 17991: expected 1 fields, saw 2\\nSkipping line 17998: expected 1 fields, saw 2\\nSkipping line 18009: expected 1 fields, saw 2\\nSkipping line 18033: expected 1 fields, saw 2\\nSkipping line 18044: expected 1 fields, saw 2\\nSkipping line 18082: expected 1 fields, saw 2\\nSkipping line 18090: expected 1 fields, saw 2\\nSkipping line 18096: expected 1 fields, saw 2\\nSkipping line 18099: expected 1 fields, saw 2\\nSkipping line 18118: expected 1 fields, saw 4\\nSkipping line 18162: expected 1 fields, saw 2\\nSkipping line 18168: expected 1 fields, saw 2\\nSkipping line 18171: expected 1 fields, saw 2\\nSkipping line 18230: expected 1 fields, saw 2\\nSkipping line 18236: expected 1 fields, saw 2\\nSkipping line 18298: expected 1 fields, saw 2\\nSkipping line 18318: expected 1 fields, saw 2\\nSkipping line 18333: expected 1 fields, saw 2\\nSkipping line 18359: expected 1 fields, saw 2\\nSkipping line 18360: expected 1 fields, saw 2\\nSkipping line 18385: expected 1 fields, saw 2\\nSkipping line 18397: expected 1 fields, saw 2\\nSkipping line 18406: expected 1 fields, saw 2\\nSkipping line 18441: expected 1 fields, saw 2\\nSkipping line 18471: expected 1 fields, saw 2\\nSkipping line 18487: expected 1 fields, saw 2\\nSkipping line 18488: expected 1 fields, saw 2\\nSkipping line 18499: expected 1 fields, saw 2\\nSkipping line 18502: expected 1 fields, saw 2\\nSkipping line 18508: expected 1 fields, saw 2\\nSkipping line 18542: expected 1 fields, saw 2\\nSkipping line 18546: expected 1 fields, saw 2\\nSkipping line 18684: expected 1 fields, saw 2\\nSkipping line 18690: expected 1 fields, saw 2\\nSkipping line 18700: expected 1 fields, saw 2\\nSkipping line 18716: expected 1 fields, saw 2\\nSkipping line 18717: expected 1 fields, saw 2\\nSkipping line 18718: expected 1 fields, saw 2\\nSkipping line 18727: expected 1 fields, saw 2\\nSkipping line 18740: expected 1 fields, saw 2\\nSkipping line 18741: expected 1 fields, saw 2\\nSkipping line 18754: expected 1 fields, saw 2\\nSkipping line 18756: expected 1 fields, saw 2\\nSkipping line 18804: expected 1 fields, saw 2\\nSkipping line 18805: expected 1 fields, saw 2\\nSkipping line 18806: expected 1 fields, saw 2\\nSkipping line 18837: expected 1 fields, saw 2\\nSkipping line 18839: expected 1 fields, saw 2\\nSkipping line 18847: expected 1 fields, saw 2\\nSkipping line 18848: expected 1 fields, saw 2\\nSkipping line 18858: expected 1 fields, saw 4\\nSkipping line 18889: expected 1 fields, saw 2\\nSkipping line 18895: expected 1 fields, saw 2\\nSkipping line 18897: expected 1 fields, saw 2\\nSkipping line 18900: expected 1 fields, saw 2\\nSkipping line 18901: expected 1 fields, saw 2\\nSkipping line 18914: expected 1 fields, saw 2\\nSkipping line 18958: expected 1 fields, saw 2\\nSkipping line 18966: expected 1 fields, saw 2\\nSkipping line 19014: expected 1 fields, saw 2\\nSkipping line 19019: expected 1 fields, saw 2\\nSkipping line 19027: expected 1 fields, saw 2\\nSkipping line 19042: expected 1 fields, saw 2\\nSkipping line 19053: expected 1 fields, saw 2\\nSkipping line 19059: expected 1 fields, saw 2\\nSkipping line 19060: expected 1 fields, saw 2\\nSkipping line 19068: expected 1 fields, saw 2\\nSkipping line 19101: expected 1 fields, saw 2\\nSkipping line 19106: expected 1 fields, saw 2\\nSkipping line 19111: expected 1 fields, saw 2\\nSkipping line 19122: expected 1 fields, saw 2\\nSkipping line 19127: expected 1 fields, saw 2\\nSkipping line 19141: expected 1 fields, saw 2\\nSkipping line 19150: expected 1 fields, saw 2\\nSkipping line 19151: expected 1 fields, saw 2\\nSkipping line 19161: expected 1 fields, saw 2\\nSkipping line 19163: expected 1 fields, saw 2\\nSkipping line 19182: expected 1 fields, saw 2\\nSkipping line 19192: expected 1 fields, saw 2\\nSkipping line 19199: expected 1 fields, saw 2\\nSkipping line 19200: expected 1 fields, saw 2\\nSkipping line 19237: expected 1 fields, saw 2\\nSkipping line 19244: expected 1 fields, saw 2\\nSkipping line 19286: expected 1 fields, saw 2\\nSkipping line 19288: expected 1 fields, saw 2\\nSkipping line 19312: expected 1 fields, saw 2\\nSkipping line 19371: expected 1 fields, saw 2\\nSkipping line 19384: expected 1 fields, saw 2\\nSkipping line 19437: expected 1 fields, saw 2\\nSkipping line 19441: expected 1 fields, saw 2\\nSkipping line 19448: expected 1 fields, saw 2\\nSkipping line 19451: expected 1 fields, saw 2\\nSkipping line 19453: expected 1 fields, saw 2\\nSkipping line 19454: expected 1 fields, saw 2\\nSkipping line 19455: expected 1 fields, saw 2\\nSkipping line 19494: expected 1 fields, saw 2\\nSkipping line 19526: expected 1 fields, saw 2\\nSkipping line 19558: expected 1 fields, saw 2\\nSkipping line 19564: expected 1 fields, saw 2\\nSkipping line 19586: expected 1 fields, saw 2\\nSkipping line 19603: expected 1 fields, saw 2\\nSkipping line 19611: expected 1 fields, saw 2\\nSkipping line 19615: expected 1 fields, saw 2\\nSkipping line 19616: expected 1 fields, saw 2\\nSkipping line 19617: expected 1 fields, saw 2\\nSkipping line 19657: expected 1 fields, saw 2\\nSkipping line 19663: expected 1 fields, saw 2\\nSkipping line 19677: expected 1 fields, saw 2\\nSkipping line 19697: expected 1 fields, saw 2\\nSkipping line 19703: expected 1 fields, saw 2\\nSkipping line 19706: expected 1 fields, saw 2\\nSkipping line 19710: expected 1 fields, saw 2\\nSkipping line 19741: expected 1 fields, saw 2\\nSkipping line 19757: expected 1 fields, saw 2\\nSkipping line 19762: expected 1 fields, saw 2\\nSkipping line 19768: expected 1 fields, saw 2\\nSkipping line 19817: expected 1 fields, saw 2\\nSkipping line 19827: expected 1 fields, saw 2\\nSkipping line 19835: expected 1 fields, saw 2\\nSkipping line 19898: expected 1 fields, saw 2\\nSkipping line 19914: expected 1 fields, saw 2\\nSkipping line 19930: expected 1 fields, saw 2\\nSkipping line 19941: expected 1 fields, saw 2\\nSkipping line 19988: expected 1 fields, saw 2\\nSkipping line 19990: expected 1 fields, saw 2\\nSkipping line 19999: expected 1 fields, saw 2\\nSkipping line 20003: expected 1 fields, saw 3\\nSkipping line 20009: expected 1 fields, saw 2\\nSkipping line 20017: expected 1 fields, saw 2\\nSkipping line 20019: expected 1 fields, saw 2\\nSkipping line 20020: expected 1 fields, saw 2\\nSkipping line 20029: expected 1 fields, saw 2\\nSkipping line 20031: expected 1 fields, saw 2\\nSkipping line 20033: expected 1 fields, saw 2\\nSkipping line 20034: expected 1 fields, saw 2\\nSkipping line 20045: expected 1 fields, saw 2\\nSkipping line 20059: expected 1 fields, saw 2\\nSkipping line 20084: expected 1 fields, saw 2\\nSkipping line 20100: expected 1 fields, saw 2\\nSkipping line 20103: expected 1 fields, saw 2\\nSkipping line 20108: expected 1 fields, saw 2\\nSkipping line 20120: expected 1 fields, saw 2\\nSkipping line 20129: expected 1 fields, saw 2\\nSkipping line 20140: expected 1 fields, saw 2\\nSkipping line 20143: expected 1 fields, saw 2\\nSkipping line 20146: expected 1 fields, saw 2\\nSkipping line 20148: expected 1 fields, saw 2\\nSkipping line 20149: expected 1 fields, saw 2\\nSkipping line 20156: expected 1 fields, saw 2\\nSkipping line 20160: expected 1 fields, saw 2\\nSkipping line 20171: expected 1 fields, saw 2\\nSkipping line 20173: expected 1 fields, saw 2\\nSkipping line 20203: expected 1 fields, saw 2\\nSkipping line 20225: expected 1 fields, saw 2\\nSkipping line 20284: expected 1 fields, saw 2\\nSkipping line 20308: expected 1 fields, saw 2\\nSkipping line 20333: expected 1 fields, saw 2\\nSkipping line 20334: expected 1 fields, saw 2\\nSkipping line 20369: expected 1 fields, saw 2\\nSkipping line 20417: expected 1 fields, saw 2\\nSkipping line 20440: expected 1 fields, saw 2\\nSkipping line 20448: expected 1 fields, saw 2\\nSkipping line 20449: expected 1 fields, saw 2\\nSkipping line 20455: expected 1 fields, saw 2\\nSkipping line 20474: expected 1 fields, saw 2\\nSkipping line 20476: expected 1 fields, saw 2\\nSkipping line 20488: expected 1 fields, saw 2\\nSkipping line 20509: expected 1 fields, saw 2\\nSkipping line 20513: expected 1 fields, saw 2\\nSkipping line 20535: expected 1 fields, saw 2\\nSkipping line 20569: expected 1 fields, saw 2\\nSkipping line 20579: expected 1 fields, saw 2\\nSkipping line 20587: expected 1 fields, saw 2\\nSkipping line 20601: expected 1 fields, saw 2\\nSkipping line 20626: expected 1 fields, saw 2\\nSkipping line 20641: expected 1 fields, saw 2\\nSkipping line 20668: expected 1 fields, saw 2\\nSkipping line 20676: expected 1 fields, saw 2\\nSkipping line 20686: expected 1 fields, saw 2\\nSkipping line 20705: expected 1 fields, saw 2\\nSkipping line 20758: expected 1 fields, saw 2\\nSkipping line 20770: expected 1 fields, saw 2\\nSkipping line 20795: expected 1 fields, saw 2\\nSkipping line 20799: expected 1 fields, saw 2\\nSkipping line 20801: expected 1 fields, saw 2\\nSkipping line 20820: expected 1 fields, saw 2\\nSkipping line 20858: expected 1 fields, saw 2\\nSkipping line 20872: expected 1 fields, saw 2\\nSkipping line 20880: expected 1 fields, saw 2\\nSkipping line 20882: expected 1 fields, saw 2\\nSkipping line 20893: expected 1 fields, saw 2\\nSkipping line 20896: expected 1 fields, saw 2\\nSkipping line 20909: expected 1 fields, saw 2\\nSkipping line 20919: expected 1 fields, saw 2\\nSkipping line 20958: expected 1 fields, saw 2\\nSkipping line 20981: expected 1 fields, saw 2\\nSkipping line 20983: expected 1 fields, saw 2\\nSkipping line 20992: expected 1 fields, saw 2\\nSkipping line 21076: expected 1 fields, saw 2\\nSkipping line 21081: expected 1 fields, saw 2\\n'\n",
      "b'Skipping line 21128: expected 1 fields, saw 2\\nSkipping line 21178: expected 1 fields, saw 2\\nSkipping line 21228: expected 1 fields, saw 2\\nSkipping line 21243: expected 1 fields, saw 2\\nSkipping line 21530: expected 1 fields, saw 2\\nSkipping line 21549: expected 1 fields, saw 2\\nSkipping line 21600: expected 1 fields, saw 2\\nSkipping line 21602: expected 1 fields, saw 2\\nSkipping line 21642: expected 1 fields, saw 2\\nSkipping line 21667: expected 1 fields, saw 2\\nSkipping line 21669: expected 1 fields, saw 2\\nSkipping line 21720: expected 1 fields, saw 2\\nSkipping line 21738: expected 1 fields, saw 3\\nSkipping line 21770: expected 1 fields, saw 2\\nSkipping line 21782: expected 1 fields, saw 2\\nSkipping line 21996: expected 1 fields, saw 2\\nSkipping line 22065: expected 1 fields, saw 2\\nSkipping line 22080: expected 1 fields, saw 2\\nSkipping line 22084: expected 1 fields, saw 2\\nSkipping line 22096: expected 1 fields, saw 2\\nSkipping line 22097: expected 1 fields, saw 2\\nSkipping line 22101: expected 1 fields, saw 2\\nSkipping line 22114: expected 1 fields, saw 2\\nSkipping line 22147: expected 1 fields, saw 2\\nSkipping line 22152: expected 1 fields, saw 2\\nSkipping line 22160: expected 1 fields, saw 2\\nSkipping line 22218: expected 1 fields, saw 2\\nSkipping line 22244: expected 1 fields, saw 2\\nSkipping line 22268: expected 1 fields, saw 2\\nSkipping line 22315: expected 1 fields, saw 2\\nSkipping line 22329: expected 1 fields, saw 2\\nSkipping line 22346: expected 1 fields, saw 2\\nSkipping line 22349: expected 1 fields, saw 2\\nSkipping line 22366: expected 1 fields, saw 2\\nSkipping line 22379: expected 1 fields, saw 2\\nSkipping line 22416: expected 1 fields, saw 2\\nSkipping line 22449: expected 1 fields, saw 2\\nSkipping line 22494: expected 1 fields, saw 2\\nSkipping line 22506: expected 1 fields, saw 2\\nSkipping line 22509: expected 1 fields, saw 2\\nSkipping line 22517: expected 1 fields, saw 2\\nSkipping line 22518: expected 1 fields, saw 2\\nSkipping line 22527: expected 1 fields, saw 2\\nSkipping line 22540: expected 1 fields, saw 2\\nSkipping line 22551: expected 1 fields, saw 2\\nSkipping line 22553: expected 1 fields, saw 2\\nSkipping line 22595: expected 1 fields, saw 2\\nSkipping line 22631: expected 1 fields, saw 2\\nSkipping line 22651: expected 1 fields, saw 2\\nSkipping line 22719: expected 1 fields, saw 2\\nSkipping line 22737: expected 1 fields, saw 2\\nSkipping line 22748: expected 1 fields, saw 2\\nSkipping line 22770: expected 1 fields, saw 2\\nSkipping line 22775: expected 1 fields, saw 2\\nSkipping line 22780: expected 1 fields, saw 2\\nSkipping line 22794: expected 1 fields, saw 2\\nSkipping line 22823: expected 1 fields, saw 2\\nSkipping line 22883: expected 1 fields, saw 2\\nSkipping line 22898: expected 1 fields, saw 2\\nSkipping line 22920: expected 1 fields, saw 2\\nSkipping line 22925: expected 1 fields, saw 2\\nSkipping line 22935: expected 1 fields, saw 2\\nSkipping line 22958: expected 1 fields, saw 2\\nSkipping line 23016: expected 1 fields, saw 2\\nSkipping line 23053: expected 1 fields, saw 2\\nSkipping line 23073: expected 1 fields, saw 2\\nSkipping line 23122: expected 1 fields, saw 2\\nSkipping line 23162: expected 1 fields, saw 2\\nSkipping line 23166: expected 1 fields, saw 2\\nSkipping line 23214: expected 1 fields, saw 2\\nSkipping line 23226: expected 1 fields, saw 2\\nSkipping line 23237: expected 1 fields, saw 2\\nSkipping line 23253: expected 1 fields, saw 2\\nSkipping line 23284: expected 1 fields, saw 2\\nSkipping line 23301: expected 1 fields, saw 2\\nSkipping line 23326: expected 1 fields, saw 2\\nSkipping line 23360: expected 1 fields, saw 2\\nSkipping line 23405: expected 1 fields, saw 2\\nSkipping line 23417: expected 1 fields, saw 2\\nSkipping line 23425: expected 1 fields, saw 2\\nSkipping line 23436: expected 1 fields, saw 2\\nSkipping line 23464: expected 1 fields, saw 2\\nSkipping line 23493: expected 1 fields, saw 2\\nSkipping line 23528: expected 1 fields, saw 2\\nSkipping line 23586: expected 1 fields, saw 2\\nSkipping line 23588: expected 1 fields, saw 2\\nSkipping line 23621: expected 1 fields, saw 2\\nSkipping line 23629: expected 1 fields, saw 2\\nSkipping line 23633: expected 1 fields, saw 2\\nSkipping line 23657: expected 1 fields, saw 2\\nSkipping line 23700: expected 1 fields, saw 2\\nSkipping line 23719: expected 1 fields, saw 2\\nSkipping line 23750: expected 1 fields, saw 2\\nSkipping line 23834: expected 1 fields, saw 2\\nSkipping line 23839: expected 1 fields, saw 2\\nSkipping line 23849: expected 1 fields, saw 2\\nSkipping line 23922: expected 1 fields, saw 2\\nSkipping line 23983: expected 1 fields, saw 2\\nSkipping line 24055: expected 1 fields, saw 2\\nSkipping line 24075: expected 1 fields, saw 2\\nSkipping line 24099: expected 1 fields, saw 2\\nSkipping line 24109: expected 1 fields, saw 2\\nSkipping line 24130: expected 1 fields, saw 2\\nSkipping line 24146: expected 1 fields, saw 2\\nSkipping line 24165: expected 1 fields, saw 2\\nSkipping line 24166: expected 1 fields, saw 2\\nSkipping line 24167: expected 1 fields, saw 2\\nSkipping line 24187: expected 1 fields, saw 2\\nSkipping line 24215: expected 1 fields, saw 2\\nSkipping line 24228: expected 1 fields, saw 2\\nSkipping line 24241: expected 1 fields, saw 2\\nSkipping line 24269: expected 1 fields, saw 2\\nSkipping line 24288: expected 1 fields, saw 2\\nSkipping line 24303: expected 1 fields, saw 2\\nSkipping line 24332: expected 1 fields, saw 2\\nSkipping line 24352: expected 1 fields, saw 2\\nSkipping line 24391: expected 1 fields, saw 2\\nSkipping line 24419: expected 1 fields, saw 2\\nSkipping line 24448: expected 1 fields, saw 2\\nSkipping line 24451: expected 1 fields, saw 2\\nSkipping line 24532: expected 1 fields, saw 2\\nSkipping line 24538: expected 1 fields, saw 2\\nSkipping line 24553: expected 1 fields, saw 2\\nSkipping line 24564: expected 1 fields, saw 2\\nSkipping line 24611: expected 1 fields, saw 2\\nSkipping line 24628: expected 1 fields, saw 2\\nSkipping line 24723: expected 1 fields, saw 2\\nSkipping line 24744: expected 1 fields, saw 2\\nSkipping line 24757: expected 1 fields, saw 2\\nSkipping line 24769: expected 1 fields, saw 2\\nSkipping line 24805: expected 1 fields, saw 2\\nSkipping line 24921: expected 1 fields, saw 2\\nSkipping line 24941: expected 1 fields, saw 2\\nSkipping line 24954: expected 1 fields, saw 2\\nSkipping line 24982: expected 1 fields, saw 2\\nSkipping line 25056: expected 1 fields, saw 2\\nSkipping line 25064: expected 1 fields, saw 2\\nSkipping line 25117: expected 1 fields, saw 2\\nSkipping line 25132: expected 1 fields, saw 2\\nSkipping line 25142: expected 1 fields, saw 2\\nSkipping line 25204: expected 1 fields, saw 2\\nSkipping line 25223: expected 1 fields, saw 2\\nSkipping line 25227: expected 1 fields, saw 2\\nSkipping line 25229: expected 1 fields, saw 2\\nSkipping line 25311: expected 1 fields, saw 2\\nSkipping line 25320: expected 1 fields, saw 2\\nSkipping line 25383: expected 1 fields, saw 2\\nSkipping line 25394: expected 1 fields, saw 2\\nSkipping line 25401: expected 1 fields, saw 2\\nSkipping line 25403: expected 1 fields, saw 2\\nSkipping line 25419: expected 1 fields, saw 2\\nSkipping line 25507: expected 1 fields, saw 2\\nSkipping line 25573: expected 1 fields, saw 2\\nSkipping line 25588: expected 1 fields, saw 2\\nSkipping line 25596: expected 1 fields, saw 2\\nSkipping line 25636: expected 1 fields, saw 2\\nSkipping line 25685: expected 1 fields, saw 2\\nSkipping line 25694: expected 1 fields, saw 2\\nSkipping line 25738: expected 1 fields, saw 2\\nSkipping line 25761: expected 1 fields, saw 2\\nSkipping line 25817: expected 1 fields, saw 2\\nSkipping line 25882: expected 1 fields, saw 2\\nSkipping line 25886: expected 1 fields, saw 2\\nSkipping line 25888: expected 1 fields, saw 2\\nSkipping line 25889: expected 1 fields, saw 2\\nSkipping line 25937: expected 1 fields, saw 2\\nSkipping line 25948: expected 1 fields, saw 2\\nSkipping line 25950: expected 1 fields, saw 2\\nSkipping line 25968: expected 1 fields, saw 2\\nSkipping line 25981: expected 1 fields, saw 2\\nSkipping line 25985: expected 1 fields, saw 4\\nSkipping line 26014: expected 1 fields, saw 2\\nSkipping line 26019: expected 1 fields, saw 2\\nSkipping line 26068: expected 1 fields, saw 2\\nSkipping line 26076: expected 1 fields, saw 2\\nSkipping line 26137: expected 1 fields, saw 2\\nSkipping line 26152: expected 1 fields, saw 2\\nSkipping line 26155: expected 1 fields, saw 2\\nSkipping line 26163: expected 1 fields, saw 2\\nSkipping line 26196: expected 1 fields, saw 2\\nSkipping line 26218: expected 1 fields, saw 2\\nSkipping line 26269: expected 1 fields, saw 2\\nSkipping line 26270: expected 1 fields, saw 2\\nSkipping line 26276: expected 1 fields, saw 2\\nSkipping line 26280: expected 1 fields, saw 2\\nSkipping line 26286: expected 1 fields, saw 2\\nSkipping line 26292: expected 1 fields, saw 2\\nSkipping line 26310: expected 1 fields, saw 2\\nSkipping line 26324: expected 1 fields, saw 2\\nSkipping line 26332: expected 1 fields, saw 2\\nSkipping line 26335: expected 1 fields, saw 2\\nSkipping line 26340: expected 1 fields, saw 2\\nSkipping line 26354: expected 1 fields, saw 2\\nSkipping line 26394: expected 1 fields, saw 2\\nSkipping line 26457: expected 1 fields, saw 2\\nSkipping line 26472: expected 1 fields, saw 2\\nSkipping line 26476: expected 1 fields, saw 3\\nSkipping line 26494: expected 1 fields, saw 2\\nSkipping line 26532: expected 1 fields, saw 2\\nSkipping line 26560: expected 1 fields, saw 2\\nSkipping line 26564: expected 1 fields, saw 2\\nSkipping line 26599: expected 1 fields, saw 2\\nSkipping line 26624: expected 1 fields, saw 2\\nSkipping line 26744: expected 1 fields, saw 2\\nSkipping line 26758: expected 1 fields, saw 2\\nSkipping line 26759: expected 1 fields, saw 2\\nSkipping line 26766: expected 1 fields, saw 2\\nSkipping line 26783: expected 1 fields, saw 2\\nSkipping line 26788: expected 1 fields, saw 2\\nSkipping line 26795: expected 1 fields, saw 2\\nSkipping line 26808: expected 1 fields, saw 2\\nSkipping line 26847: expected 1 fields, saw 2\\nSkipping line 26876: expected 1 fields, saw 2\\nSkipping line 26884: expected 1 fields, saw 2\\nSkipping line 26908: expected 1 fields, saw 2\\nSkipping line 26935: expected 1 fields, saw 2\\nSkipping line 26968: expected 1 fields, saw 2\\nSkipping line 26977: expected 1 fields, saw 2\\nSkipping line 26985: expected 1 fields, saw 2\\nSkipping line 27021: expected 1 fields, saw 2\\nSkipping line 27042: expected 1 fields, saw 2\\nSkipping line 27058: expected 1 fields, saw 2\\nSkipping line 27078: expected 1 fields, saw 2\\nSkipping line 27117: expected 1 fields, saw 2\\nSkipping line 27134: expected 1 fields, saw 2\\nSkipping line 27187: expected 1 fields, saw 2\\nSkipping line 27197: expected 1 fields, saw 2\\nSkipping line 27238: expected 1 fields, saw 2\\nSkipping line 27266: expected 1 fields, saw 2\\nSkipping line 27273: expected 1 fields, saw 2\\nSkipping line 27318: expected 1 fields, saw 2\\nSkipping line 27340: expected 1 fields, saw 2\\nSkipping line 27342: expected 1 fields, saw 2\\nSkipping line 27357: expected 1 fields, saw 2\\nSkipping line 27373: expected 1 fields, saw 2\\nSkipping line 27379: expected 1 fields, saw 2\\nSkipping line 27456: expected 1 fields, saw 2\\nSkipping line 27514: expected 1 fields, saw 2\\nSkipping line 27574: expected 1 fields, saw 2\\nSkipping line 27578: expected 1 fields, saw 2\\nSkipping line 27611: expected 1 fields, saw 2\\nSkipping line 27668: expected 1 fields, saw 2\\nSkipping line 27730: expected 1 fields, saw 2\\nSkipping line 27751: expected 1 fields, saw 2\\nSkipping line 27757: expected 1 fields, saw 2\\nSkipping line 27759: expected 1 fields, saw 2\\nSkipping line 27818: expected 1 fields, saw 2\\nSkipping line 27846: expected 1 fields, saw 2\\nSkipping line 27859: expected 1 fields, saw 2\\nSkipping line 27861: expected 1 fields, saw 2\\nSkipping line 27868: expected 1 fields, saw 2\\nSkipping line 27875: expected 1 fields, saw 2\\nSkipping line 27888: expected 1 fields, saw 2\\nSkipping line 27929: expected 1 fields, saw 2\\nSkipping line 27941: expected 1 fields, saw 2\\nSkipping line 27949: expected 1 fields, saw 2\\nSkipping line 28021: expected 1 fields, saw 2\\nSkipping line 28027: expected 1 fields, saw 2\\nSkipping line 28033: expected 1 fields, saw 2\\nSkipping line 28046: expected 1 fields, saw 2\\nSkipping line 28063: expected 1 fields, saw 2\\nSkipping line 28094: expected 1 fields, saw 2\\nSkipping line 28104: expected 1 fields, saw 2\\nSkipping line 28126: expected 1 fields, saw 2\\nSkipping line 28155: expected 1 fields, saw 2\\nSkipping line 28158: expected 1 fields, saw 2\\nSkipping line 28164: expected 1 fields, saw 2\\nSkipping line 28200: expected 1 fields, saw 2\\nSkipping line 28213: expected 1 fields, saw 2\\nSkipping line 28254: expected 1 fields, saw 2\\nSkipping line 28262: expected 1 fields, saw 2\\nSkipping line 28265: expected 1 fields, saw 2\\nSkipping line 28304: expected 1 fields, saw 2\\nSkipping line 28319: expected 1 fields, saw 2\\nSkipping line 28374: expected 1 fields, saw 2\\nSkipping line 28406: expected 1 fields, saw 2\\nSkipping line 28437: expected 1 fields, saw 2\\nSkipping line 28441: expected 1 fields, saw 2\\nSkipping line 28481: expected 1 fields, saw 2\\nSkipping line 28548: expected 1 fields, saw 2\\nSkipping line 28615: expected 1 fields, saw 2\\nSkipping line 28663: expected 1 fields, saw 2\\nSkipping line 28679: expected 1 fields, saw 2\\nSkipping line 28745: expected 1 fields, saw 2\\nSkipping line 28827: expected 1 fields, saw 2\\nSkipping line 28951: expected 1 fields, saw 2\\nSkipping line 28960: expected 1 fields, saw 2\\nSkipping line 28975: expected 1 fields, saw 2\\nSkipping line 29050: expected 1 fields, saw 2\\nSkipping line 29111: expected 1 fields, saw 2\\nSkipping line 29170: expected 1 fields, saw 2\\nSkipping line 29186: expected 1 fields, saw 2\\nSkipping line 29266: expected 1 fields, saw 2\\nSkipping line 29307: expected 1 fields, saw 2\\nSkipping line 29336: expected 1 fields, saw 2\\nSkipping line 29347: expected 1 fields, saw 2\\nSkipping line 29370: expected 1 fields, saw 2\\nSkipping line 29419: expected 1 fields, saw 2\\nSkipping line 29438: expected 1 fields, saw 2\\nSkipping line 29441: expected 1 fields, saw 2\\nSkipping line 29458: expected 1 fields, saw 2\\nSkipping line 29463: expected 1 fields, saw 2\\nSkipping line 29475: expected 1 fields, saw 2\\nSkipping line 29486: expected 1 fields, saw 2\\nSkipping line 29493: expected 1 fields, saw 2\\nSkipping line 29508: expected 1 fields, saw 2\\nSkipping line 29522: expected 1 fields, saw 2\\nSkipping line 29527: expected 1 fields, saw 2\\nSkipping line 29549: expected 1 fields, saw 2\\nSkipping line 29578: expected 1 fields, saw 2\\nSkipping line 29580: expected 1 fields, saw 2\\nSkipping line 29582: expected 1 fields, saw 2\\nSkipping line 29587: expected 1 fields, saw 2\\nSkipping line 29600: expected 1 fields, saw 2\\nSkipping line 29616: expected 1 fields, saw 2\\nSkipping line 29648: expected 1 fields, saw 2\\nSkipping line 29650: expected 1 fields, saw 2\\nSkipping line 29661: expected 1 fields, saw 2\\nSkipping line 29664: expected 1 fields, saw 2\\nSkipping line 29738: expected 1 fields, saw 2\\nSkipping line 29755: expected 1 fields, saw 2\\nSkipping line 29761: expected 1 fields, saw 2\\nSkipping line 29766: expected 1 fields, saw 2\\nSkipping line 29793: expected 1 fields, saw 2\\nSkipping line 29805: expected 1 fields, saw 2\\nSkipping line 29892: expected 1 fields, saw 2\\nSkipping line 29918: expected 1 fields, saw 2\\nSkipping line 29966: expected 1 fields, saw 2\\nSkipping line 30034: expected 1 fields, saw 2\\nSkipping line 30096: expected 1 fields, saw 2\\nSkipping line 30168: expected 1 fields, saw 2\\nSkipping line 30172: expected 1 fields, saw 2\\nSkipping line 30218: expected 1 fields, saw 2\\nSkipping line 30252: expected 1 fields, saw 2\\nSkipping line 30380: expected 1 fields, saw 2\\nSkipping line 30397: expected 1 fields, saw 2\\nSkipping line 30400: expected 1 fields, saw 2\\nSkipping line 30468: expected 1 fields, saw 2\\nSkipping line 30545: expected 1 fields, saw 2\\nSkipping line 30548: expected 1 fields, saw 2\\nSkipping line 30550: expected 1 fields, saw 2\\nSkipping line 30582: expected 1 fields, saw 2\\nSkipping line 30586: expected 1 fields, saw 2\\nSkipping line 30643: expected 1 fields, saw 2\\nSkipping line 30646: expected 1 fields, saw 2\\nSkipping line 30657: expected 1 fields, saw 2\\nSkipping line 30754: expected 1 fields, saw 2\\nSkipping line 30798: expected 1 fields, saw 2\\nSkipping line 30816: expected 1 fields, saw 2\\nSkipping line 30870: expected 1 fields, saw 2\\nSkipping line 30871: expected 1 fields, saw 2\\nSkipping line 30880: expected 1 fields, saw 2\\nSkipping line 30889: expected 1 fields, saw 2\\nSkipping line 30905: expected 1 fields, saw 2\\nSkipping line 30913: expected 1 fields, saw 2\\nSkipping line 30915: expected 1 fields, saw 2\\nSkipping line 30931: expected 1 fields, saw 2\\nSkipping line 30979: expected 1 fields, saw 2\\nSkipping line 30993: expected 1 fields, saw 2\\nSkipping line 31003: expected 1 fields, saw 2\\nSkipping line 31021: expected 1 fields, saw 2\\nSkipping line 31054: expected 1 fields, saw 2\\nSkipping line 31099: expected 1 fields, saw 2\\nSkipping line 31146: expected 1 fields, saw 2\\nSkipping line 31168: expected 1 fields, saw 2\\nSkipping line 31177: expected 1 fields, saw 2\\nSkipping line 31184: expected 1 fields, saw 2\\nSkipping line 31188: expected 1 fields, saw 2\\nSkipping line 31206: expected 1 fields, saw 2\\nSkipping line 31218: expected 1 fields, saw 2\\nSkipping line 31235: expected 1 fields, saw 2\\nSkipping line 31250: expected 1 fields, saw 2\\nSkipping line 31280: expected 1 fields, saw 2\\nSkipping line 31295: expected 1 fields, saw 2\\nSkipping line 31361: expected 1 fields, saw 2\\nSkipping line 31385: expected 1 fields, saw 2\\nSkipping line 31394: expected 1 fields, saw 2\\nSkipping line 31427: expected 1 fields, saw 2\\nSkipping line 31452: expected 1 fields, saw 2\\n'\n",
      "b'Skipping line 31513: expected 1 fields, saw 2\\nSkipping line 31520: expected 1 fields, saw 2\\nSkipping line 31558: expected 1 fields, saw 2\\nSkipping line 31559: expected 1 fields, saw 2\\nSkipping line 31565: expected 1 fields, saw 2\\nSkipping line 31577: expected 1 fields, saw 2\\nSkipping line 31581: expected 1 fields, saw 2\\nSkipping line 31624: expected 1 fields, saw 2\\nSkipping line 31626: expected 1 fields, saw 2\\nSkipping line 31653: expected 1 fields, saw 2\\nSkipping line 31675: expected 1 fields, saw 2\\nSkipping line 31687: expected 1 fields, saw 2\\nSkipping line 31725: expected 1 fields, saw 2\\nSkipping line 31833: expected 1 fields, saw 2\\nSkipping line 31934: expected 1 fields, saw 2\\nSkipping line 31941: expected 1 fields, saw 2\\nSkipping line 31959: expected 1 fields, saw 2\\nSkipping line 31970: expected 1 fields, saw 2\\nSkipping line 31992: expected 1 fields, saw 2\\nSkipping line 31998: expected 1 fields, saw 2\\nSkipping line 31999: expected 1 fields, saw 2\\nSkipping line 32061: expected 1 fields, saw 2\\nSkipping line 32066: expected 1 fields, saw 2\\nSkipping line 32115: expected 1 fields, saw 2\\nSkipping line 32135: expected 1 fields, saw 2\\nSkipping line 32145: expected 1 fields, saw 2\\nSkipping line 32233: expected 1 fields, saw 2\\nSkipping line 32243: expected 1 fields, saw 2\\nSkipping line 32251: expected 1 fields, saw 2\\nSkipping line 32318: expected 1 fields, saw 2\\nSkipping line 32320: expected 1 fields, saw 2\\nSkipping line 32336: expected 1 fields, saw 2\\nSkipping line 32368: expected 1 fields, saw 2\\nSkipping line 32456: expected 1 fields, saw 2\\nSkipping line 32550: expected 1 fields, saw 2\\nSkipping line 32600: expected 1 fields, saw 2\\nSkipping line 32621: expected 1 fields, saw 2\\nSkipping line 32629: expected 1 fields, saw 2\\nSkipping line 32651: expected 1 fields, saw 2\\nSkipping line 32661: expected 1 fields, saw 2\\nSkipping line 32682: expected 1 fields, saw 2\\nSkipping line 32718: expected 1 fields, saw 2\\nSkipping line 32758: expected 1 fields, saw 2\\nSkipping line 32776: expected 1 fields, saw 2\\nSkipping line 32891: expected 1 fields, saw 2\\nSkipping line 32900: expected 1 fields, saw 2\\nSkipping line 32929: expected 1 fields, saw 2\\nSkipping line 32992: expected 1 fields, saw 2\\nSkipping line 33032: expected 1 fields, saw 2\\nSkipping line 33035: expected 1 fields, saw 2\\nSkipping line 33046: expected 1 fields, saw 2\\nSkipping line 33062: expected 1 fields, saw 2\\nSkipping line 33072: expected 1 fields, saw 2\\nSkipping line 33100: expected 1 fields, saw 2\\nSkipping line 33107: expected 1 fields, saw 2\\nSkipping line 33157: expected 1 fields, saw 2\\nSkipping line 33178: expected 1 fields, saw 2\\nSkipping line 33198: expected 1 fields, saw 2\\nSkipping line 33204: expected 1 fields, saw 2\\nSkipping line 33262: expected 1 fields, saw 2\\nSkipping line 33318: expected 1 fields, saw 2\\nSkipping line 33326: expected 1 fields, saw 2\\nSkipping line 33380: expected 1 fields, saw 2\\nSkipping line 33387: expected 1 fields, saw 2\\nSkipping line 33393: expected 1 fields, saw 2\\nSkipping line 33421: expected 1 fields, saw 2\\nSkipping line 33447: expected 1 fields, saw 2\\nSkipping line 33454: expected 1 fields, saw 2\\nSkipping line 33476: expected 1 fields, saw 2\\nSkipping line 33485: expected 1 fields, saw 2\\nSkipping line 33501: expected 1 fields, saw 2\\nSkipping line 33506: expected 1 fields, saw 2\\nSkipping line 33524: expected 1 fields, saw 2\\nSkipping line 33555: expected 1 fields, saw 2\\nSkipping line 33563: expected 1 fields, saw 2\\nSkipping line 33576: expected 1 fields, saw 2\\nSkipping line 33578: expected 1 fields, saw 2\\nSkipping line 33600: expected 1 fields, saw 2\\nSkipping line 33607: expected 1 fields, saw 2\\nSkipping line 33622: expected 1 fields, saw 2\\nSkipping line 33628: expected 1 fields, saw 2\\nSkipping line 33636: expected 1 fields, saw 2\\nSkipping line 33659: expected 1 fields, saw 2\\nSkipping line 33660: expected 1 fields, saw 2\\nSkipping line 33665: expected 1 fields, saw 2\\nSkipping line 33676: expected 1 fields, saw 2\\nSkipping line 33679: expected 1 fields, saw 2\\nSkipping line 33713: expected 1 fields, saw 2\\nSkipping line 33715: expected 1 fields, saw 2\\nSkipping line 33779: expected 1 fields, saw 2\\nSkipping line 33794: expected 1 fields, saw 2\\nSkipping line 33806: expected 1 fields, saw 2\\nSkipping line 33866: expected 1 fields, saw 2\\nSkipping line 33881: expected 1 fields, saw 2\\nSkipping line 33899: expected 1 fields, saw 2\\nSkipping line 34004: expected 1 fields, saw 2\\nSkipping line 34014: expected 1 fields, saw 2\\nSkipping line 34017: expected 1 fields, saw 2\\nSkipping line 34023: expected 1 fields, saw 2\\nSkipping line 34071: expected 1 fields, saw 2\\nSkipping line 34147: expected 1 fields, saw 2\\nSkipping line 34155: expected 1 fields, saw 2\\nSkipping line 34160: expected 1 fields, saw 2\\nSkipping line 34168: expected 1 fields, saw 2\\nSkipping line 34220: expected 1 fields, saw 2\\nSkipping line 34263: expected 1 fields, saw 2\\nSkipping line 34282: expected 1 fields, saw 2\\nSkipping line 34332: expected 1 fields, saw 2\\nSkipping line 34333: expected 1 fields, saw 2\\nSkipping line 34424: expected 1 fields, saw 2\\nSkipping line 34443: expected 1 fields, saw 2\\nSkipping line 34456: expected 1 fields, saw 2\\nSkipping line 34507: expected 1 fields, saw 2\\nSkipping line 34553: expected 1 fields, saw 2\\nSkipping line 34578: expected 1 fields, saw 2\\nSkipping line 34584: expected 1 fields, saw 2\\nSkipping line 34591: expected 1 fields, saw 2\\nSkipping line 34594: expected 1 fields, saw 2\\nSkipping line 34609: expected 1 fields, saw 2\\nSkipping line 34628: expected 1 fields, saw 2\\nSkipping line 34639: expected 1 fields, saw 2\\nSkipping line 34652: expected 1 fields, saw 2\\nSkipping line 34713: expected 1 fields, saw 2\\nSkipping line 34715: expected 1 fields, saw 2\\nSkipping line 34737: expected 1 fields, saw 2\\nSkipping line 34760: expected 1 fields, saw 2\\nSkipping line 34815: expected 1 fields, saw 2\\nSkipping line 34835: expected 1 fields, saw 2\\nSkipping line 34879: expected 1 fields, saw 2\\nSkipping line 34885: expected 1 fields, saw 2\\nSkipping line 34893: expected 1 fields, saw 2\\nSkipping line 34920: expected 1 fields, saw 2\\nSkipping line 34933: expected 1 fields, saw 2\\nSkipping line 34942: expected 1 fields, saw 2\\nSkipping line 34959: expected 1 fields, saw 2\\nSkipping line 34970: expected 1 fields, saw 2\\nSkipping line 34988: expected 1 fields, saw 2\\nSkipping line 35029: expected 1 fields, saw 2\\nSkipping line 35038: expected 1 fields, saw 2\\nSkipping line 35049: expected 1 fields, saw 2\\nSkipping line 35080: expected 1 fields, saw 2\\nSkipping line 35084: expected 1 fields, saw 2\\nSkipping line 35111: expected 1 fields, saw 2\\nSkipping line 35112: expected 1 fields, saw 2\\nSkipping line 35168: expected 1 fields, saw 2\\nSkipping line 35182: expected 1 fields, saw 2\\nSkipping line 35229: expected 1 fields, saw 2\\nSkipping line 35231: expected 1 fields, saw 2\\nSkipping line 35235: expected 1 fields, saw 2\\nSkipping line 35258: expected 1 fields, saw 2\\nSkipping line 35390: expected 1 fields, saw 2\\nSkipping line 35402: expected 1 fields, saw 2\\nSkipping line 35405: expected 1 fields, saw 2\\nSkipping line 35412: expected 1 fields, saw 2\\nSkipping line 35414: expected 1 fields, saw 2\\nSkipping line 35416: expected 1 fields, saw 2\\nSkipping line 35453: expected 1 fields, saw 2\\nSkipping line 35463: expected 1 fields, saw 2\\nSkipping line 35464: expected 1 fields, saw 2\\nSkipping line 35475: expected 1 fields, saw 2\\nSkipping line 35483: expected 1 fields, saw 2\\nSkipping line 35575: expected 1 fields, saw 2\\nSkipping line 35604: expected 1 fields, saw 2\\nSkipping line 35668: expected 1 fields, saw 2\\nSkipping line 35689: expected 1 fields, saw 2\\nSkipping line 35710: expected 1 fields, saw 2\\nSkipping line 35721: expected 1 fields, saw 2\\nSkipping line 35725: expected 1 fields, saw 2\\nSkipping line 35780: expected 1 fields, saw 2\\nSkipping line 35787: expected 1 fields, saw 2\\nSkipping line 35808: expected 1 fields, saw 2\\nSkipping line 35819: expected 1 fields, saw 2\\nSkipping line 35820: expected 1 fields, saw 2\\nSkipping line 35937: expected 1 fields, saw 2\\nSkipping line 36005: expected 1 fields, saw 2\\nSkipping line 36276: expected 1 fields, saw 2\\nSkipping line 36280: expected 1 fields, saw 2\\nSkipping line 36306: expected 1 fields, saw 2\\nSkipping line 36324: expected 1 fields, saw 2\\nSkipping line 36333: expected 1 fields, saw 2\\nSkipping line 36355: expected 1 fields, saw 2\\nSkipping line 36374: expected 1 fields, saw 2\\nSkipping line 36402: expected 1 fields, saw 2\\nSkipping line 36409: expected 1 fields, saw 2\\nSkipping line 36446: expected 1 fields, saw 2\\nSkipping line 36462: expected 1 fields, saw 2\\nSkipping line 36471: expected 1 fields, saw 2\\nSkipping line 36589: expected 1 fields, saw 2\\nSkipping line 36652: expected 1 fields, saw 2\\nSkipping line 36658: expected 1 fields, saw 2\\nSkipping line 36665: expected 1 fields, saw 2\\nSkipping line 36667: expected 1 fields, saw 2\\nSkipping line 36696: expected 1 fields, saw 2\\nSkipping line 36717: expected 1 fields, saw 2\\nSkipping line 36736: expected 1 fields, saw 2\\nSkipping line 36806: expected 1 fields, saw 2\\nSkipping line 36810: expected 1 fields, saw 2\\nSkipping line 36829: expected 1 fields, saw 2\\nSkipping line 36858: expected 1 fields, saw 2\\nSkipping line 36904: expected 1 fields, saw 2\\nSkipping line 36941: expected 1 fields, saw 2\\nSkipping line 36963: expected 1 fields, saw 2\\nSkipping line 36971: expected 1 fields, saw 2\\nSkipping line 36993: expected 1 fields, saw 2\\nSkipping line 37008: expected 1 fields, saw 2\\nSkipping line 37034: expected 1 fields, saw 2\\nSkipping line 37166: expected 1 fields, saw 2\\nSkipping line 37201: expected 1 fields, saw 2\\nSkipping line 37212: expected 1 fields, saw 2\\nSkipping line 37215: expected 1 fields, saw 2\\nSkipping line 37243: expected 1 fields, saw 2\\nSkipping line 37269: expected 1 fields, saw 2\\nSkipping line 37272: expected 1 fields, saw 2\\nSkipping line 37330: expected 1 fields, saw 2\\nSkipping line 37387: expected 1 fields, saw 2\\nSkipping line 37406: expected 1 fields, saw 2\\nSkipping line 37413: expected 1 fields, saw 2\\nSkipping line 37440: expected 1 fields, saw 2\\nSkipping line 37473: expected 1 fields, saw 2\\nSkipping line 37478: expected 1 fields, saw 2\\nSkipping line 37493: expected 1 fields, saw 2\\nSkipping line 37520: expected 1 fields, saw 2\\nSkipping line 37632: expected 1 fields, saw 2\\nSkipping line 37650: expected 1 fields, saw 2\\nSkipping line 37656: expected 1 fields, saw 2\\nSkipping line 37741: expected 1 fields, saw 2\\nSkipping line 37742: expected 1 fields, saw 2\\nSkipping line 37843: expected 1 fields, saw 2\\nSkipping line 37887: expected 1 fields, saw 2\\nSkipping line 37969: expected 1 fields, saw 2\\nSkipping line 38000: expected 1 fields, saw 2\\nSkipping line 38051: expected 1 fields, saw 2\\nSkipping line 38070: expected 1 fields, saw 2\\nSkipping line 38108: expected 1 fields, saw 2\\nSkipping line 38109: expected 1 fields, saw 2\\nSkipping line 38133: expected 1 fields, saw 2\\nSkipping line 38157: expected 1 fields, saw 2\\nSkipping line 38190: expected 1 fields, saw 2\\nSkipping line 38214: expected 1 fields, saw 2\\nSkipping line 38248: expected 1 fields, saw 2\\nSkipping line 38249: expected 1 fields, saw 2\\nSkipping line 38260: expected 1 fields, saw 2\\nSkipping line 38277: expected 1 fields, saw 2\\nSkipping line 38282: expected 1 fields, saw 2\\nSkipping line 38303: expected 1 fields, saw 2\\nSkipping line 38320: expected 1 fields, saw 2\\nSkipping line 38331: expected 1 fields, saw 2\\nSkipping line 38338: expected 1 fields, saw 2\\nSkipping line 38339: expected 1 fields, saw 2\\nSkipping line 38360: expected 1 fields, saw 2\\nSkipping line 38375: expected 1 fields, saw 2\\nSkipping line 38518: expected 1 fields, saw 2\\nSkipping line 38522: expected 1 fields, saw 2\\nSkipping line 38540: expected 1 fields, saw 2\\nSkipping line 38571: expected 1 fields, saw 2\\nSkipping line 38629: expected 1 fields, saw 2\\nSkipping line 38656: expected 1 fields, saw 2\\nSkipping line 38715: expected 1 fields, saw 2\\nSkipping line 38721: expected 1 fields, saw 2\\nSkipping line 38757: expected 1 fields, saw 2\\nSkipping line 38777: expected 1 fields, saw 2\\nSkipping line 38779: expected 1 fields, saw 2\\nSkipping line 38780: expected 1 fields, saw 2\\nSkipping line 38795: expected 1 fields, saw 2\\nSkipping line 38848: expected 1 fields, saw 2\\nSkipping line 38863: expected 1 fields, saw 2\\nSkipping line 38870: expected 1 fields, saw 2\\nSkipping line 38882: expected 1 fields, saw 2\\nSkipping line 38930: expected 1 fields, saw 2\\nSkipping line 39013: expected 1 fields, saw 2\\nSkipping line 39051: expected 1 fields, saw 2\\nSkipping line 39122: expected 1 fields, saw 2\\nSkipping line 39128: expected 1 fields, saw 2\\nSkipping line 39165: expected 1 fields, saw 2\\nSkipping line 39179: expected 1 fields, saw 2\\nSkipping line 39185: expected 1 fields, saw 2\\nSkipping line 39217: expected 1 fields, saw 2\\nSkipping line 39227: expected 1 fields, saw 2\\nSkipping line 39255: expected 1 fields, saw 2\\nSkipping line 39281: expected 1 fields, saw 2\\nSkipping line 39303: expected 1 fields, saw 2\\nSkipping line 39348: expected 1 fields, saw 2\\nSkipping line 39349: expected 1 fields, saw 2\\nSkipping line 39363: expected 1 fields, saw 2\\nSkipping line 39393: expected 1 fields, saw 2\\nSkipping line 39402: expected 1 fields, saw 2\\nSkipping line 39419: expected 1 fields, saw 2\\nSkipping line 39503: expected 1 fields, saw 2\\nSkipping line 39537: expected 1 fields, saw 2\\nSkipping line 39543: expected 1 fields, saw 2\\nSkipping line 39547: expected 1 fields, saw 2\\nSkipping line 39569: expected 1 fields, saw 2\\nSkipping line 39601: expected 1 fields, saw 2\\nSkipping line 39610: expected 1 fields, saw 2\\nSkipping line 39631: expected 1 fields, saw 2\\nSkipping line 39638: expected 1 fields, saw 2\\nSkipping line 39644: expected 1 fields, saw 2\\nSkipping line 39702: expected 1 fields, saw 2\\nSkipping line 39703: expected 1 fields, saw 2\\nSkipping line 39760: expected 1 fields, saw 2\\nSkipping line 39761: expected 1 fields, saw 2\\nSkipping line 39785: expected 1 fields, saw 2\\nSkipping line 39840: expected 1 fields, saw 2\\nSkipping line 39841: expected 1 fields, saw 2\\nSkipping line 39843: expected 1 fields, saw 2\\nSkipping line 39848: expected 1 fields, saw 2\\nSkipping line 39859: expected 1 fields, saw 2\\nSkipping line 39893: expected 1 fields, saw 2\\nSkipping line 39900: expected 1 fields, saw 2\\nSkipping line 40012: expected 1 fields, saw 2\\nSkipping line 40013: expected 1 fields, saw 2\\nSkipping line 40018: expected 1 fields, saw 2\\nSkipping line 40045: expected 1 fields, saw 2\\nSkipping line 40055: expected 1 fields, saw 2\\nSkipping line 40092: expected 1 fields, saw 2\\nSkipping line 40104: expected 1 fields, saw 2\\nSkipping line 40114: expected 1 fields, saw 2\\nSkipping line 40196: expected 1 fields, saw 2\\nSkipping line 40210: expected 1 fields, saw 2\\nSkipping line 40265: expected 1 fields, saw 2\\nSkipping line 40279: expected 1 fields, saw 2\\nSkipping line 40331: expected 1 fields, saw 2\\nSkipping line 40364: expected 1 fields, saw 2\\nSkipping line 40390: expected 1 fields, saw 2\\nSkipping line 40394: expected 1 fields, saw 2\\nSkipping line 40411: expected 1 fields, saw 2\\nSkipping line 40454: expected 1 fields, saw 2\\nSkipping line 40469: expected 1 fields, saw 2\\nSkipping line 40502: expected 1 fields, saw 2\\nSkipping line 40512: expected 1 fields, saw 2\\nSkipping line 40555: expected 1 fields, saw 2\\nSkipping line 40578: expected 1 fields, saw 2\\nSkipping line 40662: expected 1 fields, saw 2\\nSkipping line 40685: expected 1 fields, saw 2\\nSkipping line 40699: expected 1 fields, saw 2\\nSkipping line 40726: expected 1 fields, saw 2\\nSkipping line 40736: expected 1 fields, saw 2\\nSkipping line 40751: expected 1 fields, saw 2\\nSkipping line 40781: expected 1 fields, saw 2\\nSkipping line 40788: expected 1 fields, saw 2\\nSkipping line 40799: expected 1 fields, saw 2\\nSkipping line 40811: expected 1 fields, saw 2\\nSkipping line 40896: expected 1 fields, saw 2\\nSkipping line 40902: expected 1 fields, saw 2\\nSkipping line 40916: expected 1 fields, saw 2\\nSkipping line 40976: expected 1 fields, saw 2\\nSkipping line 40980: expected 1 fields, saw 2\\nSkipping line 40997: expected 1 fields, saw 2\\nSkipping line 41013: expected 1 fields, saw 2\\nSkipping line 41018: expected 1 fields, saw 2\\nSkipping line 41027: expected 1 fields, saw 2\\nSkipping line 41060: expected 1 fields, saw 2\\nSkipping line 41080: expected 1 fields, saw 2\\nSkipping line 41108: expected 1 fields, saw 2\\nSkipping line 41116: expected 1 fields, saw 2\\nSkipping line 41122: expected 1 fields, saw 2\\nSkipping line 41159: expected 1 fields, saw 2\\nSkipping line 41168: expected 1 fields, saw 2\\nSkipping line 41177: expected 1 fields, saw 2\\nSkipping line 41178: expected 1 fields, saw 2\\nSkipping line 41187: expected 1 fields, saw 2\\nSkipping line 41223: expected 1 fields, saw 2\\nSkipping line 41230: expected 1 fields, saw 2\\nSkipping line 41287: expected 1 fields, saw 2\\nSkipping line 41292: expected 1 fields, saw 2\\nSkipping line 41311: expected 1 fields, saw 2\\nSkipping line 41312: expected 1 fields, saw 2\\nSkipping line 41325: expected 1 fields, saw 2\\nSkipping line 41328: expected 1 fields, saw 2\\nSkipping line 41351: expected 1 fields, saw 2\\nSkipping line 41477: expected 1 fields, saw 2\\nSkipping line 41672: expected 1 fields, saw 2\\nSkipping line 41675: expected 1 fields, saw 2\\nSkipping line 41707: expected 1 fields, saw 2\\nSkipping line 41786: expected 1 fields, saw 2\\n'\n"
     ]
    },
    {
     "name": "stdout",
     "output_type": "stream",
     "text": [
      "processing chunk 1\n",
      "processing chunk 2\n",
      "processing chunk 3\n",
      "processing chunk 4\n"
     ]
    },
    {
     "name": "stderr",
     "output_type": "stream",
     "text": [
      "b'Skipping line 41884: expected 1 fields, saw 2\\nSkipping line 41902: expected 1 fields, saw 2\\nSkipping line 41956: expected 1 fields, saw 2\\nSkipping line 41974: expected 1 fields, saw 2\\nSkipping line 41976: expected 1 fields, saw 2\\nSkipping line 41993: expected 1 fields, saw 2\\nSkipping line 42139: expected 1 fields, saw 2\\nSkipping line 42145: expected 1 fields, saw 2\\nSkipping line 42148: expected 1 fields, saw 2\\nSkipping line 42149: expected 1 fields, saw 2\\nSkipping line 42151: expected 1 fields, saw 2\\nSkipping line 42171: expected 1 fields, saw 2\\nSkipping line 42198: expected 1 fields, saw 2\\nSkipping line 42207: expected 1 fields, saw 2\\nSkipping line 42210: expected 1 fields, saw 2\\nSkipping line 42235: expected 1 fields, saw 2\\nSkipping line 42265: expected 1 fields, saw 2\\nSkipping line 42270: expected 1 fields, saw 2\\nSkipping line 42283: expected 1 fields, saw 2\\nSkipping line 42312: expected 1 fields, saw 2\\nSkipping line 42333: expected 1 fields, saw 2\\nSkipping line 42370: expected 1 fields, saw 2\\nSkipping line 42402: expected 1 fields, saw 2\\nSkipping line 42418: expected 1 fields, saw 2\\nSkipping line 42496: expected 1 fields, saw 2\\nSkipping line 42499: expected 1 fields, saw 2\\nSkipping line 42509: expected 1 fields, saw 2\\nSkipping line 42512: expected 1 fields, saw 2\\nSkipping line 42631: expected 1 fields, saw 2\\nSkipping line 42653: expected 1 fields, saw 2\\nSkipping line 42666: expected 1 fields, saw 2\\nSkipping line 42668: expected 1 fields, saw 2\\nSkipping line 42692: expected 1 fields, saw 2\\nSkipping line 42714: expected 1 fields, saw 2\\nSkipping line 42755: expected 1 fields, saw 2\\nSkipping line 42756: expected 1 fields, saw 2\\nSkipping line 42760: expected 1 fields, saw 2\\nSkipping line 42784: expected 1 fields, saw 2\\nSkipping line 42806: expected 1 fields, saw 2\\nSkipping line 42919: expected 1 fields, saw 2\\nSkipping line 42925: expected 1 fields, saw 2\\nSkipping line 42955: expected 1 fields, saw 2\\nSkipping line 43021: expected 1 fields, saw 2\\nSkipping line 43038: expected 1 fields, saw 2\\nSkipping line 43098: expected 1 fields, saw 2\\nSkipping line 43114: expected 1 fields, saw 2\\nSkipping line 43166: expected 1 fields, saw 2\\nSkipping line 43180: expected 1 fields, saw 2\\nSkipping line 43181: expected 1 fields, saw 2\\nSkipping line 43244: expected 1 fields, saw 2\\nSkipping line 43262: expected 1 fields, saw 2\\nSkipping line 43280: expected 1 fields, saw 2\\nSkipping line 43339: expected 1 fields, saw 2\\nSkipping line 43383: expected 1 fields, saw 2\\nSkipping line 43387: expected 1 fields, saw 2\\nSkipping line 43391: expected 1 fields, saw 2\\nSkipping line 43412: expected 1 fields, saw 2\\nSkipping line 43414: expected 1 fields, saw 2\\nSkipping line 43467: expected 1 fields, saw 2\\nSkipping line 43473: expected 1 fields, saw 2\\nSkipping line 43493: expected 1 fields, saw 2\\nSkipping line 43499: expected 1 fields, saw 2\\nSkipping line 43517: expected 1 fields, saw 2\\nSkipping line 43545: expected 1 fields, saw 2\\nSkipping line 43623: expected 1 fields, saw 2\\nSkipping line 43637: expected 1 fields, saw 2\\nSkipping line 43660: expected 1 fields, saw 2\\nSkipping line 43709: expected 1 fields, saw 2\\nSkipping line 43719: expected 1 fields, saw 2\\nSkipping line 43750: expected 1 fields, saw 2\\nSkipping line 43765: expected 1 fields, saw 2\\nSkipping line 43793: expected 1 fields, saw 2\\nSkipping line 43877: expected 1 fields, saw 2\\nSkipping line 43884: expected 1 fields, saw 2\\nSkipping line 43894: expected 1 fields, saw 2\\nSkipping line 43948: expected 1 fields, saw 2\\nSkipping line 43975: expected 1 fields, saw 2\\nSkipping line 44005: expected 1 fields, saw 2\\nSkipping line 44027: expected 1 fields, saw 2\\nSkipping line 44028: expected 1 fields, saw 2\\nSkipping line 44032: expected 1 fields, saw 2\\nSkipping line 44112: expected 1 fields, saw 2\\nSkipping line 44127: expected 1 fields, saw 2\\nSkipping line 44133: expected 1 fields, saw 2\\nSkipping line 44145: expected 1 fields, saw 2\\nSkipping line 44174: expected 1 fields, saw 2\\nSkipping line 44179: expected 1 fields, saw 2\\nSkipping line 44209: expected 1 fields, saw 2\\nSkipping line 44271: expected 1 fields, saw 2\\nSkipping line 44317: expected 1 fields, saw 2\\nSkipping line 44324: expected 1 fields, saw 2\\nSkipping line 44348: expected 1 fields, saw 2\\nSkipping line 44351: expected 1 fields, saw 2\\nSkipping line 44381: expected 1 fields, saw 2\\nSkipping line 44420: expected 1 fields, saw 2\\nSkipping line 44435: expected 1 fields, saw 2\\nSkipping line 44443: expected 1 fields, saw 2\\nSkipping line 44451: expected 1 fields, saw 2\\nSkipping line 44502: expected 1 fields, saw 2\\nSkipping line 44514: expected 1 fields, saw 2\\nSkipping line 44533: expected 1 fields, saw 2\\nSkipping line 44580: expected 1 fields, saw 2\\nSkipping line 44597: expected 1 fields, saw 2\\nSkipping line 44607: expected 1 fields, saw 2\\nSkipping line 44632: expected 1 fields, saw 2\\nSkipping line 44670: expected 1 fields, saw 2\\nSkipping line 44703: expected 1 fields, saw 2\\nSkipping line 44788: expected 1 fields, saw 2\\nSkipping line 44850: expected 1 fields, saw 2\\nSkipping line 44879: expected 1 fields, saw 2\\nSkipping line 44898: expected 1 fields, saw 2\\nSkipping line 44937: expected 1 fields, saw 2\\nSkipping line 44949: expected 1 fields, saw 2\\nSkipping line 44983: expected 1 fields, saw 2\\nSkipping line 45002: expected 1 fields, saw 2\\nSkipping line 45022: expected 1 fields, saw 2\\nSkipping line 45038: expected 1 fields, saw 2\\nSkipping line 45097: expected 1 fields, saw 2\\nSkipping line 45120: expected 1 fields, saw 2\\nSkipping line 45223: expected 1 fields, saw 2\\nSkipping line 45251: expected 1 fields, saw 2\\nSkipping line 45271: expected 1 fields, saw 2\\nSkipping line 45296: expected 1 fields, saw 2\\nSkipping line 45326: expected 1 fields, saw 2\\nSkipping line 45364: expected 1 fields, saw 2\\nSkipping line 45421: expected 1 fields, saw 2\\nSkipping line 45429: expected 1 fields, saw 2\\nSkipping line 45501: expected 1 fields, saw 2\\nSkipping line 45620: expected 1 fields, saw 2\\nSkipping line 45632: expected 1 fields, saw 2\\nSkipping line 45640: expected 1 fields, saw 2\\nSkipping line 45672: expected 1 fields, saw 2\\nSkipping line 45712: expected 1 fields, saw 2\\nSkipping line 45723: expected 1 fields, saw 2\\nSkipping line 45779: expected 1 fields, saw 2\\nSkipping line 45781: expected 1 fields, saw 2\\nSkipping line 45785: expected 1 fields, saw 2\\nSkipping line 45797: expected 1 fields, saw 2\\nSkipping line 45833: expected 1 fields, saw 2\\nSkipping line 45887: expected 1 fields, saw 2\\nSkipping line 45918: expected 1 fields, saw 2\\nSkipping line 45971: expected 1 fields, saw 2\\nSkipping line 45985: expected 1 fields, saw 2\\nSkipping line 46013: expected 1 fields, saw 2\\nSkipping line 46037: expected 1 fields, saw 2\\nSkipping line 46082: expected 1 fields, saw 2\\nSkipping line 46112: expected 1 fields, saw 2\\nSkipping line 46140: expected 1 fields, saw 2\\nSkipping line 46142: expected 1 fields, saw 2\\nSkipping line 46160: expected 1 fields, saw 2\\nSkipping line 46174: expected 1 fields, saw 2\\nSkipping line 46183: expected 1 fields, saw 2\\nSkipping line 46195: expected 1 fields, saw 2\\nSkipping line 46228: expected 1 fields, saw 2\\nSkipping line 46244: expected 1 fields, saw 2\\nSkipping line 46275: expected 1 fields, saw 2\\nSkipping line 46321: expected 1 fields, saw 2\\nSkipping line 46362: expected 1 fields, saw 2\\nSkipping line 46366: expected 1 fields, saw 2\\nSkipping line 46373: expected 1 fields, saw 2\\nSkipping line 46419: expected 1 fields, saw 2\\nSkipping line 46420: expected 1 fields, saw 2\\nSkipping line 46431: expected 1 fields, saw 2\\nSkipping line 46463: expected 1 fields, saw 2\\nSkipping line 46504: expected 1 fields, saw 2\\nSkipping line 46515: expected 1 fields, saw 2\\nSkipping line 46575: expected 1 fields, saw 2\\nSkipping line 46597: expected 1 fields, saw 2\\nSkipping line 46656: expected 1 fields, saw 2\\nSkipping line 46676: expected 1 fields, saw 2\\nSkipping line 46681: expected 1 fields, saw 2\\nSkipping line 46710: expected 1 fields, saw 2\\nSkipping line 46718: expected 1 fields, saw 2\\nSkipping line 46752: expected 1 fields, saw 2\\nSkipping line 46756: expected 1 fields, saw 2\\nSkipping line 46803: expected 1 fields, saw 2\\nSkipping line 46806: expected 1 fields, saw 2\\nSkipping line 46839: expected 1 fields, saw 2\\nSkipping line 46863: expected 1 fields, saw 2\\nSkipping line 46870: expected 1 fields, saw 2\\nSkipping line 46891: expected 1 fields, saw 2\\nSkipping line 46894: expected 1 fields, saw 2\\nSkipping line 46902: expected 1 fields, saw 2\\nSkipping line 46913: expected 1 fields, saw 2\\nSkipping line 46938: expected 1 fields, saw 2\\nSkipping line 46998: expected 1 fields, saw 2\\nSkipping line 47006: expected 1 fields, saw 2\\nSkipping line 47011: expected 1 fields, saw 2\\nSkipping line 47029: expected 1 fields, saw 2\\nSkipping line 47042: expected 1 fields, saw 2\\nSkipping line 47045: expected 1 fields, saw 2\\nSkipping line 47074: expected 1 fields, saw 2\\nSkipping line 47077: expected 1 fields, saw 2\\nSkipping line 47152: expected 1 fields, saw 2\\nSkipping line 47169: expected 1 fields, saw 2\\nSkipping line 47200: expected 1 fields, saw 2\\nSkipping line 47219: expected 1 fields, saw 2\\nSkipping line 47236: expected 1 fields, saw 2\\nSkipping line 47241: expected 1 fields, saw 2\\nSkipping line 47306: expected 1 fields, saw 2\\nSkipping line 47337: expected 1 fields, saw 2\\nSkipping line 47352: expected 1 fields, saw 2\\nSkipping line 47391: expected 1 fields, saw 2\\nSkipping line 47424: expected 1 fields, saw 2\\nSkipping line 47514: expected 1 fields, saw 2\\nSkipping line 47626: expected 1 fields, saw 2\\nSkipping line 47638: expected 1 fields, saw 2\\nSkipping line 47784: expected 1 fields, saw 2\\nSkipping line 47796: expected 1 fields, saw 2\\nSkipping line 47813: expected 1 fields, saw 2\\nSkipping line 47821: expected 1 fields, saw 2\\nSkipping line 47829: expected 1 fields, saw 2\\nSkipping line 47847: expected 1 fields, saw 2\\nSkipping line 47898: expected 1 fields, saw 2\\nSkipping line 47924: expected 1 fields, saw 2\\nSkipping line 47955: expected 1 fields, saw 2\\nSkipping line 48032: expected 1 fields, saw 2\\nSkipping line 48075: expected 1 fields, saw 2\\nSkipping line 48116: expected 1 fields, saw 2\\nSkipping line 48169: expected 1 fields, saw 2\\nSkipping line 48181: expected 1 fields, saw 2\\nSkipping line 48227: expected 1 fields, saw 2\\nSkipping line 48235: expected 1 fields, saw 2\\nSkipping line 48245: expected 1 fields, saw 2\\nSkipping line 48247: expected 1 fields, saw 2\\nSkipping line 48325: expected 1 fields, saw 2\\nSkipping line 48410: expected 1 fields, saw 2\\nSkipping line 48413: expected 1 fields, saw 2\\nSkipping line 48417: expected 1 fields, saw 2\\nSkipping line 48437: expected 1 fields, saw 2\\nSkipping line 48556: expected 1 fields, saw 2\\nSkipping line 48568: expected 1 fields, saw 2\\nSkipping line 48615: expected 1 fields, saw 2\\nSkipping line 48631: expected 1 fields, saw 2\\nSkipping line 48680: expected 1 fields, saw 2\\nSkipping line 48806: expected 1 fields, saw 2\\nSkipping line 48886: expected 1 fields, saw 2\\nSkipping line 48898: expected 1 fields, saw 2\\nSkipping line 48929: expected 1 fields, saw 2\\nSkipping line 48940: expected 1 fields, saw 2\\nSkipping line 48967: expected 1 fields, saw 2\\nSkipping line 48975: expected 1 fields, saw 2\\nSkipping line 48978: expected 1 fields, saw 2\\nSkipping line 48991: expected 1 fields, saw 2\\nSkipping line 48998: expected 1 fields, saw 2\\nSkipping line 49077: expected 1 fields, saw 2\\nSkipping line 49122: expected 1 fields, saw 2\\nSkipping line 49144: expected 1 fields, saw 2\\nSkipping line 49169: expected 1 fields, saw 2\\nSkipping line 49218: expected 1 fields, saw 2\\nSkipping line 49245: expected 1 fields, saw 2\\nSkipping line 49255: expected 1 fields, saw 2\\nSkipping line 49275: expected 1 fields, saw 2\\nSkipping line 49279: expected 1 fields, saw 2\\nSkipping line 49298: expected 1 fields, saw 2\\nSkipping line 49366: expected 1 fields, saw 2\\nSkipping line 49373: expected 1 fields, saw 2\\nSkipping line 49379: expected 1 fields, saw 2\\nSkipping line 49421: expected 1 fields, saw 2\\nSkipping line 49450: expected 1 fields, saw 2\\nSkipping line 49453: expected 1 fields, saw 2\\nSkipping line 49473: expected 1 fields, saw 2\\nSkipping line 49485: expected 1 fields, saw 2\\nSkipping line 49512: expected 1 fields, saw 2\\nSkipping line 49613: expected 1 fields, saw 2\\nSkipping line 49634: expected 1 fields, saw 2\\nSkipping line 49646: expected 1 fields, saw 2\\nSkipping line 49698: expected 1 fields, saw 2\\nSkipping line 49739: expected 1 fields, saw 2\\nSkipping line 49796: expected 1 fields, saw 2\\nSkipping line 49838: expected 1 fields, saw 2\\nSkipping line 49840: expected 1 fields, saw 2\\nSkipping line 49886: expected 1 fields, saw 2\\nSkipping line 49924: expected 1 fields, saw 2\\nSkipping line 49925: expected 1 fields, saw 2\\nSkipping line 49991: expected 1 fields, saw 2\\nSkipping line 50035: expected 1 fields, saw 2\\nSkipping line 50213: expected 1 fields, saw 2\\nSkipping line 50222: expected 1 fields, saw 2\\nSkipping line 50239: expected 1 fields, saw 2\\nSkipping line 50290: expected 1 fields, saw 2\\nSkipping line 50296: expected 1 fields, saw 2\\nSkipping line 50321: expected 1 fields, saw 2\\nSkipping line 50365: expected 1 fields, saw 2\\nSkipping line 50371: expected 1 fields, saw 2\\nSkipping line 50437: expected 1 fields, saw 2\\nSkipping line 50440: expected 1 fields, saw 2\\nSkipping line 50447: expected 1 fields, saw 2\\nSkipping line 50513: expected 1 fields, saw 2\\nSkipping line 50645: expected 1 fields, saw 2\\nSkipping line 50739: expected 1 fields, saw 2\\nSkipping line 50786: expected 1 fields, saw 2\\nSkipping line 50789: expected 1 fields, saw 2\\nSkipping line 50799: expected 1 fields, saw 2\\nSkipping line 50861: expected 1 fields, saw 2\\nSkipping line 50974: expected 1 fields, saw 2\\nSkipping line 50976: expected 1 fields, saw 2\\nSkipping line 50980: expected 1 fields, saw 2\\nSkipping line 51026: expected 1 fields, saw 2\\nSkipping line 51043: expected 1 fields, saw 2\\nSkipping line 51047: expected 1 fields, saw 2\\nSkipping line 51076: expected 1 fields, saw 2\\nSkipping line 51198: expected 1 fields, saw 2\\nSkipping line 51218: expected 1 fields, saw 2\\nSkipping line 51231: expected 1 fields, saw 2\\nSkipping line 51331: expected 1 fields, saw 2\\nSkipping line 51332: expected 1 fields, saw 2\\nSkipping line 51337: expected 1 fields, saw 2\\nSkipping line 51363: expected 1 fields, saw 2\\nSkipping line 51429: expected 1 fields, saw 2\\nSkipping line 51431: expected 1 fields, saw 2\\nSkipping line 51509: expected 1 fields, saw 2\\nSkipping line 51514: expected 1 fields, saw 2\\nSkipping line 51525: expected 1 fields, saw 2\\nSkipping line 51526: expected 1 fields, saw 2\\nSkipping line 51587: expected 1 fields, saw 2\\nSkipping line 51591: expected 1 fields, saw 2\\nSkipping line 51594: expected 1 fields, saw 2\\nSkipping line 51600: expected 1 fields, saw 2\\nSkipping line 51678: expected 1 fields, saw 2\\nSkipping line 51697: expected 1 fields, saw 2\\nSkipping line 51725: expected 1 fields, saw 2\\nSkipping line 51788: expected 1 fields, saw 2\\nSkipping line 51841: expected 1 fields, saw 2\\nSkipping line 51856: expected 1 fields, saw 2\\nSkipping line 51878: expected 1 fields, saw 2\\nSkipping line 51905: expected 1 fields, saw 2\\nSkipping line 51932: expected 1 fields, saw 2\\nSkipping line 51939: expected 1 fields, saw 2\\nSkipping line 52026: expected 1 fields, saw 2\\nSkipping line 52087: expected 1 fields, saw 2\\nSkipping line 52092: expected 1 fields, saw 2\\nSkipping line 52097: expected 1 fields, saw 2\\nSkipping line 52154: expected 1 fields, saw 2\\n'\n",
      "b'Skipping line 54892: expected 2 fields, saw 3\\nSkipping line 56519: expected 2 fields, saw 3\\nSkipping line 57981: expected 2 fields, saw 4\\n'\n",
      "b'Skipping line 73282: expected 2 fields, saw 3\\nSkipping line 75297: expected 2 fields, saw 4\\nSkipping line 81386: expected 2 fields, saw 3\\nSkipping line 82141: expected 2 fields, saw 3\\n'\n",
      "b'Skipping line 83732: expected 2 fields, saw 6\\nSkipping line 87442: expected 2 fields, saw 3\\n'\n"
     ]
    },
    {
     "name": "stdout",
     "output_type": "stream",
     "text": [
      "processing chunk 5\n",
      "processing chunk 6\n",
      "processing chunk 7\n",
      "processing chunk 8\n",
      "processing chunk 9\n"
     ]
    },
    {
     "name": "stderr",
     "output_type": "stream",
     "text": [
      "b'Skipping line 93537: expected 2 fields, saw 3\\nSkipping line 96350: expected 2 fields, saw 3\\nSkipping line 97018: expected 2 fields, saw 3\\nSkipping line 97880: expected 2 fields, saw 3\\nSkipping line 101560: expected 2 fields, saw 3\\n'\n",
      "b'Skipping line 104226: expected 2 fields, saw 3\\nSkipping line 105986: expected 2 fields, saw 4\\nSkipping line 107260: expected 2 fields, saw 3\\n'\n",
      "b'Skipping line 113523: expected 2 fields, saw 3\\nSkipping line 117415: expected 2 fields, saw 3\\n'\n",
      "b'Skipping line 122461: expected 2 fields, saw 3\\nSkipping line 123119: expected 2 fields, saw 3\\nSkipping line 126258: expected 2 fields, saw 3\\nSkipping line 128363: expected 2 fields, saw 3\\n'\n"
     ]
    },
    {
     "name": "stdout",
     "output_type": "stream",
     "text": [
      "processing chunk 10\n",
      "processing chunk 11\n",
      "processing chunk 12\n",
      "processing chunk 13\n"
     ]
    },
    {
     "name": "stderr",
     "output_type": "stream",
     "text": [
      "b'Skipping line 133176: expected 2 fields, saw 4\\nSkipping line 140669: expected 2 fields, saw 3\\nSkipping line 141852: expected 2 fields, saw 3\\nSkipping line 141986: expected 2 fields, saw 3\\n'\n",
      "b'Skipping line 151174: expected 2 fields, saw 3\\n'\n",
      "b'Skipping line 154356: expected 2 fields, saw 4\\nSkipping line 156729: expected 2 fields, saw 3\\nSkipping line 159060: expected 2 fields, saw 3\\nSkipping line 160193: expected 2 fields, saw 3\\n'\n",
      "b'Skipping line 162380: expected 2 fields, saw 4\\nSkipping line 164538: expected 2 fields, saw 3\\nSkipping line 164618: expected 2 fields, saw 4\\nSkipping line 168304: expected 2 fields, saw 3\\nSkipping line 168842: expected 2 fields, saw 3\\nSkipping line 169457: expected 2 fields, saw 3\\nSkipping line 170958: expected 2 fields, saw 3\\nSkipping line 171104: expected 2 fields, saw 3\\nSkipping line 171613: expected 2 fields, saw 3\\n'\n",
      "b'Skipping line 175963: expected 2 fields, saw 3\\nSkipping line 180278: expected 2 fields, saw 4\\nSkipping line 180499: expected 2 fields, saw 3\\n'\n"
     ]
    },
    {
     "name": "stdout",
     "output_type": "stream",
     "text": [
      "processing chunk 14\n",
      "processing chunk 15\n",
      "processing chunk 16\n",
      "processing chunk 17\n",
      "processing chunk 18\n",
      "processing chunk 19\n",
      "processing chunk 20\n",
      "processing chunk 21\n",
      "processing chunk 22\n",
      "processing chunk 23\n"
     ]
    },
    {
     "name": "stderr",
     "output_type": "stream",
     "text": [
      "b'Skipping line 201534: expected 2 fields, saw 3\\n'\n",
      "b'Skipping line 204870: expected 2 fields, saw 3\\nSkipping line 206814: expected 2 fields, saw 3\\nSkipping line 209444: expected 2 fields, saw 3\\n'\n",
      "b'Skipping line 212939: expected 2 fields, saw 4\\n'\n"
     ]
    },
    {
     "name": "stdout",
     "output_type": "stream",
     "text": [
      "processing chunk 24\n",
      "processing chunk 25\n",
      "processing chunk 26\n",
      "processing chunk 27\n",
      "processing chunk 28\n"
     ]
    },
    {
     "name": "stderr",
     "output_type": "stream",
     "text": [
      "b'Skipping line 251379: expected 2 fields, saw 4\\nSkipping line 252076: expected 2 fields, saw 4\\n'\n",
      "b'Skipping line 264191: expected 2 fields, saw 3\\n'\n",
      "b'Skipping line 273407: expected 2 fields, saw 3\\nSkipping line 275074: expected 2 fields, saw 3\\nSkipping line 280799: expected 2 fields, saw 3\\nSkipping line 280959: expected 2 fields, saw 3\\n'\n"
     ]
    },
    {
     "name": "stdout",
     "output_type": "stream",
     "text": [
      "processing chunk 29\n",
      "processing chunk 30\n",
      "processing chunk 31\n",
      "processing chunk 32\n",
      "processing chunk 33\n"
     ]
    },
    {
     "name": "stderr",
     "output_type": "stream",
     "text": [
      "b'Skipping line 292625: expected 2 fields, saw 3\\nSkipping line 295495: expected 2 fields, saw 3\\nSkipping line 298563: expected 2 fields, saw 3\\n'\n",
      "b'Skipping line 304396: expected 2 fields, saw 3\\nSkipping line 305275: expected 2 fields, saw 3\\nSkipping line 306375: expected 2 fields, saw 3\\nSkipping line 310358: expected 2 fields, saw 3\\nSkipping line 310666: expected 2 fields, saw 3\\nSkipping line 310832: expected 2 fields, saw 3\\nSkipping line 311526: expected 2 fields, saw 3\\n'\n",
      "b'Skipping line 312575: expected 2 fields, saw 3\\nSkipping line 313140: expected 2 fields, saw 4\\nSkipping line 313531: expected 2 fields, saw 3\\nSkipping line 313739: expected 2 fields, saw 4\\nSkipping line 315130: expected 2 fields, saw 3\\nSkipping line 321496: expected 2 fields, saw 3\\n'\n",
      "b'Skipping line 329913: expected 2 fields, saw 3\\n'\n",
      "b'Skipping line 332423: expected 2 fields, saw 3\\n'"
     ]
    },
    {
     "name": "stdout",
     "output_type": "stream",
     "text": [
      "processing chunk 34\n",
      "processing chunk 35\n",
      "processing chunk 36\n"
     ]
    },
    {
     "name": "stderr",
     "output_type": "stream",
     "text": [
      "\n",
      "b'Skipping line 343945: expected 2 fields, saw 3\\nSkipping line 345873: expected 2 fields, saw 3\\nSkipping line 347133: expected 2 fields, saw 3\\nSkipping line 349054: expected 2 fields, saw 4\\nSkipping line 349777: expected 2 fields, saw 3\\nSkipping line 350777: expected 2 fields, saw 3\\nSkipping line 351022: expected 2 fields, saw 3\\n'\n",
      "b'Skipping line 356452: expected 2 fields, saw 3\\nSkipping line 358707: expected 2 fields, saw 3\\nSkipping line 359956: expected 2 fields, saw 3\\nSkipping line 359966: expected 2 fields, saw 3\\n'\n",
      "b'Skipping line 363524: expected 2 fields, saw 3\\nSkipping line 364925: expected 2 fields, saw 3\\nSkipping line 365133: expected 2 fields, saw 3\\nSkipping line 365674: expected 2 fields, saw 3\\nSkipping line 368024: expected 2 fields, saw 3\\nSkipping line 369618: expected 2 fields, saw 3\\nSkipping line 370856: expected 2 fields, saw 3\\nSkipping line 371019: expected 2 fields, saw 3\\n'\n"
     ]
    },
    {
     "name": "stdout",
     "output_type": "stream",
     "text": [
      "processing chunk 37\n",
      "processing chunk 38\n",
      "processing chunk 39\n"
     ]
    },
    {
     "name": "stderr",
     "output_type": "stream",
     "text": [
      "b'Skipping line 372490: expected 2 fields, saw 3\\nSkipping line 375897: expected 2 fields, saw 4\\nSkipping line 376505: expected 2 fields, saw 3\\nSkipping line 377065: expected 2 fields, saw 3\\nSkipping line 378850: expected 2 fields, saw 3\\n'\n",
      "b'Skipping line 384097: expected 2 fields, saw 3\\nSkipping line 385367: expected 2 fields, saw 4\\n'\n",
      "b'Skipping line 397654: expected 2 fields, saw 3\\nSkipping line 402003: expected 2 fields, saw 3\\n'\n"
     ]
    },
    {
     "name": "stdout",
     "output_type": "stream",
     "text": [
      "processing chunk 40\n",
      "processing chunk 41\n",
      "processing chunk 42\n"
     ]
    },
    {
     "name": "stderr",
     "output_type": "stream",
     "text": [
      "b'Skipping line 409524: expected 2 fields, saw 3\\n'\n"
     ]
    },
    {
     "name": "stdout",
     "output_type": "stream",
     "text": [
      "processing chunk 43\n",
      "processing chunk 44\n",
      "processing chunk 45\n"
     ]
    },
    {
     "name": "stderr",
     "output_type": "stream",
     "text": [
      "b'Skipping line 433812: expected 2 fields, saw 3\\nSkipping line 438145: expected 2 fields, saw 4\\n'\n",
      "b'Skipping line 453587: expected 2 fields, saw 3\\n'\n"
     ]
    },
    {
     "name": "stdout",
     "output_type": "stream",
     "text": [
      "processing chunk 46\n",
      "processing chunk 47\n",
      "processing chunk 48\n"
     ]
    },
    {
     "name": "stderr",
     "output_type": "stream",
     "text": [
      "b'Skipping line 465792: expected 2 fields, saw 3\\nSkipping line 470046: expected 2 fields, saw 3\\n'\n",
      "b'Skipping line 473681: expected 2 fields, saw 3\\nSkipping line 474876: expected 2 fields, saw 3\\nSkipping line 481884: expected 2 fields, saw 4\\n'\n",
      "b'Skipping line 483311: expected 2 fields, saw 3\\nSkipping line 483553: expected 2 fields, saw 3\\nSkipping line 486673: expected 2 fields, saw 3\\nSkipping line 488131: expected 2 fields, saw 3\\n'\n"
     ]
    },
    {
     "name": "stdout",
     "output_type": "stream",
     "text": [
      "processing chunk 49\n",
      "processing chunk 50\n",
      "processing chunk 51\n"
     ]
    },
    {
     "name": "stderr",
     "output_type": "stream",
     "text": [
      "b'Skipping line 495892: expected 2 fields, saw 3\\nSkipping line 496834: expected 2 fields, saw 3\\nSkipping line 497209: expected 2 fields, saw 4\\nSkipping line 498683: expected 2 fields, saw 3\\n'\n",
      "b'Skipping line 512444: expected 2 fields, saw 3\\nSkipping line 515504: expected 2 fields, saw 3\\nSkipping line 520536: expected 2 fields, saw 3\\n'\n"
     ]
    },
    {
     "name": "stdout",
     "output_type": "stream",
     "text": [
      "processing chunk 52\n",
      "processing chunk 53\n",
      "processing chunk 54\n"
     ]
    },
    {
     "name": "stderr",
     "output_type": "stream",
     "text": [
      "b'Skipping line 522907: expected 2 fields, saw 3\\nSkipping line 525173: expected 2 fields, saw 3\\nSkipping line 526184: expected 2 fields, saw 3\\nSkipping line 529153: expected 2 fields, saw 3\\n'\n",
      "b'Skipping line 536985: expected 2 fields, saw 3\\nSkipping line 541122: expected 2 fields, saw 3\\n'\n",
      "b'Skipping line 550326: expected 2 fields, saw 3\\nSkipping line 552013: expected 2 fields, saw 5\\n'\n"
     ]
    },
    {
     "name": "stdout",
     "output_type": "stream",
     "text": [
      "processing chunk 55\n",
      "processing chunk 56\n",
      "processing chunk 57\n"
     ]
    },
    {
     "name": "stderr",
     "output_type": "stream",
     "text": [
      "b'Skipping line 553021: expected 2 fields, saw 5\\nSkipping line 557252: expected 2 fields, saw 3\\nSkipping line 558232: expected 2 fields, saw 3\\nSkipping line 558655: expected 2 fields, saw 3\\n'\n",
      "b'Skipping line 562692: expected 2 fields, saw 3\\nSkipping line 563704: expected 2 fields, saw 3\\n'\n",
      "b'Skipping line 576685: expected 2 fields, saw 3\\n'\n"
     ]
    },
    {
     "name": "stdout",
     "output_type": "stream",
     "text": [
      "processing chunk 58\n",
      "processing chunk 59\n",
      "processing chunk 60\n"
     ]
    },
    {
     "name": "stderr",
     "output_type": "stream",
     "text": [
      "b'Skipping line 582364: expected 2 fields, saw 3\\nSkipping line 583690: expected 2 fields, saw 3\\n'\n",
      "b'Skipping line 594094: expected 2 fields, saw 4\\nSkipping line 600205: expected 2 fields, saw 3\\n'\n",
      "b'Skipping line 607275: expected 2 fields, saw 3\\n'\n"
     ]
    },
    {
     "name": "stdout",
     "output_type": "stream",
     "text": [
      "processing chunk 61\n",
      "processing chunk 62\n",
      "processing chunk 63\n",
      "processing chunk "
     ]
    },
    {
     "name": "stderr",
     "output_type": "stream",
     "text": [
      "b'Skipping line 612836: expected 2 fields, saw 3\\nSkipping line 618087: expected 2 fields, saw 3\\n'\n",
      "b'Skipping line 637829: expected 2 fields, saw 3\\n'\n",
      "b'Skipping line 646571: expected 2 fields, saw 4\\nSkipping line 647307: expected 2 fields, saw 3\\n'\n"
     ]
    },
    {
     "name": "stdout",
     "output_type": "stream",
     "text": [
      "64\n",
      "processing chunk 65\n",
      "processing chunk 66\n",
      "processing chunk 67\n"
     ]
    },
    {
     "name": "stderr",
     "output_type": "stream",
     "text": [
      "b'Skipping line 654372: expected 2 fields, saw 5\\nSkipping line 658255: expected 2 fields, saw 3\\nSkipping line 660143: expected 2 fields, saw 3\\n'\n",
      "b'Skipping line 663283: expected 2 fields, saw 3\\nSkipping line 666461: expected 2 fields, saw 3\\nSkipping line 667666: expected 2 fields, saw 3\\nSkipping line 670715: expected 2 fields, saw 3\\n'\n",
      "b'Skipping line 674788: expected 2 fields, saw 3\\nSkipping line 679826: expected 2 fields, saw 3\\n'\n"
     ]
    },
    {
     "name": "stdout",
     "output_type": "stream",
     "text": [
      "processing chunk 68\n",
      "processing chunk 69\n",
      "processing chunk 70\n"
     ]
    },
    {
     "name": "stderr",
     "output_type": "stream",
     "text": [
      "b'Skipping line 682458: expected 2 fields, saw 3\\nSkipping line 682536: expected 2 fields, saw 4\\nSkipping line 687902: expected 2 fields, saw 3\\nSkipping line 690085: expected 2 fields, saw 3\\nSkipping line 690651: expected 2 fields, saw 3\\n'\n",
      "b'Skipping line 692621: expected 2 fields, saw 4\\nSkipping line 697263: expected 2 fields, saw 3\\nSkipping line 697377: expected 2 fields, saw 3\\nSkipping line 701707: expected 2 fields, saw 3\\n'\n",
      "b'Skipping line 703016: expected 2 fields, saw 3\\nSkipping line 705577: expected 2 fields, saw 3\\nSkipping line 707522: expected 2 fields, saw 3\\nSkipping line 708091: expected 2 fields, saw 3\\nSkipping line 711612: expected 2 fields, saw 3\\n'\n"
     ]
    },
    {
     "name": "stdout",
     "output_type": "stream",
     "text": [
      "processing chunk 71\n",
      "processing chunk 72\n",
      "processing chunk 73\n"
     ]
    },
    {
     "name": "stderr",
     "output_type": "stream",
     "text": [
      "b'Skipping line 720864: expected 2 fields, saw 3\\n'\n",
      "b'Skipping line 723312: expected 2 fields, saw 3\\nSkipping line 727808: expected 2 fields, saw 3\\nSkipping line 729957: expected 2 fields, saw 4\\n'\n",
      "b'Skipping line 737602: expected 2 fields, saw 3\\nSkipping line 741878: expected 2 fields, saw 3\\n'\n"
     ]
    },
    {
     "name": "stdout",
     "output_type": "stream",
     "text": [
      "processing chunk 74\n",
      "processing chunk 75\n",
      "processing chunk 76\n"
     ]
    },
    {
     "name": "stderr",
     "output_type": "stream",
     "text": [
      "b'Skipping line 742475: expected 2 fields, saw 3\\nSkipping line 744710: expected 2 fields, saw 3\\nSkipping line 744905: expected 2 fields, saw 3\\nSkipping line 747716: expected 2 fields, saw 3\\nSkipping line 751676: expected 2 fields, saw 3\\n'\n",
      "b'Skipping line 755722: expected 2 fields, saw 3\\nSkipping line 756642: expected 2 fields, saw 3\\nSkipping line 758964: expected 2 fields, saw 3\\nSkipping line 760137: expected 2 fields, saw 3\\n'\n",
      "b'Skipping line 764553: expected 2 fields, saw 6\\n'\n"
     ]
    },
    {
     "name": "stdout",
     "output_type": "stream",
     "text": [
      "processing chunk 77\n",
      "processing chunk 78\n",
      "processing chunk 79\n",
      "processing chunk 80\n"
     ]
    },
    {
     "name": "stderr",
     "output_type": "stream",
     "text": [
      "b'Skipping line 775015: expected 2 fields, saw 3\\nSkipping line 775538: expected 2 fields, saw 3\\n'\n",
      "b'Skipping line 789559: expected 2 fields, saw 3\\n'\n",
      "b'Skipping line 797248: expected 2 fields, saw 4\\nSkipping line 801037: expected 2 fields, saw 3\\n'\n"
     ]
    },
    {
     "name": "stdout",
     "output_type": "stream",
     "text": [
      "processing chunk 81\n",
      "processing chunk 82\n",
      "processing chunk 83\n"
     ]
    },
    {
     "name": "stderr",
     "output_type": "stream",
     "text": [
      "b'Skipping line 813197: expected 2 fields, saw 3\\nSkipping line 813282: expected 2 fields, saw 3\\n'\n",
      "b'Skipping line 832681: expected 2 fields, saw 3\\nSkipping line 836507: expected 2 fields, saw 4\\nSkipping line 837507: expected 2 fields, saw 3\\nSkipping line 837621: expected 2 fields, saw 3\\n'\n"
     ]
    },
    {
     "name": "stdout",
     "output_type": "stream",
     "text": [
      "processing chunk 84\n",
      "processing chunk 85\n",
      "processing chunk 86\n"
     ]
    },
    {
     "name": "stderr",
     "output_type": "stream",
     "text": [
      "b'Skipping line 843595: expected 2 fields, saw 3\\nSkipping line 845467: expected 2 fields, saw 3\\nSkipping line 848015: expected 2 fields, saw 3\\nSkipping line 848675: expected 2 fields, saw 3\\n'\n",
      "b'Skipping line 855158: expected 2 fields, saw 3\\nSkipping line 855394: expected 2 fields, saw 3\\nSkipping line 858773: expected 2 fields, saw 3\\n'\n",
      "b'Skipping line 864859: expected 2 fields, saw 3\\nSkipping line 867949: expected 2 fields, saw 3\\n'\n"
     ]
    },
    {
     "name": "stdout",
     "output_type": "stream",
     "text": [
      "processing chunk 87\n",
      "processing chunk 88\n",
      "processing chunk 89\n"
     ]
    },
    {
     "name": "stderr",
     "output_type": "stream",
     "text": [
      "b'Skipping line 881587: expected 2 fields, saw 3\\nSkipping line 881983: expected 2 fields, saw 3\\n'\n",
      "b'Skipping line 889009: expected 2 fields, saw 8\\n'\n",
      "b'Skipping line 895056: expected 2 fields, saw 3\\nSkipping line 896526: expected 2 fields, saw 3\\nSkipping line 899276: expected 2 fields, saw 3\\nSkipping line 899985: expected 2 fields, saw 3\\nSkipping line 900732: expected 2 fields, saw 3\\n'\n"
     ]
    },
    {
     "name": "stdout",
     "output_type": "stream",
     "text": [
      "processing chunk 90\n",
      "processing chunk 91\n",
      "processing chunk 92\n",
      "processing chunk 93\n"
     ]
    },
    {
     "name": "stderr",
     "output_type": "stream",
     "text": [
      "b'Skipping line 910706: expected 2 fields, saw 3\\nSkipping line 911770: expected 2 fields, saw 3\\n'\n",
      "b'Skipping line 916965: expected 2 fields, saw 3\\nSkipping line 921905: expected 2 fields, saw 4\\nSkipping line 922392: expected 2 fields, saw 3\\n'\n",
      "b'Skipping line 922871: expected 2 fields, saw 3\\nSkipping line 923568: expected 2 fields, saw 4\\nSkipping line 924491: expected 2 fields, saw 3\\nSkipping line 926204: expected 2 fields, saw 3\\nSkipping line 927123: expected 2 fields, saw 3\\nSkipping line 929350: expected 2 fields, saw 4\\nSkipping line 931503: expected 2 fields, saw 3\\nSkipping line 932412: expected 2 fields, saw 3\\n'\n",
      "b'Skipping line 935503: expected 2 fields, saw 3\\nSkipping line 939213: expected 2 fields, saw 4\\nSkipping line 941978: expected 2 fields, saw 3\\nSkipping line 942134: expected 2 fields, saw 3\\n'\n"
     ]
    },
    {
     "name": "stdout",
     "output_type": "stream",
     "text": [
      "processing chunk 94\n",
      "processing chunk 95\n",
      "processing chunk 96\n"
     ]
    },
    {
     "name": "stderr",
     "output_type": "stream",
     "text": [
      "b'Skipping line 942560: expected 2 fields, saw 3\\nSkipping line 948754: expected 2 fields, saw 4\\nSkipping line 949122: expected 2 fields, saw 3\\nSkipping line 950209: expected 2 fields, saw 3\\n'\n",
      "b'Skipping line 952798: expected 2 fields, saw 3\\nSkipping line 953862: expected 2 fields, saw 3\\nSkipping line 959423: expected 2 fields, saw 3\\n'\n"
     ]
    },
    {
     "name": "stdout",
     "output_type": "stream",
     "text": [
      "processing chunk 97\n",
      "processing chunk 98\n",
      "processing chunk 99\n"
     ]
    },
    {
     "name": "stderr",
     "output_type": "stream",
     "text": [
      "b'Skipping line 974946: expected 2 fields, saw 3\\nSkipping line 977720: expected 2 fields, saw 3\\n'\n",
      "b'Skipping line 990901: expected 2 fields, saw 4\\n'\n"
     ]
    },
    {
     "name": "stdout",
     "output_type": "stream",
     "text": [
      "processing chunk 100\n",
      "processing chunk 101\n",
      "processing chunk 102\n"
     ]
    },
    {
     "name": "stderr",
     "output_type": "stream",
     "text": [
      "b'Skipping line 1006540: expected 2 fields, saw 4\\n'\n",
      "b'Skipping line 1013526: expected 2 fields, saw 4\\nSkipping line 1014318: expected 2 fields, saw 4\\nSkipping line 1015032: expected 2 fields, saw 3\\nSkipping line 1018262: expected 2 fields, saw 4\\nSkipping line 1019607: expected 2 fields, saw 3\\nSkipping line 1020316: expected 2 fields, saw 3\\n'\n",
      "b'Skipping line 1025022: expected 2 fields, saw 4\\nSkipping line 1025884: expected 2 fields, saw 3\\n'\n"
     ]
    },
    {
     "name": "stdout",
     "output_type": "stream",
     "text": [
      "processing chunk 103\n",
      "processing chunk 104\n",
      "processing chunk 105\n"
     ]
    },
    {
     "name": "stderr",
     "output_type": "stream",
     "text": [
      "b'Skipping line 1033688: expected 2 fields, saw 3\\nSkipping line 1042306: expected 2 fields, saw 3\\n'\n",
      "b'Skipping line 1048845: expected 2 fields, saw 3\\nSkipping line 1049247: expected 2 fields, saw 3\\nSkipping line 1050853: expected 2 fields, saw 4\\n'\n",
      "b'Skipping line 1056158: expected 2 fields, saw 4\\nSkipping line 1056859: expected 2 fields, saw 3\\nSkipping line 1058788: expected 2 fields, saw 3\\nSkipping line 1059969: expected 2 fields, saw 3\\nSkipping line 1061754: expected 2 fields, saw 3\\n'\n"
     ]
    },
    {
     "name": "stdout",
     "output_type": "stream",
     "text": [
      "processing chunk 106\n",
      "processing chunk 107\n",
      "processing chunk 108\n"
     ]
    },
    {
     "name": "stderr",
     "output_type": "stream",
     "text": [
      "b'Skipping line 1064345: expected 2 fields, saw 3\\nSkipping line 1064806: expected 2 fields, saw 4\\nSkipping line 1064977: expected 2 fields, saw 3\\nSkipping line 1065048: expected 2 fields, saw 3\\nSkipping line 1070729: expected 2 fields, saw 3\\n'\n",
      "b'Skipping line 1073190: expected 2 fields, saw 3\\nSkipping line 1073763: expected 2 fields, saw 3\\nSkipping line 1075652: expected 2 fields, saw 3\\nSkipping line 1076406: expected 2 fields, saw 3\\nSkipping line 1076822: expected 2 fields, saw 3\\nSkipping line 1078688: expected 2 fields, saw 3\\n'\n",
      "b'Skipping line 1088224: expected 2 fields, saw 3\\nSkipping line 1089505: expected 2 fields, saw 3\\n'\n"
     ]
    },
    {
     "name": "stdout",
     "output_type": "stream",
     "text": [
      "processing chunk 109\n",
      "processing chunk 110\n",
      "processing chunk 111\n"
     ]
    },
    {
     "name": "stderr",
     "output_type": "stream",
     "text": [
      "b'Skipping line 1093522: expected 2 fields, saw 3\\nSkipping line 1100255: expected 2 fields, saw 3\\nSkipping line 1102298: expected 2 fields, saw 3\\nSkipping line 1102462: expected 2 fields, saw 3\\n'\n",
      "b'Skipping line 1102566: expected 2 fields, saw 3\\nSkipping line 1102864: expected 2 fields, saw 3\\nSkipping line 1108991: expected 2 fields, saw 3\\n'\n",
      "b'Skipping line 1113904: expected 2 fields, saw 3\\nSkipping line 1114041: expected 2 fields, saw 3\\n'"
     ]
    },
    {
     "name": "stdout",
     "output_type": "stream",
     "text": [
      "processing chunk 112\n",
      "processing chunk 113\n",
      "processing chunk 114\n"
     ]
    },
    {
     "name": "stderr",
     "output_type": "stream",
     "text": [
      "\n",
      "b'Skipping line 1123473: expected 2 fields, saw 4\\nSkipping line 1125016: expected 2 fields, saw 3\\nSkipping line 1132036: expected 2 fields, saw 4\\n'\n",
      "b'Skipping line 1145434: expected 2 fields, saw 3\\n'\n"
     ]
    },
    {
     "name": "stdout",
     "output_type": "stream",
     "text": [
      "processing chunk 115\n",
      "processing chunk 116\n",
      "processing chunk 117\n"
     ]
    },
    {
     "name": "stderr",
     "output_type": "stream",
     "text": [
      "b'Skipping line 1163353: expected 2 fields, saw 8\\nSkipping line 1171500: expected 2 fields, saw 3\\n'\n",
      "b'Skipping line 1174414: expected 2 fields, saw 4\\nSkipping line 1176353: expected 2 fields, saw 6\\n'\n",
      "b'Skipping line 1192107: expected 2 fields, saw 3\\n'\n"
     ]
    },
    {
     "name": "stdout",
     "output_type": "stream",
     "text": [
      "processing chunk 118\n",
      "processing chunk 119\n",
      "processing chunk 120\n"
     ]
    },
    {
     "name": "stderr",
     "output_type": "stream",
     "text": [
      "b'Skipping line 1194957: expected 2 fields, saw 3\\nSkipping line 1195676: expected 2 fields, saw 3\\nSkipping line 1201045: expected 2 fields, saw 3\\n'\n",
      "b'Skipping line 1206084: expected 2 fields, saw 3\\n'\n",
      "b'Skipping line 1216037: expected 2 fields, saw 3\\nSkipping line 1220943: expected 2 fields, saw 3\\n'\n"
     ]
    },
    {
     "name": "stdout",
     "output_type": "stream",
     "text": [
      "processing chunk 121\n",
      "processing chunk 122\n",
      "processing chunk"
     ]
    },
    {
     "name": "stderr",
     "output_type": "stream",
     "text": [
      "b'Skipping line 1223656: expected 2 fields, saw 4\\nSkipping line 1225100: expected 2 fields, saw 6\\nSkipping line 1229461: expected 2 fields, saw 3\\n'\n",
      "b'Skipping line 1233135: expected 2 fields, saw 3\\nSkipping line 1235188: expected 2 fields, saw 3\\nSkipping line 1235241: expected 2 fields, saw 3\\nSkipping line 1236650: expected 2 fields, saw 3\\nSkipping line 1239145: expected 2 fields, saw 3\\n'\n"
     ]
    },
    {
     "name": "stdout",
     "output_type": "stream",
     "text": [
      " 123\n",
      "processing chunk 124\n",
      "processing chunk 125\n",
      "processing chunk 126\n"
     ]
    },
    {
     "name": "stderr",
     "output_type": "stream",
     "text": [
      "b'Skipping line 1246533: expected 2 fields, saw 3\\nSkipping line 1246646: expected 2 fields, saw 4\\nSkipping line 1246794: expected 2 fields, saw 4\\nSkipping line 1250322: expected 2 fields, saw 3\\nSkipping line 1251110: expected 2 fields, saw 4\\nSkipping line 1251689: expected 2 fields, saw 3\\nSkipping line 1252160: expected 2 fields, saw 4\\nSkipping line 1252392: expected 2 fields, saw 3\\n'\n",
      "b'Skipping line 1254104: expected 2 fields, saw 4\\nSkipping line 1258555: expected 2 fields, saw 3\\nSkipping line 1258829: expected 2 fields, saw 4\\nSkipping line 1258988: expected 2 fields, saw 3\\nSkipping line 1259766: expected 2 fields, saw 3\\nSkipping line 1260760: expected 2 fields, saw 3\\n'\n",
      "b'Skipping line 1264727: expected 2 fields, saw 4\\n'\n"
     ]
    },
    {
     "name": "stdout",
     "output_type": "stream",
     "text": [
      "processing chunk 127\n",
      "processing chunk 128\n",
      "processing chunk 129\n"
     ]
    },
    {
     "name": "stderr",
     "output_type": "stream",
     "text": [
      "b'Skipping line 1272890: expected 2 fields, saw 3\\nSkipping line 1273107: expected 2 fields, saw 3\\nSkipping line 1273863: expected 2 fields, saw 3\\nSkipping line 1281454: expected 2 fields, saw 3\\n'\n",
      "b'Skipping line 1285184: expected 2 fields, saw 3\\nSkipping line 1288609: expected 2 fields, saw 3\\nSkipping line 1290452: expected 2 fields, saw 3\\n'\n"
     ]
    },
    {
     "name": "stdout",
     "output_type": "stream",
     "text": [
      "processing chunk 130\n",
      "processing chunk 131\n",
      "processing chunk 132\n"
     ]
    },
    {
     "name": "stderr",
     "output_type": "stream",
     "text": [
      "b'Skipping line 1305812: expected 2 fields, saw 4\\n'\n",
      "b'Skipping line 1313422: expected 2 fields, saw 3\\n'\n",
      "b'Skipping line 1329361: expected 2 fields, saw 3\\n'\n"
     ]
    },
    {
     "name": "stdout",
     "output_type": "stream",
     "text": [
      "processing chunk 133\n",
      "processing chunk 134\n",
      "processing chunk 135\n"
     ]
    },
    {
     "name": "stderr",
     "output_type": "stream",
     "text": [
      "b'Skipping line 1335308: expected 2 fields, saw 6\\nSkipping line 1338462: expected 2 fields, saw 3\\nSkipping line 1339135: expected 2 fields, saw 3\\n'\n",
      "b'Skipping line 1346096: expected 2 fields, saw 4\\n'\n",
      "b'Skipping line 1362279: expected 2 fields, saw 3\\n'\n"
     ]
    },
    {
     "name": "stdout",
     "output_type": "stream",
     "text": [
      "processing chunk 136\n",
      "processing chunk 137\n",
      "processing chunk 138\n"
     ]
    },
    {
     "name": "stderr",
     "output_type": "stream",
     "text": [
      "b'Skipping line 1367055: expected 2 fields, saw 3\\nSkipping line 1367066: expected 2 fields, saw 3\\nSkipping line 1370147: expected 2 fields, saw 3\\n'\n"
     ]
    },
    {
     "name": "stdout",
     "output_type": "stream",
     "text": [
      "processing chunk 139\n",
      "processing chunk 140\n",
      "processing chunk 141\n"
     ]
    },
    {
     "name": "stderr",
     "output_type": "stream",
     "text": [
      "b'Skipping line 1399204: expected 2 fields, saw 3\\nSkipping line 1400952: expected 2 fields, saw 3\\n'\n",
      "b'Skipping line 1406257: expected 2 fields, saw 3\\n'\n",
      "b'Skipping line 1413930: expected 2 fields, saw 3\\nSkipping line 1421280: expected 2 fields, saw 3\\n'\n"
     ]
    },
    {
     "name": "stdout",
     "output_type": "stream",
     "text": [
      "processing chunk 142\n",
      "processing chunk 143\n",
      "processing chunk 144\n"
     ]
    },
    {
     "name": "stderr",
     "output_type": "stream",
     "text": [
      "b'Skipping line 1438024: expected 2 fields, saw 3\\n'\n",
      "b'Skipping line 1459366: expected 2 fields, saw 3\\nSkipping line 1459527: expected 2 fields, saw 3\\n'\n"
     ]
    },
    {
     "name": "stdout",
     "output_type": "stream",
     "text": [
      "processing chunk 145\n",
      "processing chunk 146\n"
     ]
    },
    {
     "name": "stderr",
     "output_type": "stream",
     "text": [
      "b'Skipping line 1467694: expected 2 fields, saw 3\\n'\n",
      "b'Skipping line 1491790: expected 2 fields, saw 3\\n'\n"
     ]
    },
    {
     "name": "stdout",
     "output_type": "stream",
     "text": [
      "processing chunk 147\n",
      "processing chunk 148\n",
      "processing chunk 149\n",
      "processing chunk 150\n",
      "processing chunk 151\n",
      "processing chunk 152\n"
     ]
    },
    {
     "name": "stderr",
     "output_type": "stream",
     "text": [
      "b'Skipping line 1519394: expected 2 fields, saw 3\\nSkipping line 1519703: expected 2 fields, saw 3\\nSkipping line 1521904: expected 2 fields, saw 4\\n'\n",
      "b'Skipping line 1552894: expected 2 fields, saw 3\\nSkipping line 1553194: expected 2 fields, saw 3\\n'\n"
     ]
    },
    {
     "name": "stdout",
     "output_type": "stream",
     "text": [
      "processing chunk 153\n",
      "processing chunk 154\n",
      "processing chunk 155\n",
      "processing chunk 156\n"
     ]
    },
    {
     "name": "stderr",
     "output_type": "stream",
     "text": [
      "b'Skipping line 1568730: expected 2 fields, saw 3\\n'\n",
      "b'Skipping line 1581196: expected 2 fields, saw 3\\n'\n",
      "b'Skipping line 1584504: expected 2 fields, saw 3\\nSkipping line 1585226: expected 2 fields, saw 3\\nSkipping line 1589772: expected 2 fields, saw 3\\n'\n"
     ]
    },
    {
     "name": "stdout",
     "output_type": "stream",
     "text": [
      "processing chunk 157\n",
      "processing chunk 158\n",
      "processing chunk 159\n"
     ]
    },
    {
     "name": "stderr",
     "output_type": "stream",
     "text": [
      "b'Skipping line 1594827: expected 2 fields, saw 3\\nSkipping line 1597149: expected 2 fields, saw 3\\nSkipping line 1598277: expected 2 fields, saw 3\\nSkipping line 1598309: expected 2 fields, saw 3\\nSkipping line 1598812: expected 2 fields, saw 3\\nSkipping line 1600427: expected 2 fields, saw 3\\nSkipping line 1602060: expected 2 fields, saw 3\\nSkipping line 1602335: expected 2 fields, saw 3\\n'\n",
      "b'Skipping line 1620952: expected 2 fields, saw 4\\n'\n"
     ]
    },
    {
     "name": "stdout",
     "output_type": "stream",
     "text": [
      "processing chunk 160\n",
      "processing chunk 161\n",
      "processing chunk 162\n",
      "processing chunk 163\n",
      "processing chunk 164\n",
      "processing chunk 165\n"
     ]
    },
    {
     "name": "stderr",
     "output_type": "stream",
     "text": [
      "b'Skipping line 1623624: expected 2 fields, saw 3\\nSkipping line 1626980: expected 2 fields, saw 3\\n'\n"
     ]
    }
   ],
   "source": [
    "# with open(filename, encoding=\"latin-1\") as datafile:\n",
    "with open(inputfilename,'r',encoding=\"latin-1\") as inputfile, open(outputfilename,'a') as outfile:\n",
    "\tireader = pd.read_csv(inputfile, delimiter = None, chunksize = 10000, iterator = True, error_bad_lines = False, quoting=csv.QUOTE_NONE, encoding='utf-8')\n",
    "\ti=0\n",
    "\tfor chunk in ireader:\n",
    "\t\tif len(chunk) >= 1:\n",
    "\t\t\ti=i+1\n",
    "\t\t\tprint(\"processing chunk\", str(i))\n",
    "\t\t\tchunk.to_csv(outfile, mode = 'a', sep = '|', index = True, header = True)"
   ]
  },
  {
   "cell_type": "code",
   "execution_count": 10,
   "metadata": {
    "collapsed": true
   },
   "outputs": [],
   "source": [
    "from configobj import ConfigObj"
   ]
  },
  {
   "cell_type": "code",
   "execution_count": 11,
   "metadata": {
    "collapsed": true
   },
   "outputs": [],
   "source": [
    "config = ConfigObj('/home/manavee/Documents/Transaction_Mapping/config.ini')\n"
   ]
  },
  {
   "cell_type": "code",
   "execution_count": 12,
   "metadata": {
    "collapsed": true
   },
   "outputs": [],
   "source": [
    "# cores = cpu_count()\n",
    "# partitions = cores\n",
    "chunksize = int(config['chunksize'])\n",
    "delimiter =  config['delimiter']\n",
    "inputfilename = config['inputfilename']\n",
    "outputfilename = config['outputfilename']\n",
    "input_file_delimiter = config['input_file_delimiter']"
   ]
  },
  {
   "cell_type": "code",
   "execution_count": 13,
   "metadata": {
    "collapsed": false
   },
   "outputs": [
    {
     "name": "stdout",
     "output_type": "stream",
     "text": [
      "1000000\n"
     ]
    }
   ],
   "source": [
    "print(chunksize)"
   ]
  }
 ],
 "metadata": {
  "kernelspec": {
   "display_name": "Python 3",
   "language": "python",
   "name": "python3"
  },
  "language_info": {
   "codemirror_mode": {
    "name": "ipython",
    "version": 3
   },
   "file_extension": ".py",
   "mimetype": "text/x-python",
   "name": "python",
   "nbconvert_exporter": "python",
   "pygments_lexer": "ipython3",
   "version": "3.6.0"
  }
 },
 "nbformat": 4,
 "nbformat_minor": 2
}
