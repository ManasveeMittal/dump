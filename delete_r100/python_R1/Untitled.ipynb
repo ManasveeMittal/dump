{
 "cells": [
  {
   "cell_type": "code",
   "execution_count": 1,
   "metadata": {
    "collapsed": false
   },
   "outputs": [
    {
     "ename": "ModuleNotFoundError",
     "evalue": "No module named 'dbus'",
     "output_type": "error",
     "traceback": [
      "\u001b[0;31m--------------------------------------------------------------------------\u001b[0m",
      "\u001b[0;31mModuleNotFoundError\u001b[0m                      Traceback (most recent call last)",
      "\u001b[0;32m<ipython-input-1-d5c0314730b1>\u001b[0m in \u001b[0;36m<module>\u001b[0;34m()\u001b[0m\n\u001b[1;32m      1\u001b[0m \u001b[0;32mimport\u001b[0m \u001b[0mtime\u001b[0m\u001b[0;34m\u001b[0m\u001b[0m\n\u001b[0;32m----> 2\u001b[0;31m \u001b[0;32mimport\u001b[0m \u001b[0mnotify2\u001b[0m\u001b[0;34m\u001b[0m\u001b[0m\n\u001b[0m\u001b[1;32m      3\u001b[0m \u001b[0;32mfrom\u001b[0m \u001b[0mtopnews\u001b[0m \u001b[0;32mimport\u001b[0m \u001b[0mtopStories\u001b[0m\u001b[0;34m\u001b[0m\u001b[0m\n\u001b[1;32m      4\u001b[0m \u001b[0;34m\u001b[0m\u001b[0m\n\u001b[1;32m      5\u001b[0m \u001b[0;31m# path to notification window icon\u001b[0m\u001b[0;34m\u001b[0m\u001b[0;34m\u001b[0m\u001b[0m\n",
      "\u001b[0;32m/home/manavee/anaconda3/lib/python3.6/site-packages/notify2.py\u001b[0m in \u001b[0;36m<module>\u001b[0;34m()\u001b[0m\n\u001b[1;32m     37\u001b[0m \"\"\"\n\u001b[1;32m     38\u001b[0m \u001b[0;34m\u001b[0m\u001b[0m\n\u001b[0;32m---> 39\u001b[0;31m \u001b[0;32mimport\u001b[0m \u001b[0mdbus\u001b[0m\u001b[0;34m\u001b[0m\u001b[0m\n\u001b[0m\u001b[1;32m     40\u001b[0m \u001b[0;34m\u001b[0m\u001b[0m\n\u001b[1;32m     41\u001b[0m \u001b[0m__version__\u001b[0m \u001b[0;34m=\u001b[0m \u001b[0;34m'0.3.1'\u001b[0m\u001b[0;34m\u001b[0m\u001b[0m\n",
      "\u001b[0;31mModuleNotFoundError\u001b[0m: No module named 'dbus'"
     ]
    }
   ],
   "source": [
    "import time\n",
    "import notify2\n",
    "from topnews import topStories\n",
    " \n",
    "# path to notification window icon\n",
    "ICON_PATH = \"put full path to icon image here\"\n",
    " \n",
    "# fetch news items\n",
    "newsitems = topStories()\n",
    " \n",
    "# initialise the d-bus connection\n",
    "notify2.init(\"News Notifier\")\n",
    " \n",
    "# create Notification object\n",
    "n = notify2.Notification(None, icon = ICON_PATH)\n",
    " \n",
    "# set urgency level\n",
    "n.set_urgency(notify2.URGENCY_NORMAL)\n",
    " \n",
    "# set timeout for a notification\n",
    "n.set_timeout(10000)\n",
    " \n",
    "for newsitem in newsitems:\n",
    " \n",
    "    # update notification data for Notification object\n",
    "    n.update(newsitem['title'], newsitem['description'])\n",
    " \n",
    "    # show notification on screen\n",
    "    n.show()\n",
    " \n",
    "    # short delay between notifications\n",
    "    time.sleep(15)"
   ]
  },
  {
   "cell_type": "code",
   "execution_count": 2,
   "metadata": {
    "collapsed": false
   },
   "outputs": [],
   "source": [
    "import os\n",
    "import sys"
   ]
  },
  {
   "cell_type": "code",
   "execution_count": 6,
   "metadata": {
    "collapsed": true
   },
   "outputs": [],
   "source": [
    "dir = '/home/manavee/Dropbox/DataDoNotSync/Python-Data-Science-and-Machine-Learning-Bootcamp_/Python-for-Data-Visualization/'"
   ]
  },
  {
   "cell_type": "code",
   "execution_count": 4,
   "metadata": {
    "collapsed": true
   },
   "outputs": [],
   "source": [
    "import subprocess\n"
   ]
  },
  {
   "cell_type": "code",
   "execution_count": 9,
   "metadata": {
    "collapsed": false
   },
   "outputs": [
    {
     "ename": "FileNotFoundError",
     "evalue": "[Errno 2] No such file or directory: ' cd '",
     "output_type": "error",
     "traceback": [
      "\u001b[0;31m--------------------------------------------------------------------------\u001b[0m",
      "\u001b[0;31mFileNotFoundError\u001b[0m                        Traceback (most recent call last)",
      "\u001b[0;32m<ipython-input-9-5d75a87b3b71>\u001b[0m in \u001b[0;36m<module>\u001b[0;34m()\u001b[0m\n\u001b[0;32m----> 1\u001b[0;31m \u001b[0mdir_p\u001b[0m \u001b[0;34m=\u001b[0m \u001b[0msubprocess\u001b[0m\u001b[0;34m.\u001b[0m\u001b[0mPopen\u001b[0m\u001b[0;34m(\u001b[0m\u001b[0;34m' cd '\u001b[0m \u001b[0;34m)\u001b[0m\u001b[0;34m\u001b[0m\u001b[0m\n\u001b[0m",
      "\u001b[0;32m/home/manavee/anaconda3/lib/python3.6/subprocess.py\u001b[0m in \u001b[0;36m__init__\u001b[0;34m(self, args, bufsize, executable, stdin, stdout, stderr, preexec_fn, close_fds, shell, cwd, env, universal_newlines, startupinfo, creationflags, restore_signals, start_new_session, pass_fds, encoding, errors)\u001b[0m\n\u001b[1;32m    705\u001b[0m                                 \u001b[0mc2pread\u001b[0m\u001b[0;34m,\u001b[0m \u001b[0mc2pwrite\u001b[0m\u001b[0;34m,\u001b[0m\u001b[0;34m\u001b[0m\u001b[0m\n\u001b[1;32m    706\u001b[0m                                 \u001b[0merrread\u001b[0m\u001b[0;34m,\u001b[0m \u001b[0merrwrite\u001b[0m\u001b[0;34m,\u001b[0m\u001b[0;34m\u001b[0m\u001b[0m\n\u001b[0;32m--> 707\u001b[0;31m                                 restore_signals, start_new_session)\n\u001b[0m\u001b[1;32m    708\u001b[0m         \u001b[0;32mexcept\u001b[0m\u001b[0;34m:\u001b[0m\u001b[0;34m\u001b[0m\u001b[0m\n\u001b[1;32m    709\u001b[0m             \u001b[0;31m# Cleanup if the child failed starting.\u001b[0m\u001b[0;34m\u001b[0m\u001b[0;34m\u001b[0m\u001b[0m\n",
      "\u001b[0;32m/home/manavee/anaconda3/lib/python3.6/subprocess.py\u001b[0m in \u001b[0;36m_execute_child\u001b[0;34m(self, args, executable, preexec_fn, close_fds, pass_fds, cwd, env, startupinfo, creationflags, shell, p2cread, p2cwrite, c2pread, c2pwrite, errread, errwrite, restore_signals, start_new_session)\u001b[0m\n\u001b[1;32m   1324\u001b[0m                             \u001b[0;32melse\u001b[0m\u001b[0;34m:\u001b[0m\u001b[0;34m\u001b[0m\u001b[0m\n\u001b[1;32m   1325\u001b[0m                                 \u001b[0merr_msg\u001b[0m \u001b[0;34m+=\u001b[0m \u001b[0;34m': '\u001b[0m \u001b[0;34m+\u001b[0m \u001b[0mrepr\u001b[0m\u001b[0;34m(\u001b[0m\u001b[0morig_executable\u001b[0m\u001b[0;34m)\u001b[0m\u001b[0;34m\u001b[0m\u001b[0m\n\u001b[0;32m-> 1326\u001b[0;31m                     \u001b[0;32mraise\u001b[0m \u001b[0mchild_exception_type\u001b[0m\u001b[0;34m(\u001b[0m\u001b[0merrno_num\u001b[0m\u001b[0;34m,\u001b[0m \u001b[0merr_msg\u001b[0m\u001b[0;34m)\u001b[0m\u001b[0;34m\u001b[0m\u001b[0m\n\u001b[0m\u001b[1;32m   1327\u001b[0m                 \u001b[0;32mraise\u001b[0m \u001b[0mchild_exception_type\u001b[0m\u001b[0;34m(\u001b[0m\u001b[0merr_msg\u001b[0m\u001b[0;34m)\u001b[0m\u001b[0;34m\u001b[0m\u001b[0m\n\u001b[1;32m   1328\u001b[0m \u001b[0;34m\u001b[0m\u001b[0m\n",
      "\u001b[0;31mFileNotFoundError\u001b[0m: [Errno 2] No such file or directory: ' cd '"
     ]
    }
   ],
   "source": [
    "dir_p = subprocess.Popen(' cd ' )\n"
   ]
  },
  {
   "cell_type": "code",
   "execution_count": 104,
   "metadata": {
    "collapsed": false
   },
   "outputs": [
    {
     "name": "stdout",
     "output_type": "stream",
     "text": [
      "[b'Seaborn/Matrix Plots.ipynb:    \"import seaborn as sns\\\\n\",', b'Seaborn/Grids.ipynb:    \"import seaborn as sns\\\\n\",', b'Seaborn/Grids.ipynb:    \"import matplotlib.pyplot as plt\\\\n\",', b'Seaborn/Regression Plots.ipynb:    \"import seaborn as sns\\\\n\",'] None\n"
     ]
    }
   ],
   "source": [
    "os.chdir(dir)\n",
    "cwd = os.getcwd()\n",
    "bashCommand = 'egrep -ir import'\n",
    "process = subprocess.Popen(bashCommand.split(), stdout=subprocess.PIPE)\n",
    "output, error = process.communicate()\n",
    "print(output.splitlines()[:4], error)"
   ]
  },
  {
   "cell_type": "code",
   "execution_count": 82,
   "metadata": {
    "collapsed": false
   },
   "outputs": [
    {
     "name": "stdout",
     "output_type": "stream",
     "text": [
      "<class 'list'> <class 'str'> Seaborn/Matrix Plots.ipynb:    \"import seaborn as sns\\n\",\n",
      "['Seaborn/Matrix Plots.ipynb:    \"import seaborn as sns\\\\n\",', 'Seaborn/Grids.ipynb:    \"import seaborn as sns\\\\n\",', 'Seaborn/Grids.ipynb:    \"import matplotlib.pyplot as plt\\\\n\",', 'Seaborn/Regression Plots.ipynb:    \"import seaborn as sns\\\\n\",', 'Seaborn/Categorical Plots.ipynb:    \"import seaborn as sns\\\\n\",', 'Seaborn/Categorical Plots.ipynb:    \"import numpy as np\"', 'Seaborn/Distribution Plots.ipynb:    \"import seaborn as sns\\\\n\",', 'Seaborn/Distribution Plots.ipynb:    \"import numpy as np\\\\n\",', 'Seaborn/Distribution Plots.ipynb:    \"import matplotlib.pyplot as plt\\\\n\",', 'Seaborn/Distribution Plots.ipynb:    \"from scipy import stats\\\\n\",'] ['Seaborn/Distribution Plots.ipynb:    \"from scipy import stats\\\\n\",', 'Seaborn/.ipynb_checkpoints/Distribution Plots-checkpoint.ipynb:    \"from scipy import stats\\\\n\",', 'Geographical Plotting/Choropleth Maps Exercise - Solutions.ipynb:    \"from plotly.offline import init_notebook_mode,iplot,plot\\\\n\",', 'Geographical Plotting/Choropleth Maps Exercise .ipynb:    \"from plotly.offline import init_notebook_mode,iplot\\\\n\",', 'Geographical Plotting/Choropleth Maps.ipynb:    \"from plotly.offline import download_plotlyjs, init_notebook_mode, plot, iplot\"'] ['Seaborn/Matrix Plots.ipynb:    \"import seaborn as sns\\\\n\",', 'Seaborn/Grids.ipynb:    \"import seaborn as sns\\\\n\",', 'Seaborn/Grids.ipynb:    \"import matplotlib.pyplot as plt\\\\n\",', 'Seaborn/Regression Plots.ipynb:    \"import seaborn as sns\\\\n\",', 'Seaborn/Categorical Plots.ipynb:    \"import seaborn as sns\\\\n\",'] [] 1\n"
     ]
    }
   ],
   "source": [
    "cmd_out = [ s.decode() for s in output.splitlines()]\n",
    "print(type(cmd_out),type(cmd_out[0]),cmd_out[0])\n",
    "imports = list(filter(lambda s: 'import' in s, cmd_out))\n",
    "from_imports = [s for s in imports if 'from ' in s ]\n",
    "imports_as = [s for s in imports if ' as ' in s]\n",
    "from_imports_as = [s for s in from_imports  if ' as ' in s ]\n",
    "print(imports[:10],from_imports[:5],imports_as[:5], from_imports_as[:5],1 )\n"
   ]
  },
  {
   "cell_type": "code",
   "execution_count": 125,
   "metadata": {
    "collapsed": false
   },
   "outputs": [],
   "source": [
    "i=0\n",
    "cmd_out_1 = [ s.decode() for s in output.splitlines()]\n",
    "cmd_out_2 = [line.split(\":   \")[1] for line in cmd_out_1]\n",
    "cmd_out_3 = list(set(cmd_out_2))\n",
    "# for line in cmd_out[:]:\n",
    "#     i +=1\n",
    "#     t = line.split(\":   \")[1][1:]\n",
    "#     print(i,t)\n",
    "#     if i>40:\n",
    "#         break\n",
    "        \n",
    "        \n",
    "        \n",
    "    "
   ]
  },
  {
   "cell_type": "code",
   "execution_count": 126,
   "metadata": {
    "collapsed": false
   },
   "outputs": [
    {
     "name": "stdout",
     "output_type": "stream",
     "text": [
      "134 35\n",
      "[' \"import seaborn as sns\\\\n\",', ' \"import matplotlib.pyplot as plt\\\\n\",', ' \"import seaborn as sns\\\\n\",', ' \"import matplotlib.pyplot as plt\\\\n\",', ' \"## Imports\"']\n"
     ]
    }
   ],
   "source": [
    "print(len(cmd_out_2),len(cmd_out_3))\n",
    "print(cmd_out_2[23:28])"
   ]
  },
  {
   "cell_type": "code",
   "execution_count": 133,
   "metadata": {
    "collapsed": false,
    "scrolled": false
   },
   "outputs": [
    {
     "data": {
      "text/plain": [
       "'    \"}d[a]=p,u[h]=new n(d,h),c=Math.max(p,c)}l(u,i),r=u.length;for(var g=new Array(r+a+1),y=new Array(r+a+1),b=(a+1)*(a+1)*c,x=new Array(a+1),h=0;a>=h;++h)x[h]=0;x[a]=b,g[0]=x.slice(),y[0]=-1;for(var h=0;a>=h;++h){var d=x.slice();d[h]=1,g[h+1]=d,y[h+1]=-1}for(var h=0;r>h;++h){var _=u[h];g[h+a+1]=_.point,y[h+a+1]=_.index}var w=s(g,!1);if(w=e?w.filter(function(t){for(var e=0,r=0;a>=r;++r){var n=y[t[r]];if(0>n&&++e>=2)return!1;t[r]=n}return!0}):w.filter(function(t){for(var e=0;a>=e;++e){var r=y[t[e]];if(0>r)return!1;t[e]=r}return!0}),1&a)for(var h=0;h<w.length;++h){var _=w[h],d=_[0];_[0]=_[1],_[1]=d}return w}var s=t(\\\\\"incremental-convex-hull\\\\\"),l=t(\\\\\"uniq\\\\\");e.exports=a},{\\\\\"incremental-convex-hull\\\\\":241,uniq:459}],121:[function(t,e,r){\\\\\"use strict\\\\\";function n(t,e,r){var i=0|t[r];if(0>=i)return[];var o,a=new Array(i);if(r===t.length-1)for(o=0;i>o;++o)a[o]=e;else for(o=0;i>o;++o)a[o]=n(t,e,r+1);return a}function i(t,e){var r,n;for(r=new Array(t),n=0;t>n;++n)r[n]=e;return r}function o(t,e){switch(\\\\\"undefined\\\\\"==typeof e&&(e=0),typeof t){case\\\\\"number\\\\\":if(t>0)return i(0|t,e);break;case\\\\\"object\\\\\":if(\\\\\"number\\\\\"==typeof t.length)return n(t,e,0)}return[]}e.exports=o},{}],122:[function(e,r,n){(function(n,i){(function(){\\\\\"use strict\\\\\";function o(t){return\\\\\"function\\\\\"==typeof t||\\\\\"object\\\\\"==typeof t&&null!==t}function a(t){return\\\\\"function\\\\\"==typeof t}function s(t){X=t}function l(t){K=t}function u(){return function(){n.nextTick(p)}}function c(){return function(){H(p)}}function h(){var t=0,e=new Q(p),r=document.createTextNode(\\\\\"\\\\\");return e.observe(r,{characterData:!0}),function(){r.data=t=++t%2}}function f(){var t=new MessageChannel;return t.port1.onmessage=p,function(){t.port2.postMessage(0)}}function d(){return function(){setTimeout(p,1)}}function p(){for(var t=0;Z>t;t+=2){var e=rt[t],r=rt[t+1];e(r),rt[t]=void 0,rt[t+1]=void 0}Z=0}function v(){try{var t=e,r=t(\\\\\"vertx\\\\\");return H=r.runOnLoop||r.runOnContext,c()}catch(n){return d()}}function m(t,e){var r=this,n=r._state;if(n===at&&!t||n===st&&!e)return this;var i=new this.constructor(y),o=r._result;if(n){var a=arguments[n-1];K(function(){R(n,i,a,o)})}else z(r,i,t,e);return i}function g(t){var e=this;if(t&&\\\\\"object\\\\\"==typeof t&&t.constructor===e)return t;var r=new e(y);return T(r,t),r}function y(){}function b(){return new TypeError(\\\\\"You cannot resolve a promise with itself\\\\\")}function x(){return new TypeError(\\\\\"A promises callback cannot return that same promise.\\\\\")}function _(t){try{return t.then}catch(e){return lt.error=e,lt}}function w(t,e,r,n){try{t.call(e,r,n)}catch(i){return i}}function M(t,e,r){K(function(t){var n=!1,i=w(r,e,function(r){n||(n=!0,e!==r?T(t,r):S(t,r))},function(e){n||(n=!0,L(t,e))},\\\\\"Settle: \\\\\"+(t._label||\\\\\" unknown promise\\\\\"));!n&&i&&(n=!0,L(t,i))},t)}function k(t,e){e._state===at?S(t,e._result):e._state===st?L(t,e._result):z(e,void 0,function(e){T(t,e)},function(e){L(t,e)})}function A(t,e,r){e.constructor===t.constructor&&r===nt&&constructor.resolve===it?k(t,e):r===lt?L(t,lt.error):void 0===r?S(t,e):a(r)?M(t,e,r):S(t,e)}function T(t,e){t===e?L(t,b()):o(e)?A(t,e,_(e)):S(t,e)}function E(t){t._onerror&&t._onerror(t._result),I(t)}function S(t,e){t._state===ot&&(t._result=e,t._state=at,0!==t._subscribers.length&&K(I,t))}function L(t,e){t._state===ot&&(t._state=st,t._result=e,K(E,t))}function z(t,e,r,n){var i=t._subscribers,o=i.length;t._onerror=null,i[o]=e,i[o+at]=r,i[o+st]=n,0===o&&t._state&&K(I,t)}function I(t){var e=t._subscribers,r=t._state;if(0!==e.length){for(var n,i,o=t._result,a=0;a<e.length;a+=3)n=e[a],i=e[a+r],n?R(r,n,i,o):i(o);t._subscribers.length=0}}function P(){this.error=null}function C(t,e){try{return t(e)}catch(r){return ut.error=r,ut}}function R(t,e,r,n){var i,o,s,l,u=a(r);if(u){if(i=C(r,n),i===ut?(l=!0,o=i.error,i=null):s=!0,e===i)return void L(e,x())}else i=n,s=!0;e._state!==ot||(u&&s?T(e,i):l?L(e,o):t===at?S(e,i):t===st&&L(e,i))}function D(t,e){try{e(function(e){T(t,e)},function(e){L(t,e)})}catch(r){L(t,r)}}function O(t){return new vt(this,t).promise}function F(t){function e(t){T(i,t)}function r(t){L(i,t)}var n=this,i=new n(y);if(!W(t))return L(i,new TypeError(\\\\\"You must pass an array to race.\\\\\")),i;for(var o=t.length,a=0;i._state===ot&&o>a;a++)z(n.resolve(t[a]),void 0,e,r);return i}function j(t){var e=this,r=new e(y);return L(r,t),r}function N(){throw new TypeError(\\\\\"You must pass a resolver function as the first argument to the promise constructor\\\\\")}function B(){throw new TypeError(\\\\\"Failed to construct \\'Promise\\': Please use the \\'new\\' operator, this object constructor cannot be called as a function.\\\\\")}function U(t){this._id=dt++,this._state=void 0,this._result=void 0,this._subscribers=[],y!==t&&(\\\\\"function\\\\\"!=typeof t&&N(),this instanceof U?D(this,t):B())}function V(t,e){this._instanceConstructor=t,this.promise=new t(y),Array.isArray(e)?(this._input=e,this.length=e.length,this._remaining=e.length,this._result=new Array(this.length),0===this.length?S(this.promise,this._result):(this.length=this.length||0,this._enumerate(),0===this._remaining&&S(this.promise,this._result))):L(this.promise,this._validationError())}function q(){var t;if(\\\\\"undefined\\\\\"!=typeof i)t=i;else if(\\\\\"undefined\\\\\"!=typeof self)t=self;else try{t=Function(\\\\\"return this\\\\\")()}catch(e){throw new Error(\\\\\"polyfill failed because global object is unavailable in this environment\\\\\")}var r=t.Promise;r&&\\\\\"[object Promise]\\\\\"===Object.prototype.toString.call(r.resolve())&&!r.cast||(t.Promise=pt)}var G;G=Array.isArray?Array.isArray:function(t){return\\\\\"[object Array]\\\\\"===Object.prototype.toString.call(t)};var H,X,Y,W=G,Z=0,K=function(t,e){rt[Z]=t,rt[Z+1]=e,Z+=2,2===Z&&(X?X(p):Y())},J=\\\\\"undefined\\\\\"!=typeof window?window:void 0,$=J||{},Q=$.MutationObserver||$.WebKitMutationObserver,tt=\\\\\"undefined\\\\\"!=typeof n&&\\\\\"[object process]\\\\\"==={}.toString.call(n),et=\\\\\"undefined\\\\\"!=typeof Uint8ClampedArray&&\\\\\"undefined\\\\\"!=typeof importScripts&&\\\\\"undefined\\\\\"!=typeof MessageChannel,rt=new Array(1e3);Y=tt?u():Q?h():et?f():void 0===J&&\\\\\"function\\\\\"==typeof e?v():d();var nt=m,it=g,ot=void 0,at=1,st=2,lt=new P,ut=new P,ct=O,ht=F,ft=j,dt=0,pt=U;U.all=ct,U.race=ht,U.resolve=it,U.reject=ft,U._setScheduler=s,U._setAsap=l,U._asap=K,U.prototype={constructor:U,then:nt,\\\\\"catch\\\\\":function(t){return this.then(null,t)}};var vt=V;V.prototype._validationError=function(){return new Error(\\\\\"Array Methods must be provided an Array\\\\\")},V.prototype._enumerate=function(){for(var t=this.length,e=this._input,r=0;this._state===ot&&t>r;r++)this._eachEntry(e[r],r)},V.prototype._eachEntry=function(t,e){var r=this._instanceConstructor,n=r.resolve;if(n===it){var i=_(t);if(i===nt&&t._state!==ot)this._settledAt(t._state,e,t._result);else if(\\\\\"function\\\\\"!=typeof i)this._remaining--,this._result[e]=t;else if(r===pt){var o=new r(y);A(o,t,i),this._willSettleAt(o,e)}else this._willSettleAt(new r(function(e){e(t)}),e)}else this._willSettleAt(n(t),e)},V.prototype._settledAt=function(t,e,r){var n=this.promise;n._state===ot&&(this._remaining--,t===st?L(n,r):this._result[e]=r),0===this._remaining&&S(n,this._result)},V.prototype._willSettleAt=function(t,e){var r=this;z(t,void 0,function(t){r._settledAt(at,e,t)},function(t){r._settledAt(st,e,t)})};var mt=q,gt={Promise:pt,polyfill:mt};\\\\\"function\\\\\"==typeof t&&t.amd?t(function(){return gt}):\\\\\"undefined\\\\\"!=typeof r&&r.exports?r.exports=gt:\\\\\"undefined\\\\\"!=typeof this&&(this.ES6Promise=gt),mt()}).call(this)}).call(this,e(\\\\\"_process\\\\\"),\\\\\"undefined\\\\\"!=typeof global?global:\\\\\"undefined\\\\\"!=typeof self?self:\\\\\"undefined\\\\\"!=typeof window?window:{})},{_process:60}],123:[function(t,e,r){\\\\\"use strict\\\\\";function n(t){for(var e,r=t.length,n=0;r>n;n++)if(e=t.charCodeAt(n),(9>e||e>13)&&32!==e&&133!==e&&160!==e&&5760!==e&&6158!==e&&(8192>e||e>8205)&&8232!==e&&8233!==e&&8239!==e&&8287!==e&&8288!==e&&12288!==e&&65279!==e)return!1;return!0}e.exports=function(t){var e=typeof t;if(\\\\\"string\\\\\"===e){var r=t;if(t=+t,0===t&&n(r))return!1}else if(\\\\\"number\\\\\"!==e)return!1;return 1>t-t}},{}],124:[function(t,e,r){\\\\\"use strict\\\\\";function n(t,e,r,n,i){this.gl=t,this.type=e,this.handle=r,this.length=n,this.usage=i}function i(t,e,r,n,i,o){var a=i.length*i.BYTES_PER_ELEMENT;if(0>o)return t.bufferData(e,i,n),a;if(a+o>r)throw new Error(\\\\\"gl-buffer: If resizing buffer, must not specify offset\\\\\");return t.bufferSubData(e,o,i),r}function o(t,e){for(var r=l.malloc(t.length,e),n=t.length,i=0;n>i;++i)r[i]=t[i];return r}function a(t,e){for(var r=1,n=e.length-1;n>=0;--n){if(e[n]!==r)return!1;r*=t[n]}return!0}function s(t,e,r,i){if(r=r||t.ARRAY_BUFFER,i=i||t.DYNAMIC_DRAW,r!==t.ARRAY_BUFFER&&r!==t.ELEMENT_ARRAY_BUFFER)throw new Error(\\\\\"gl-buffer: Invalid type for webgl buffer, must be either gl.ARRAY_BUFFER or gl.ELEMENT_ARRAY_BUFFER\\\\\");if(i!==t.DYNAMIC_DRAW&&i!==t.STATIC_DRAW&&i!==t.STREAM_DRAW)throw new Error(\\\\\"gl-buffer: Invalid usage for buffer, must be either gl.DYNAMIC_DRAW, gl.STATIC_DRAW or gl.STREAM_DRAW\\\\\");var o=t.createBuffer(),a=new n(t,r,o,0,i);return a.update(e),a}var l=t(\\\\\"typedarray-pool\\\\\"),u=t(\\\\\"ndarray-ops\\\\\"),c=t(\\\\\"ndarray\\\\\"),h=[\\\\\"uint8\\\\\",\\\\\"uint8_clamped\\\\\",\\\\\"uint16\\\\\",\\\\\"uint32\\\\\",\\\\\"int8\\\\\",\\\\\"int16\\\\\",\\\\\"int32\\\\\",\\\\\"float32\\\\\"],f=n.prototype;f.bind=function(){this.gl.bindBuffer(this.type,this.handle)},f.unbind=function(){this.gl.bindBuffer(this.type,null)},f.dispose=function(){this.gl.deleteBuffer(this.handle)},f.update=function(t,e){if(\\\\\"number\\\\\"!=typeof e&&(e=-1),this.bind(),\\\\\"object\\\\\"==typeof t&&\\\\\"undefined\\\\\"!=typeof t.shape){var r=t.dtype;if(h.indexOf(r)<0&&(r=\\\\\"float32\\\\\"),this.type===this.gl.ELEMENT_ARRAY_BUFFER){var n=gl.getExtension(\\\\\"OES_element_index_uint\\\\\");r=n&&\\\\\"uint16\\\\\"!==r?\\\\\"uint32\\\\\":\\\\\"uint16\\\\\"}if(r===t.dtype&&a(t.shape,t.stride))0===t.offset&&t.data.length===t.shape[0]?this.length=i(this.gl,this.type,this.length,this.usage,t.data,e):this.length=i(this.gl,this.type,this.length,this.usage,t.data.subarray(t.offset,t.shape[0]),e);else{var s=l.malloc(t.size,r),f=c(s,t.shape);u.assign(f,t),0>e?this.length=i(this.gl,this.type,this.length,this.usage,s,e):this.length=i(this.gl,this.type,this.length,this.usage,s.subarray(0,t.size),e),l.free(s)}}else if(Array.isArray(t)){var d;d=this.type===this.gl.ELEMENT_ARRAY_BUFFER?o(t,\\\\\"uint16\\\\\"):o(t,\\\\\"float32\\\\\"),0>e?this.length=i(this.gl,this.type,this.length,this.usage,d,e):this.length=i(this.gl,this.type,this.length,this.usage,d.subarray(0,t.length),e),l.free(d)}else if(\\\\\"object\\\\\"==typeof t&&\\\\\"number\\\\\"==typeof t.length)this.length=i(this.gl,this.type,this.length,this.usage,t,e);else{if(\\\\\"number\\\\\"!=typeof t&&void 0!==t)throw new Error(\\\\\"gl-buffer: Invalid data type\\\\\");if(e>=0)throw new Error(\\\\\"gl-buffer: Cannot specify offset when resizing buffer\\\\\");t=0|t,0>=t&&(t=1),this.gl.bufferData(this.type,0|t,this.usage),this.length=t}},e.exports=s},{ndarray:433,\\\\\"ndarray-ops\\\\\":432,\\\\\"typedarray-pool\\\\\":458}],125:[function(t,e,r){\\\\\"use strict\\\\\";function n(t,e,r){this.plot=t,this.shader=e,this.buffer=r,this.bounds=[1/0,1/0,-(1/0),-(1/0)],this.numPoints=0,this.color=[0,0,0,1]}function i(t,e){var r=o(t.gl,l.vertex,l.fragment),i=a(t.gl),s=new n(t,r,i);return s.update(e),t.addObject(s),s}var o=t(\\\\\"gl-shader\\\\\"),a=t(\\\\\"gl-buffer\\\\\"),s=t(\\\\\"typedarray-pool\\\\\"),l=t(\\\\\"./lib/shaders\\\\\");e.exports=i;var u=[[1,0,0,1,0,0],[1,0,0,-1,0,0],[-1,0,0,-1,0,0],[-1,0,0,-1,0,0],[-1,0,0,1,0,0],[1,0,0,1,0,0],[1,0,-1,0,0,1],[1,0,-1,0,0,-1],[1,0,1,0,0,-1],[1,0,1,0,0,-1],[1,0,1,0,0,1],[1,0,-1,0,0,1],[-1,0,-1,0,0,1],[-1,0,-1,0,0,-1],[-1,0,1,0,0,-1],[-1,0,1,0,0,-1],[-1,0,1,0,0,1],[-1,0,-1,0,0,1],[0,1,1,0,0,0],[0,1,-1,0,0,0],[0,-1,-1,0,0,0],[0,-1,-1,0,0,0],[0,1,1,0,0,0],[0,-1,1,0,0,0],[0,1,0,-1,1,0],[0,1,0,-1,-1,0],[0,1,0,1,-1,0],[0,1,0,1,1,0],[0,1,0,-1,1,0],[0,1,0,1,-1,0],[0,-1,0,-1,1,0],[0,-1,0,-1,-1,0],[0,-1,0,1,-1,0],[0,-1,0,1,1,0],[0,-1,0,-1,1,0],[0,-1,0,1,-1,0]],c=n.prototype;c.draw=function(){var t=[1,0,0,0,1,0,0,0,1],e=[1,1];return function(){var r=this.plot,n=this.shader,i=this.buffer,o=this.bounds,a=this.numPoints;if(a){var s=r.gl,l=r.dataBox,c=r.viewBox,h=r.pixelRatio,f=o[2]-o[0],d=o[3]-o[1],p=l[2]-l[0],v=l[3]-l[1];t[0]=2*f/p,t[4]=2*d/v,t[6]=2*(o[0]-l[0])/p-1,t[7]=2*(o[1]-l[1])/v-1;var m=c[2]-c[0],g=c[3]-c[1];e[0]=2*h/m,e[1]=2*h/g,i.bind(),n.bind(),n.uniforms.viewTransform=t,n.uniforms.pixelScale=e,n.uniforms.color=this.color,n.attributes.position.pointer(s.FLOAT,!1,16,0),n.attributes.pixelOffset.pointer(s.FLOAT,!1,16,8),s.drawArrays(s.TRIANGLES,0,a*u.length)}}}(),c.drawPick=function(t){return t},c.pick=function(t,e){return null},c.update=function(t){t=t||{};var e,r,n,i=t.positions||[],o=t.errors||[],a=1;\\\\\"lineWidth\\\\\"in t&&(a=+t.lineWidth);var l=5;\\\\\"capSize\\\\\"in t&&(l=+t.capSize),this.color=(t.color||[0,0,0,1]).slice();var c=this.bounds=[1/0,1/0,-(1/0),-(1/0)],h=this.numPoints=i.length>>1;for(e=0;h>e;++e)r=i[2*e],n=i[2*e+1],c[0]=Math.min(r,c[0]),c[1]=Math.min(n,c[1]),c[2]=Math.max(r,c[2]),c[3]=Math.max(n,c[3]);c[2]===c[0]&&(c[2]+=1),c[3]===c[1]&&(c[3]+=1);var f=1/(c[2]-c[0]),d=1/(c[3]-c[1]),p=c[0],v=c[1],m=s.mallocFloat32(h*u.length*4),g=0;for(e=0;h>e;++e){r=i[2*e],n=i[2*e+1];for(var y=o[4*e],b=o[4*e+1],x=o[4*e+2],_=o[4*e+3],w=0;w<u.length;++w){var M=u[w],k=M[0],A=M[1];0>k?k*=y:k>0&&(k*=b),0>A?A*=x:A>0&&(A*=_),m[g++]=f*(r-p+k),m[g++]=d*(n-v+A),m[g++]=a*M[2]+(l+a)*M[4],m[g++]=a*M[3]+(l+a)*M[5]}}this.buffer.update(m),s.free(m)},c.dispose=function(){this.plot.removeObject(this),this.shader.dispose(),this.buffer.dispose()}},{\\\\\"./lib/shaders\\\\\":126,\\\\\"gl-buffer\\\\\":124,\\\\\"gl-shader\\\\\":203,\\\\\"typedarray-pool\\\\\":458}],126:[function(t,e,r){e.exports={vertex:\\\\\"precision mediump float;\\\\\\\\n#define GLSLIFY 1\\\\\\\\n\\\\\\\\nattribute vec2 position;\\\\\\\\nattribute vec2 pixelOffset;\\\\\\\\n\\\\\\\\nuniform mat3 viewTransform;\\\\\\\\nuniform vec2 pixelScale;\\\\\\\\n\\\\\\\\nvoid main() {\\\\\\\\n  vec3 scrPosition = viewTransform * vec3(position, 1);\\\\\\\\n  gl_Position = vec4(\\\\\\\\n    scrPosition.xy + scrPosition.z * pixelScale * pixelOffset,\\\\\\\\n    0,\\\\\\\\n    scrPosition.z);\\\\\\\\n}\\\\\\\\n\\\\\",fragment:\\\\\"precision mediump float;\\\\\\\\n#define GLSLIFY 1\\\\\\\\n\\\\\\\\nuniform vec4 color;\\\\\\\\n\\\\\\\\nvoid main() {\\\\\\\\n  gl_FragColor = vec4(color.rgb * color.a, color.a);\\\\\\\\n}\\\\\\\\n\\\\\"}},{}],127:[function(t,e,r){\\\\\"use strict\\\\\";function n(t,e,r,n){this.gl=t,this.shader=n,this.buffer=e,this.vao=r,this.pixelRatio=1,this.bounds=[[1/0,1/0,1/0],[-(1/0),-(1/0),-(1/0)]],this.clipBounds=[[-(1/0),-(1/0),-(1/0)],[1/0,1/0,1/0]],this.lineWidth=[1,1,1],this.capSize=[10,10,10],this.lineCount=[0,0,0],this.lineOffset=[0,0,0],this.opacity=1}function i(t,e){for(var r=0;3>r;++r)t[0][r]=Math.min(t[0][r],e[r]),t[1][r]=Math.max(t[1][r],e[r])}function o(t,e,r,n){for(var i=f[n],o=0;o<i.length;++o){var a=i[o];t.push(e[0],e[1],e[2],r[0],r[1],r[2],r[3],a[0],a[1],a[2])}return i.length}function a(t){var e=t.gl,r=s(e),i=l(e,[{buffer:r,type:e.FLOAT,size:3,offset:0,stride:40},{buffer:r,type:e.FLOAT,size:4,offset:12,stride:40},{buffer:r,type:e.FLOAT,size:3,offset:28,stride:40}]),o=u(e);o.attributes.position.location=0,o.attributes.color.location=1,o.attributes.offset.location=2;var a=new n(e,r,i,o);return a.update(t),a}e.exports=a;var s=t(\\\\\"gl-buffer\\\\\"),l=t(\\\\\"gl-vao\\\\\"),u=t(\\\\\"./shaders/index\\\\\"),c=[1,0,0,0,0,1,0,0,0,0,1,0,0,0,0,1],h=n.prototype;h.isOpaque=function(){return this.opacity>=1},h.isTransparent=function(){return this.opacity<1},h.drawTransparent=h.draw=function(t){var e=this.gl,r=this.shader.uniforms;this.shader.bind();var n=r.view=t.view||c,i=r.projection=t.projection||c;r.model=t.model||c,r.clipBounds=this.clipBounds,r.opacity=this.opacity;var o=n[12],a=n[13],s=n[14],l=n[15],u=this.pixelRatio*(i[3]*o+i[7]*a+i[11]*s+i[15]*l)/e.drawingBufferHeight;this.vao.bind();for(var h=0;3>h;++h)e.lineWidth(this.lineWidth[h]),r.capSize=this.capSize[h]*u,e.drawArrays(e.LINES,this.lineOffset[h],this.lineCount[h]);this.vao.unbind()};var f=function(){for(var t=new Array(3),e=0;3>e;++e){for(var r=[],n=1;2>=n;++n)for(var i=-1;1>=i;i+=2){var o=(n+e)%3,a=[0,0,0];a[o]=i,r.push(a)}t[e]=r}return t}();h.update=function(t){t=t||{},\\\\\"lineWidth\\\\\"in t&&(this.lineWidth=t.lineWidth,Array.isArray(this.lineWidth)||(this.lineWidth=[this.lineWidth,this.lineWidth,this.lineWidth])),\\\\\"capSize\\\\\"in t&&(this.capSize=t.capSize,Array.isArray(this.capSize)||(this.capSize=[this.capSize,this.capSize,this.capSize])),\\\\\"opacity\\\\\"in t&&(this.opacity=t.opacity);var e=t.color||[[0,0,0],[0,0,0],[0,0,0]],r=t.position,n=t.error;if(Array.isArray(e[0])||(e=[e,e,e]),r&&n){var a=[],s=r.length,l=0;this.bounds=[[1/0,1/0,1/0],[-(1/0),-(1/0),-(1/0)]],this.lineCount=[0,0,0];for(var u=0;3>u;++u){this.lineOffset[u]=l;t:for(var c=0;s>c;++c){for(var h=r[c],f=0;3>f;++f)if(isNaN(h[f])||!isFinite(h[f]))continue t;var d=n[c],p=e[u];if(Array.isArray(p[0])&&(p=e[c]),3===p.length&&(p=[p[0],p[1],p[2],1]),!isNaN(d[0][u])&&!isNaN(d[1][u])){if(d[0][u]<0){var v=h.slice();v[u]+=d[0][u],a.push(h[0],h[1],h[2],p[0],p[1],p[2],p[3],0,0,0,v[0],v[1],v[2],p[0],p[1],p[2],p[3],0,0,0),i(this.bounds,v),l+=2+o(a,v,p,u)}if(d[1][u]>0){var v=h.slice();v[u]+=d[1][u],a.push(h[0],h[1],h[2],p[0],p[1],p[2],p[3],0,0,0,v[0],v[1],v[2],p[0],p[1],p[2],p[3],0,0,0),i(this.bounds,v),l+=2+o(a,v,p,u)}}}this.lineCount[u]=l-this.lineOffset[u]}this.buffer.update(a)}},h.dispose=function(){this.shader.dispose(),this.buffer.dispose(),this.vao.dispose()}},{\\\\\"./shaders/index\\\\\":128,\\\\\"gl-buffer\\\\\":124,\\\\\"gl-vao\\\\\":232}],128:[function(t,e,r){\\\\\"use strict\\\\\";var n=t(\\\\\"gl-shader\\\\\"),i=\\\\\"precision mediump float;\\\\\\\\n#define GLSLIFY 1\\\\\\\\n\\\\\\\\nattribute vec3 position, offset;\\\\\\\\nattribute vec4 color;\\\\\\\\nuniform mat4 model, view, projection;\\\\\\\\nuniform float capSize;\\\\\\\\nvarying vec4 fragColor;\\\\\\\\nvarying vec3 fragPosition;\\\\\\\\n\\\\\\\\nvoid main() {\\\\\\\\n  vec4 worldPosition  = model * vec4(position, 1.0);\\\\\\\\n  worldPosition       = (worldPosition / worldPosition.w) + vec4(capSize * offset, 0.0);\\\\\\\\n  gl_Position         = projection * view * worldPosition;\\\\\\\\n  fragColor           = color;\\\\\\\\n  fragPosition        = position;\\\\\\\\n}\\\\\",o=\\\\\"precision mediump float;\\\\\\\\n#define GLSLIFY 1\\\\\\\\nuniform vec3 clipBounds[2];\\\\\\\\nuniform float opacity;\\\\\\\\nvarying vec3 fragPosition;\\\\\\\\nvarying vec4 fragColor;\\\\\\\\n\\\\\\\\nvoid main() {\\\\\\\\n  if(any(lessThan(fragPosition, clipBounds[0])) || any(greaterThan(fragPosition, clipBounds[1]))) {\\\\\\\\n    discard;\\\\\\\\n  }\\\\\\\\n  gl_FragColor = opacity * fragColor;\\\\\\\\n}\\\\\";e.exports=function(t){return n(t,i,o,null,[{name:\\\\\"position\\\\\",type:\\\\\"vec3\\\\\"},{name:\\\\\"offset\\\\\",type:\\\\\"vec3\\\\\"},{name:\\\\\"color\\\\\",type:\\\\\"vec4\\\\\"}])}},{\\\\\"gl-shader\\\\\":203}],129:[function(t,e,r){\\\\\"use strict\\\\\";function n(t){var e=t.getParameter(t.FRAMEBUFFER_BINDING),r=t.getParameter(t.RENDERBUFFER_BINDING),n=t.getParameter(t.TEXTURE_BINDING_2D);return[e,r,n]}function i(t,e){t.bindFramebuffer(t.FRAMEBUFFER,e[0]),t.bindRenderbuffer(t.RENDERBUFFER,e[1]),t.bindTexture(t.TEXTURE_2D,e[2])}function o(t,e){var r=t.getParameter(e.MAX_COLOR_ATTACHMENTS_WEBGL);y=new Array(r+1);for(var n=0;r>=n;++n){for(var i=new Array(r),o=0;n>o;++o)i[o]=t.COLOR_ATTACHMENT0+o;for(var o=n;r>o;++o)i[o]=t.NONE;y[n]=i}}function a(t){switch(t){case p:throw new Error(\\\\\"gl-fbo: Framebuffer unsupported\\\\\");case v:throw new Error(\\\\\"gl-fbo: Framebuffer incomplete attachment\\\\\");case m:throw new Error(\\\\\"gl-fbo: Framebuffer incomplete dimensions\\\\\");case g:throw new Error(\\\\\"gl-fbo: Framebuffer incomplete missing attachment\\\\\");default:throw new Error(\\\\\"gl-fbo: Framebuffer failed for unspecified reason\\\\\")}}function s(t,e,r,n,i,o){if(!n)return null;var a=d(t,e,r,i,n);return a.magFilter=t.NEAREST,a.minFilter=t.NEAREST,a.mipSamples=1,a.bind(),t.framebufferTexture2D(t.FRAMEBUFFER,o,t.TEXTURE_2D,a.handle,0),a}function l(t,e,r,n,i){var o=t.createRenderbuffer();return t.bindRenderbuffer(t.RENDERBUFFER,o),t.renderbufferStorage(t.RENDERBUFFER,n,e,r),t.framebufferRenderbuffer(t.FRAMEBUFFER,i,t.RENDERBUFFER,o),o}function u(t){var e=n(t.gl),r=t.gl,o=t.handle=r.createFramebuffer(),u=t._shape[0],c=t._shape[1],h=t.color.length,f=t._ext,d=t._useStencil,p=t._useDepth,v=t._colorType;r.bindFramebuffer(r.FRAMEBUFFER,o);for(var m=0;h>m;++m)t.color[m]=s(r,u,c,v,r.RGBA,r.COLOR_ATTACHMENT0+m);0===h?(t._color_rb=l(r,u,c,r.RGBA4,r.COLOR_ATTACHMENT0),f&&f.drawBuffersWEBGL(y[0])):h>1&&f.drawBuffersWEBGL(y[h]);var g=r.getExtension(\\\\\"WEBGL_depth_texture\\\\\");g?d?t.depth=s(r,u,c,g.UNSIGNED_INT_24_8_WEBGL,r.DEPTH_STENCIL,r.DEPTH_STENCIL_ATTACHMENT):p&&(t.depth=s(r,u,c,r.UNSIGNED_SHORT,r.DEPTH_COMPONENT,r.DEPTH_ATTACHMENT)):p&&d?t._depth_rb=l(r,u,c,r.DEPTH_STENCIL,r.DEPTH_STENCIL_ATTACHMENT):p?t._depth_rb=l(r,u,c,r.DEPTH_COMPONENT16,r.DEPTH_ATTACHMENT):d&&(t._depth_rb=l(r,u,c,r.STENCIL_INDEX,r.STENCIL_ATTACHMENT));var b=r.checkFramebufferStatus(r.FRAMEBUFFER);if(b!==r.FRAMEBUFFER_COMPLETE){t._destroyed=!0,r.bindFramebuffer(r.FRAMEBUFFER,null),r.deleteFramebuffer(t.handle),t.handle=null,t.depth&&(t.depth.dispose(),t.depth=null),t._depth_rb&&(r.deleteRenderbuffer(t._depth_rb),t._depth_rb=null);for(var m=0;m<t.color.length;++m)t.color[m].dispose(),t.color[m]=null;t._color_rb&&(r.deleteRenderbuffer(t._color_rb),t._color_rb=null),i(r,e),a(b)}i(r,e)}function c(t,e,r,n,i,o,a,s){this.gl=t,this._shape=[0|e,0|r],this._destroyed=!1,this._ext=s,this.color=new Array(i);for(var l=0;i>l;++l)this.color[l]=null;this._color_rb=null,this.depth=null,this._depth_rb=null,this._colorType=n,this._useDepth=o,this._useStencil=a;var c=this,h=[0|e,0|r];Object.defineProperties(h,{0:{get:function(){return c._shape[0]},set:function(t){return c.width=t}},1:{get:function(){return c._shape[1]},set:function(t){return c.height=t}}}),this._shapeVector=h,u(this)}function h(t,e,r){if(t._destroyed)throw new Error(\\\\\"gl-fbo: Can\\'t resize destroyed FBO\\\\\");if(t._shape[0]!==e||t._shape[1]!==r){var o=t.gl,s=o.getParameter(o.MAX_RENDERBUFFER_SIZE);if(0>e||e>s||0>r||r>s)throw new Error(\\\\\"gl-fbo: Can\\'t resize FBO, invalid dimensions\\\\\");t._shape[0]=e,t._shape[1]=r;for(var l=n(o),u=0;u<t.color.length;++u)t.color[u].shape=t._shape;t._color_rb&&(o.bindRenderbuffer(o.RENDERBUFFER,t._color_rb),o.renderbufferStorage(o.RENDERBUFFER,o.RGBA4,t._shape[0],t._shape[1])),t.depth&&(t.depth.shape=t._shape),t._depth_rb&&(o.bindRenderbuffer(o.RENDERBUFFER,t._depth_rb),t._useDepth&&t._useStencil?o.renderbufferStorage(o.RENDERBUFFER,o.DEPTH_STENCIL,t._shape[0],t._shape[1]):t._useDepth?o.renderbufferStorage(o.RENDERBUFFER,o.DEPTH_COMPONENT16,t._shape[0],t._shape[1]):t._useStencil&&o.renderbufferStorage(o.RENDERBUFFER,o.STENCIL_INDEX,t._shape[0],t._shape[1])),o.bindFramebuffer(o.FRAMEBUFFER,t.handle);var c=o.checkFramebufferStatus(o.FRAMEBUFFER);c!==o.FRAMEBUFFER_COMPLETE&&(t.dispose(),i(o,l),a(c)),i(o,l)}}function f(t,e,r,n){p||(p=t.FRAMEBUFFER_UNSUPPORTED,v=t.FRAMEBUFFER_INCOMPLETE_ATTACHMENT,m=t.FRAMEBUFFER_INCOMPLETE_DIMENSIONS,g=t.FRAMEBUFFER_INCOMPLETE_MISSING_ATTACHMENT);var i=t.getExtension(\\\\\"WEBGL_draw_buffers\\\\\");if(!y&&i&&o(t,i),Array.isArray(e)&&(n=r,r=0|e[1],e=0|e[0]),\\\\\"number\\\\\"!=typeof e)throw new Error(\\\\\"gl-fbo: Missing shape parameter\\\\\");var a=t.getParameter(t.MAX_RENDERBUFFER_SIZE);if(0>e||e>a||0>r||r>a)throw new Error(\\\\\"gl-fbo: Parameters are too large for FBO\\\\\");n=n||{};var s=1;if(\\\\\"color\\\\\"in n){if(s=Math.max(0|n.color,0),0>s)throw new Error(\\\\\"gl-fbo: Must specify a nonnegative number of colors\\\\\");if(s>1){if(!i)throw new Error(\\\\\"gl-fbo: Multiple draw buffer extension not supported\\\\\");if(s>t.getParameter(i.MAX_COLOR_ATTACHMENTS_WEBGL))throw new Error(\\\\\"gl-fbo: Context does not support \\\\\"+s+\\\\\" draw buffers\\\\\")}}var l=t.UNSIGNED_BYTE,u=t.getExtension(\\\\\"OES_texture_float\\\\\");if(n.float&&s>0){if(!u)throw new Error(\\\\\"gl-fbo: Context does not support floating point textures\\\\\");l=t.FLOAT}else n.preferFloat&&s>0&&u&&(l=t.FLOAT);var h=!0;\\\\\"depth\\\\\"in n&&(h=!!n.depth);var f=!1;return\\\\\"stencil\\\\\"in n&&(f=!!n.stencil),new c(t,e,r,l,s,h,f,i)}var d=t(\\\\\"gl-texture2d\\\\\");e.exports=f;var p,v,m,g,y=null,b=c.prototype;Object.defineProperties(b,{shape:{get:function(){return this._destroyed?[0,0]:this._shapeVector},set:function(t){if(Array.isArray(t)||(t=[0|t,0|t]),2!==t.length)throw new Error(\\\\\"gl-fbo: Shape vector must be length 2\\\\\");var e=0|t[0],r=0|t[1];return h(this,e,r),[e,r]},enumerable:!1},width:{get:function(){return this._destroyed?0:this._shape[0]},set:function(t){return t=0|t,h(this,t,this._shape[1]),t},enumerable:!1},height:{get:function(){return this._destroyed?0:this._shape[1]},set:function(t){return t=0|t,h(this,this._shape[0],t),t},enumerable:!1}}),b.bind=function(){if(!this._destroyed){var t=this.gl;t.bindFramebuffer(t.FRAMEBUFFER,this.handle),t.viewport(0,0,this._shape[0],this._shape[1])}},b.dispose=function(){if(!this._destroyed){this._destroyed=!0;var t=this.gl;t.deleteFramebuffer(this.handle),this.handle=null,this.depth&&(this.depth.dispose(),this.depth=null),this._depth_rb&&(t.deleteRenderbuffer(this._depth_rb),this._depth_rb=null);for(var e=0;e<this.color.length;++e)this.color[e].dispose(),this.color[e]=null;this._color_rb&&(t.deleteRenderbuffer(this._color_rb),this._color_rb=null)}}},{\\\\\"gl-texture2d\\\\\":228}],130:[function(t,e,r){r.lineVertex=\\\\\"precision mediump float;\\\\\\\\n#define GLSLIFY 1\\\\\\\\n\\\\\\\\nfloat inverse_1_0(float m) {\\\\\\\\n  return 1.0 / m;\\\\\\\\n}\\\\\\\\n\\\\\\\\nmat2 inverse_1_0(mat2 m) {\\\\\\\\n  return mat2(m[1][1],-m[0][1],\\\\\\\\n             -m[1][0], m[0][0]) / (m[0][0]*m[1][1] - m[0][1]*m[1][0]);\\\\\\\\n}\\\\\\\\n\\\\\\\\nmat3 inverse_1_0(mat3 m) {\\\\\\\\n  float a00 = m[0][0], a01 = m[0][1], a02 = m[0][2];\\\\\\\\n  float a10 = m[1][0], a11 = m[1][1], a12 = m[1][2];\\\\\\\\n  float a20 = m[2][0], a21 = m[2][1], a22 = m[2][2];\\\\\\\\n\\\\\\\\n  float b01 = a22 * a11 - a12 * a21;\\\\\\\\n  float b11 = -a22 * a10 + a12 * a20;\\\\\\\\n  float b21 = a21 * a10 - a11 * a20;\\\\\\\\n\\\\\\\\n  float det = a00 * b01 + a01 * b11 + a02 * b21;\\\\\\\\n\\\\\\\\n  return mat3(b01, (-a22 * a01 + a02 * a21), (a12 * a01 - a02 * a11),\\\\\\\\n              b11, (a22 * a00 - a02 * a20), (-a12 * a00 + a02 * a10),\\\\\\\\n              b21, (-a21 * a00 + a01 * a20), (a11 * a00 - a01 * a10)) / det;\\\\\\\\n}\\\\\\\\n\\\\\\\\nmat4 inverse_1_0(mat4 m) {\\\\\\\\n  float\\\\\\\\n      a00 = m[0][0], a01 = m[0][1], a02 = m[0][2], a03 = m[0][3],\\\\\\\\n      a10 = m[1][0], a11 = m[1][1], a12 = m[1][2], a13 = m[1][3],\\\\\\\\n      a20 = m[2][0], a21 = m[2][1], a22 = m[2][2], a23 = m[2][3],\\\\\\\\n      a30 = m[3][0], a31 = m[3][1], a32 = m[3][2], a33 = m[3][3],\\\\\\\\n\\\\\\\\n      b00 = a00 * a11 - a01 * a10,\\\\\\\\n      b01 = a00 * a12 - a02 * a10,\\\\\\\\n      b02 = a00 * a13 - a03 * a10,\\\\\\\\n      b03 = a01 * a12 - a02 * a11,\\\\\\\\n      b04 = a01 * a13 - a03 * a11,\\\\\\\\n      b05 = a02 * a13 - a03 * a12,\\\\\\\\n      b06 = a20 * a31 - a21 * a30,\\\\\\\\n      b07 = a20 * a32 - a22 * a30,\\\\\\\\n      b08 = a20 * a33 - a23 * a30,\\\\\\\\n      b09 = a21 * a32 - a22 * a31,\\\\\\\\n      b10 = a21 * a33 - a23 * a31,\\\\\\\\n      b11 = a22 * a33 - a23 * a32,\\\\\\\\n\\\\\\\\n      det = b00 * b11 - b01 * b10 + b02 * b09 + b03 * b08 - b04 * b07 + b05 * b06;\\\\\\\\n\\\\\\\\n  return mat4(\\\\\\\\n      a11 * b11 - a12 * b10 + a13 * b09,\\\\\\\\n      a02 * b10 - a01 * b11 - a03 * b09,\\\\\\\\n      a31 * b05 - a32 * b04 + a33 * b03,\\\\\\\\n      a22 * b04 - a21 * b05 - a23 * b03,\\\\\\\\n      a12 * b08 - a10 * b11 - a13 * b07,\\\\\\\\n      a00 * b11 - a02 * b08 + a03 * b07,\\\\\\\\n      a32 * b02 - a30 * b05 - a33 * b01,\\\\\\\\n      a20 * b05 - a22 * b02 + a23 * b01,\\\\\\\\n      a10 * b10 - a11 * b08 + a13 * b06,\\\\\\\\n      a01 * b08 - a00 * b10 - a03 * b06,\\\\\\\\n      a30 * b04 - a31 * b02 + a33 * b00,\\\\\\\\n      a21 * b02 - a20 * b04 - a23 * b00,\\\\\\\\n      a11 * b07 - a10 * b09 - a12 * b06,\\\\\\\\n      a00 * b09 - a01 * b07 + a02 * b06,\\\\\\\\n      a31 * b01 - a30 * b03 - a32 * b00,\\\\\\\\n      a20 * b03 - a21 * b01 + a22 * b00) / det;\\\\\\\\n}\\\\\\\\n\\\\\\\\n\\\\\\\\n\\\\\\\\nattribute vec2 a, d;\\\\\\\\n\\\\\\\\nuniform mat3 matrix;\\\\\\\\nuniform vec2 screenShape;\\\\\\\\nuniform float width;\\\\\\\\n\\\\\\\\nvarying vec2 direction;\\\\\\\\n\\\\\\\\nvoid main() {\\\\\\\\n  vec2 dir = (matrix * vec3(d, 0)).xy;\\\\\\\\n  vec3 base = matrix * vec3(a, 1);\\\\\\\\n  vec2 n = 0.5 * width *\\\\\\\\n    normalize(screenShape.yx * vec2(dir.y, -dir.x)) / screenShape.xy;\\\\\\\\n  vec2 tangent = normalize(screenShape.xy * dir);\\\\\\\\n  if(dir.x < 0.0 || (dir.x == 0.0 && dir.y < 0.0)) {\\\\\\\\n    direction = -tangent;\\\\\\\\n  } else {\\\\\\\\n    direction = tangent;\\\\\\\\n  }\\\\\\\\n  gl_Position = vec4(base.xy/base.z + n, 0, 1);\\\\\\\\n}\\\\\\\\n\\\\\",r.lineFragment=\\\\\"precision mediump float;\\\\\\\\n#define GLSLIFY 1\\\\\\\\n\\\\\\\\nuniform vec4 color;\\\\\\\\nuniform vec2 screenShape;\\\\\\\\nuniform sampler2D dashPattern;\\\\\\\\nuniform float dashLength;\\\\\\\\n\\\\\\\\nvarying vec2 direction;\\\\\\\\n\\\\\\\\nvoid main() {\\\\\\\\n  float t = fract(dot(direction, gl_FragCoord.xy) / dashLength);\\\\\\\\n  vec4 pcolor = color * texture2D(dashPattern, vec2(t, 0.0)).r;\\\\\\\\n  gl_FragColor = vec4(pcolor.rgb * pcolor.a, pcolor.a);\\\\\\\\n}\\\\\\\\n\\\\\",r.mitreVertex=\\\\\"precision mediump float;\\\\\\\\n#define GLSLIFY 1\\\\\\\\n\\\\\\\\nattribute vec2 p;\\\\\\\\n\\\\\\\\nuniform mat3  matrix;\\\\\\\\nuniform vec2 screenShape;\\\\\\\\nuniform float radius;\\\\\\\\n\\\\\\\\nvoid main() {\\\\\\\\n  vec3 pp = matrix * vec3(p, 1);\\\\\\\\n  gl_Position  = vec4(pp.xy, 0, pp.z);\\\\\\\\n  gl_PointSize = radius;\\\\\\\\n}\\\\\\\\n\\\\\",r.mitreFragment=\\\\\"precision mediump float;\\\\\\\\n#define GLSLIFY 1\\\\\\\\n\\\\\\\\nuniform vec4 color;\\\\\\\\n\\\\\\\\nvoid main() {\\\\\\\\n  if(length(gl_PointCoord.xy - 0.5) > 0.25) {\\\\\\\\n    discard;\\\\\\\\n  }\\\\\\\\n  gl_FragColor = vec4(color.rgb, color.a);\\\\\\\\n}\\\\\\\\n\\\\\",r.pickVertex=\\\\\"precision mediump float;\\\\\\\\n#define GLSLIFY 1\\\\\\\\n\\\\\\\\nattribute vec2 a, d;\\\\\\\\nattribute vec4 pick0, pick1;\\\\\\\\n\\\\\\\\nuniform mat3 matrix;\\\\\\\\nuniform vec2 screenShape;\\\\\\\\nuniform float width;\\\\\\\\n\\\\\\\\nvarying vec4 pickA, pickB;\\\\\\\\n\\\\\\\\nfloat inverse_1_0(float m) {\\\\\\\\n  return 1.0 / m;\\\\\\\\n}\\\\\\\\n\\\\\\\\nmat2 inverse_1_0(mat2 m) {\\\\\\\\n  return mat2(m[1][1],-m[0][1],\\\\\\\\n             -m[1][0], m[0][0]) / (m[0][0]*m[1][1] - m[0][1]*m[1][0]);\\\\\\\\n}\\\\\\\\n\\\\\\\\nmat3 inverse_1_0(mat3 m) {\\\\\\\\n  float a00 = m[0][0], a01 = m[0][1], a02 = m[0][2];\\\\\\\\n  float a10 = m[1][0], a11 = m[1][1], a12 = m[1][2];\\\\\\\\n  float a20 = m[2][0], a21 = m[2][1], a22 = m[2][2];\\\\\\\\n\\\\\\\\n  float b01 = a22 * a11 - a12 * a21;\\\\\\\\n  float b11 = -a22 * a10 + a12 * a20;\\\\\\\\n  float b21 = a21 * a10 - a11 * a20;\\\\\\\\n\\\\\\\\n  float det = a00 * b01 + a01 * b11 + a02 * b21;\\\\\\\\n\\\\\\\\n  return mat3(b01, (-a22 * a01 + a02 * a21), (a12 * a01 - a02 * a11),\\\\\\\\n              b11, (a22 * a00 - a02 * a20), (-a12 * a00 + a02 * a10),\\\\\\\\n              b21, (-a21 * a00 + a01 * a20), (a11 * a00 - a01 * a10)) / det;\\\\\\\\n}\\\\\\\\n\\\\\\\\nmat4 inverse_1_0(mat4 m) {\\\\\\\\n  float\\\\\\\\n      a00 = m[0][0], a01 = m[0][1], a02 = m[0][2], a03 = m[0][3],\\\\\\\\n      a10 = m[1][0], a11 = m[1][1], a12 = m[1][2], a13 = m[1][3],\\\\\\\\n      a20 = m[2][0], a21 = m[2][1], a22 = m[2][2], a23 = m[2][3],\\\\\\\\n      a30 = m[3][0], a31 = m[3][1], a32 = m[3][2], a33 = m[3][3],\\\\\\\\n\\\\\\\\n      b00 = a00 * a11 - a01 * a10,\\\\\\\\n      b01 = a00 * a12 - a02 * a10,\\\\\\\\n      b02 = a00 * a13 - a03 * a10,\\\\\\\\n      b03 = a01 * a12 - a02 * a11,\\\\\\\\n      b04 = a01 * a13 - a03 * a11,\\\\\\\\n      b05 = a02 * a13 - a03 * a12,\\\\\\\\n      b06 = a20 * a31 - a21 * a30,\\\\\\\\n      b07 = a20 * a32 - a22 * a30,\\\\\\\\n      b08 = a20 * a33 - a23 * a30,\\\\\\\\n      b09 = a21 * a32 - a22 * a31,\\\\\\\\n      b10 = a21 * a33 - a23 * a31,\\\\\\\\n      b11 = a22 * a33 - a23 * a32,\\\\\\\\n\\\\\\\\n      det = b00 * b11 - b01 * b10 + b02 * b09 + b03 * b08 - b04 * b07 + b05 * b06;\\\\\\\\n\\\\\\\\n  return mat4(\\\\\\\\n      a11 * b11 - a12 * b10 + a13 * b09,\\\\\\\\n      a02 * b10 - a01 * b11 - a03 * b09,\\\\\\\\n      a31 * b05 - a32 * b04 + a33 * b03,\\\\\\\\n      a22 * b04 - a21 * b05 - a23 * b03,\\\\\\\\n      a12 * b08 - a10 * b11 - a13 * b07,\\\\\\\\n      a00 * b11 - a02 * b08 + a03 * b07,\\\\\\\\n      a32 * b02 - a30 * b05 - a33 * b01,\\\\\\\\n      a20 * b05 - a22 * b02 + a23 * b01,\\\\\\\\n      a10 * b10 - a11 * b08 + a13 * b06,\\\\\\\\n      a01 * b08 - a00 * b10 - a03 * b06,\\\\\\\\n      a30 * b04 - a31 * b02 + a33 * b00,\\\\\\\\n      a21 * b02 - a20 * b04 - a23 * b00,\\\\\\\\n      a11 * b07 - a10 * b09 - a12 * b06,\\\\\\\\n      a00 * b09 - a01 * b07 + a02 * b06,\\\\\\\\n      a31 * b01 - a30 * b03 - a32 * b00,\\\\\\\\n      a20 * b03 - a21 * b01 + a22 * b00) / det;\\\\\\\\n}\\\\\\\\n\\\\\\\\n\\\\\\\\n\\\\\\\\nvoid main() {\\\\\\\\n  vec3 base = matrix * vec3(a, 1);\\\\\\\\n  vec2 n = width *\\\\\\\\n    normalize(screenShape.yx * vec2(d.y, -d.x)) / screenShape.xy;\\\\\\\\n  gl_Position = vec4(base.xy/base.z + n, 0, 1);\\\\\\\\n  pickA = pick0;\\\\\\\\n  pickB = pick1;\\\\\\\\n}\\\\\\\\n\\\\\",r.pickFragment=\\\\\"precision mediump float;\\\\\\\\n#define GLSLIFY 1\\\\\\\\n\\\\\\\\nuniform vec4 pickOffset;\\\\\\\\n\\\\\\\\nvarying vec4 pickA, pickB;\\\\\\\\n\\\\\\\\nvoid main() {\\\\\\\\n  vec4 fragId = vec4(pickA.xyz, 0.0);\\\\\\\\n  if(pickB.w > pickA.w) {\\\\\\\\n    fragId.xyz = pickB.xyz;\\\\\\\\n  }\\\\\\\\n\\\\\\\\n  fragId += pickOffset;\\\\\\\\n\\\\\\\\n  fragId.y += floor(fragId.x / 256.0);\\\\\\\\n  fragId.x -= floor(fragId.x / 256.0) * 256.0;\\\\\\\\n\\\\\\\\n  fragId.z += floor(fragId.y / 256.0);\\\\\\\\n  fragId.y -= floor(fragId.y / 256.0) * 256.0;\\\\\\\\n\\\\\\\\n  fragId.w += floor(fragId.z / 256.0);\\\\\\\\n  fragId.z -= floor(fragId.z / 256.0) * 256.0;\\\\\\\\n\\\\\\\\n  gl_FragColor = fragId / 255.0;\\\\\\\\n}\\\\\\\\n\\\\\",r.fillVertex=\\\\\"precision mediump float;\\\\\\\\n#define GLSLIFY 1\\\\\\\\n\\\\\\\\nattribute vec2 a, d;\\\\\\\\n\\\\\\\\nuniform mat3 matrix;\\\\\\\\nuniform vec2 projectAxis;\\\\\\\\nuniform float projectValue;\\\\\\\\nuniform float depth;\\\\\\\\n\\\\\\\\nvoid main() {\\\\\\\\n  vec3 base = matrix * vec3(a, 1);\\\\\\\\n  vec2 p = base.xy / base.z;\\\\\\\\n  if(d.y < 0.0 || (d.y == 0.0 && d.x < 0.0)) {\\\\\\\\n    if(dot(p, projectAxis) < projectValue) {\\\\\\\\n      p = p * (1.0 - abs(projectAxis)) + projectAxis * projectValue;\\\\\\\\n    }\\\\\\\\n  }\\\\\\\\n  gl_Position = vec4(p, depth, 1);\\\\\\\\n}\\\\\\\\n\\\\\",r.fillFragment=\\\\\"precision mediump float;\\\\\\\\n#define GLSLIFY 1\\\\\\\\n\\\\\\\\nuniform vec4 color;\\\\\\\\n\\\\\\\\nvoid main() {\\\\\\\\n  gl_FragColor = vec4(color.rgb * color.a, color.a);\\\\\\\\n}\\\\\\\\n\\\\\";\\\\n\",'"
      ]
     },
     "execution_count": 133,
     "metadata": {},
     "output_type": "execute_result"
    }
   ],
   "source": [
    "t = [x for x in cmd_out_3 if len(x)>100 ]\n",
    "t[1]"
   ]
  },
  {
   "cell_type": "code",
   "execution_count": 56,
   "metadata": {
    "collapsed": false
   },
   "outputs": [
    {
     "name": "stdout",
     "output_type": "stream",
     "text": [
      "[9, 16, 25, 36, 49]\n"
     ]
    }
   ],
   "source": [
    "squares = map(lambda x: x**2, range(10))\n",
    "special_squares = list(filter(lambda x: x > 5 and x < 50, squares))\n",
    "print(special_squares)"
   ]
  },
  {
   "cell_type": "code",
   "execution_count": 53,
   "metadata": {
    "collapsed": false
   },
   "outputs": [
    {
     "data": {
      "text/plain": [
       "'Seaborn/Matrix Plots.ipynb:    \"import seaborn as sns\\\\n\",'"
      ]
     },
     "execution_count": 53,
     "metadata": {},
     "output_type": "execute_result"
    }
   ],
   "source": [
    "cmd_out[0]"
   ]
  },
  {
   "cell_type": "code",
   "execution_count": 13,
   "metadata": {
    "collapsed": false
   },
   "outputs": [
    {
     "data": {
      "text/plain": [
       "'/home/manavee/Dropbox/DataDoNotSync/Python-Data-Science-and-Machine-Learning-Bootcamp_/Python-for-Data-Visualization'"
      ]
     },
     "execution_count": 13,
     "metadata": {},
     "output_type": "execute_result"
    }
   ],
   "source": [
    "cwd"
   ]
  },
  {
   "cell_type": "code",
   "execution_count": null,
   "metadata": {
    "collapsed": true
   },
   "outputs": [],
   "source": [
    "import os, sys\n",
    "\n",
    "# First go to the \"/var/www/html\" directory\n",
    "os.chdir(\"/var/www/html\" )\n",
    "\n",
    "# Print current working directory\n",
    "print \"Current working dir : %s\" % os.getcwd()\n",
    "\n",
    "# Now open a directory \"/tmp\"\n",
    "fd = os.open( \"/tmp\", os.O_RDONLY )\n",
    "\n",
    "# Use os.fchdir() method to change the dir\n",
    "os.fchdir(fd)\n",
    "\n",
    "# Print current working directory\n",
    "print \"Current working dir : %s\" % os.getcwd()\n",
    "\n",
    "# Close opened directory.\n",
    "os.close( fd )"
   ]
  }
 ],
 "metadata": {
  "kernelspec": {
   "display_name": "Python 3",
   "language": "python",
   "name": "python3"
  },
  "language_info": {
   "codemirror_mode": {
    "name": "ipython",
    "version": 3
   },
   "file_extension": ".py",
   "mimetype": "text/x-python",
   "name": "python",
   "nbconvert_exporter": "python",
   "pygments_lexer": "ipython3",
   "version": "3.6.0"
  }
 },
 "nbformat": 4,
 "nbformat_minor": 2
}
